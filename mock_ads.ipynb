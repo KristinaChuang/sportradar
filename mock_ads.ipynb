{
 "cells": [
  {
   "cell_type": "markdown",
   "id": "02326149-462a-447e-b121-9cf382f30a2f",
   "metadata": {},
   "source": [
    "# Local SqLite mock ads database to test queries"
   ]
  },
  {
   "cell_type": "code",
   "execution_count": 1,
   "id": "1c7cb5a0-f2bb-4702-8db9-d0a9f9465e4d",
   "metadata": {
    "tags": []
   },
   "outputs": [],
   "source": [
    "import sqlite3\n",
    "\n",
    "# create or connect to SQLite database\n",
    "\n",
    "conn = sqlite3.connect('ad_data.db')\n",
    "cursor = conn.cursor()"
   ]
  },
  {
   "cell_type": "code",
   "execution_count": 3,
   "id": "377e773f-f366-43cb-aa51-997faadc6b60",
   "metadata": {
    "tags": []
   },
   "outputs": [
    {
     "data": {
      "text/plain": [
       "<sqlite3.Cursor at 0x1102163c0>"
      ]
     },
     "execution_count": 3,
     "metadata": {},
     "output_type": "execute_result"
    }
   ],
   "source": [
    "# create impressions table\n",
    "\n",
    "cursor.execute('''\n",
    "CREATE TABLE IF NOT EXISTS impressions (\n",
    "    impression_id TEXT PRIMARY KEY,\n",
    "    url_address TEXT,\n",
    "    user_id TEXT,\n",
    "    request_country TEXT,\n",
    "    tracking_type TEXT,\n",
    "    dynamic_display BOOLEAN,\n",
    "    dynamic_display_variables TEXT,\n",
    "    request_browser_name TEXT,\n",
    "    timestamp DATE\n",
    ")\n",
    "''')\n"
   ]
  },
  {
   "cell_type": "code",
   "execution_count": 5,
   "id": "68961f7c-14f6-4941-88bc-5aa8125fc532",
   "metadata": {
    "tags": []
   },
   "outputs": [
    {
     "data": {
      "text/plain": [
       "<sqlite3.Cursor at 0x1102163c0>"
      ]
     },
     "execution_count": 5,
     "metadata": {},
     "output_type": "execute_result"
    }
   ],
   "source": [
    "# create clicks table\n",
    "\n",
    "cursor.execute('''\n",
    "CREATE TABLE IF NOT EXISTS clicks (\n",
    "    impression_id TEXT,\n",
    "    user_id TEXT,\n",
    "    timestamp DATE,\n",
    "    FOREIGN KEY (impression_id) REFERENCES impressions(impression_id)\n",
    ")\n",
    "''')\n"
   ]
  },
  {
   "cell_type": "code",
   "execution_count": 7,
   "id": "c85a99d9-0afa-4406-9325-fb1e0c01d214",
   "metadata": {
    "tags": []
   },
   "outputs": [
    {
     "data": {
      "text/plain": [
       "<sqlite3.Cursor at 0x1102163c0>"
      ]
     },
     "execution_count": 7,
     "metadata": {},
     "output_type": "execute_result"
    }
   ],
   "source": [
    "# create conversions table\n",
    "\n",
    "cursor.execute('''\n",
    "CREATE TABLE IF NOT EXISTS conversions (\n",
    "    conversion_id TEXT PRIMARY KEY,\n",
    "    user_id TEXT,\n",
    "    dval INTEGER,\n",
    "    curr TEXT,\n",
    "    timestamp DATE\n",
    ")\n",
    "''')\n"
   ]
  },
  {
   "cell_type": "markdown",
   "id": "30ff29a7-e31c-447c-913e-218ecf288d5c",
   "metadata": {
    "tags": []
   },
   "source": [
    "### Populate SQLite database with mock data\n",
    "\n",
    "- Lets just assume that all the impressions had a click and all clicks lead to cenversion (for simplicity)"
   ]
  },
  {
   "cell_type": "code",
   "execution_count": 10,
   "id": "cd280d67-35e7-4a9b-8351-3e4848ab0bf6",
   "metadata": {
    "tags": []
   },
   "outputs": [],
   "source": [
    "from datetime import datetime\n",
    "\n",
    "# Insert mock data into impressions table\n",
    "impressions_data = [\n",
    "    (\"imp1\", \"http://example.com\", \"user1\", \"Austria\", \"cookie-based\", True, \"soccer\", \"Chrome\", \"2022-11-21\"),\n",
    "    (\"imp2\", \"http://example2.com\", \"user2\", \"Austria\", \"fingerprinted\", False, \"baseball\", \"Firefox\", \"2022-11-22\"),\n",
    "    (\"imp3\", \"http://example3.com\", \"user1\", \"Austria\", \"cookie-based\", True, \"soccer\", \"Safari\", \"2022-11-23\"),\n",
    "    (\"imp4\", \"http://example4.com\", \"user3\", \"Austria\", \"fingerprinted\", False, \"soccer\", \"Edge\", \"2022-11-24\"),\n",
    "    (\"imp5\", \"http://example5.com\", \"user4\", \"Germany\", \"cookie-based\", True, \"basketball\", \"Chrome\", \"2022-11-25\"),\n",
    "    (\"imp6\", \"http://example6.com\", \"user5\", \"Germany\", \"fingerprinted\", False, \"soccer\", \"Firefox\", \"2022-11-26\"),\n",
    "    (\"imp7\", \"http://example7.com\", \"user6\", \"France\", \"cookie-based\", True, \"tennis\", \"Safari\", \"2022-11-27\"),\n",
    "    (\"imp8\", \"http://example8.com\", \"user7\", \"France\", \"fingerprinted\", False, \"soccer\", \"Edge\", \"2022-11-28\"),\n",
    "    (\"imp9\", \"http://example9.com\", \"user8\", \"Italy\", \"cookie-based\", True, \"volleyball\", \"Chrome\", \"2022-11-29\"),\n",
    "    (\"imp10\", \"http://example10.com\", \"user9\", \"Italy\", \"fingerprinted\", False, \"soccer\", \"Firefox\", \"2022-11-30\")\n",
    "]\n",
    "\n",
    "cursor.executemany('''\n",
    "INSERT INTO impressions (impression_id, url_address, user_id, request_country, tracking_type, dynamic_display, dynamic_display_variables, request_browser_name, timestamp)\n",
    "VALUES (?, ?, ?, ?, ?, ?, ?, ?, ?)\n",
    "''', impressions_data)\n",
    "\n",
    "# Insert mock data into clicks table\n",
    "clicks_data = [\n",
    "    (\"imp1\", \"user1\", \"2022-11-21\"),\n",
    "    (\"imp2\", \"user2\", \"2022-11-22\"),\n",
    "    (\"imp3\", \"user1\", \"2022-11-23\"),\n",
    "    (\"imp4\", \"user3\", \"2022-11-24\"),\n",
    "    (\"imp5\", \"user4\", \"2022-11-25\"),\n",
    "    (\"imp6\", \"user5\", \"2022-11-26\"),\n",
    "    (\"imp7\", \"user6\", \"2022-11-27\"),\n",
    "    (\"imp8\", \"user7\", \"2022-11-28\"),\n",
    "    (\"imp9\", \"user8\", \"2022-11-29\"),\n",
    "    (\"imp10\", \"user9\", \"2022-11-30\")\n",
    "]\n",
    "\n",
    "cursor.executemany('''\n",
    "INSERT INTO clicks (impression_id, user_id, timestamp)\n",
    "VALUES (?, ?, ?)\n",
    "''', clicks_data)\n",
    "\n",
    "# Insert mock data into conversions table\n",
    "conversions_data = [\n",
    "    (\"conv1\", \"user1\", 100, \"EUR\", \"2022-11-21\"),\n",
    "    (\"conv2\", \"user2\", 150, \"EUR\", \"2022-11-22\"),\n",
    "    (\"conv3\", \"user1\", 200, \"EUR\", \"2022-11-23\"),\n",
    "    (\"conv4\", \"user3\", 250, \"EUR\", \"2022-11-24\"),\n",
    "    (\"conv5\", \"user4\", 300, \"EUR\", \"2022-11-25\"),\n",
    "    (\"conv6\", \"user5\", 350, \"EUR\", \"2022-11-26\"),\n",
    "    (\"conv7\", \"user6\", 400, \"EUR\", \"2022-11-27\"),\n",
    "    (\"conv8\", \"user7\", 450, \"EUR\", \"2022-11-28\"),\n",
    "    (\"conv9\", \"user8\", 500, \"EUR\", \"2022-11-29\"),\n",
    "    (\"conv10\", \"user9\", 550, \"EUR\", \"2022-11-30\")\n",
    "]\n",
    "\n",
    "cursor.executemany('''\n",
    "INSERT INTO conversions (conversion_id, user_id, dval, curr, timestamp)\n",
    "VALUES (?, ?, ?, ?, ?)\n",
    "''', conversions_data)\n",
    "\n",
    "# Commit the changes and close the connection\n",
    "conn.commit()\n",
    "conn.close()"
   ]
  },
  {
   "cell_type": "markdown",
   "id": "fed38889-0874-4d5c-8bce-70ae6bf1f110",
   "metadata": {},
   "source": [
    "### Check the mock database"
   ]
  },
  {
   "cell_type": "code",
   "execution_count": 14,
   "id": "933c8364-2499-4eae-b071-0c02f6a88083",
   "metadata": {
    "tags": []
   },
   "outputs": [
    {
     "name": "stdout",
     "output_type": "stream",
     "text": [
      "Impressions:\n",
      "('imp1', 'http://example.com', 'user1', 'Austria', 'cookie-based', 1, 'soccer', 'Chrome', '2022-11-21')\n",
      "('imp2', 'http://example2.com', 'user2', 'Austria', 'fingerprinted', 0, 'baseball', 'Firefox', '2022-11-22')\n",
      "('imp3', 'http://example3.com', 'user1', 'Austria', 'cookie-based', 1, 'soccer', 'Safari', '2022-11-23')\n",
      "('imp4', 'http://example4.com', 'user3', 'Austria', 'fingerprinted', 0, 'soccer', 'Edge', '2022-11-24')\n",
      "('imp5', 'http://example5.com', 'user4', 'Germany', 'cookie-based', 1, 'basketball', 'Chrome', '2022-11-25')\n",
      "('imp6', 'http://example6.com', 'user5', 'Germany', 'fingerprinted', 0, 'soccer', 'Firefox', '2022-11-26')\n",
      "('imp7', 'http://example7.com', 'user6', 'France', 'cookie-based', 1, 'tennis', 'Safari', '2022-11-27')\n",
      "('imp8', 'http://example8.com', 'user7', 'France', 'fingerprinted', 0, 'soccer', 'Edge', '2022-11-28')\n",
      "('imp9', 'http://example9.com', 'user8', 'Italy', 'cookie-based', 1, 'volleyball', 'Chrome', '2022-11-29')\n",
      "('imp10', 'http://example10.com', 'user9', 'Italy', 'fingerprinted', 0, 'soccer', 'Firefox', '2022-11-30')\n",
      "\n",
      "Clicks:\n",
      "('imp1', 'user1', '2022-11-21')\n",
      "('imp2', 'user2', '2022-11-22')\n",
      "('imp3', 'user1', '2022-11-23')\n",
      "('imp4', 'user3', '2022-11-24')\n",
      "('imp5', 'user4', '2022-11-25')\n",
      "('imp6', 'user5', '2022-11-26')\n",
      "('imp7', 'user6', '2022-11-27')\n",
      "('imp8', 'user7', '2022-11-28')\n",
      "('imp9', 'user8', '2022-11-29')\n",
      "('imp10', 'user9', '2022-11-30')\n",
      "\n",
      "Conversions:\n",
      "('conv1', 'user1', 100, 'EUR', '2022-11-21')\n",
      "('conv2', 'user2', 150, 'EUR', '2022-11-22')\n",
      "('conv3', 'user1', 200, 'EUR', '2022-11-23')\n",
      "('conv4', 'user3', 250, 'EUR', '2022-11-24')\n",
      "('conv5', 'user4', 300, 'EUR', '2022-11-25')\n",
      "('conv6', 'user5', 350, 'EUR', '2022-11-26')\n",
      "('conv7', 'user6', 400, 'EUR', '2022-11-27')\n",
      "('conv8', 'user7', 450, 'EUR', '2022-11-28')\n",
      "('conv9', 'user8', 500, 'EUR', '2022-11-29')\n",
      "('conv10', 'user9', 550, 'EUR', '2022-11-30')\n"
     ]
    }
   ],
   "source": [
    "# Connect to the SQLite database\n",
    "conn = sqlite3.connect('ad_data.db')\n",
    "cursor = conn.cursor()\n",
    "\n",
    "# Example query: select all data from impressions table\n",
    "cursor.execute('SELECT * FROM impressions')\n",
    "impressions = cursor.fetchall()\n",
    "print(\"Impressions:\")\n",
    "for row in impressions:\n",
    "    print(row)\n",
    "\n",
    "# Example query: select all data from clicks table\n",
    "cursor.execute('SELECT * FROM clicks')\n",
    "clicks = cursor.fetchall()\n",
    "print(\"\\nClicks:\")\n",
    "for row in clicks:\n",
    "    print(row)\n",
    "\n",
    "# Example query: select all data from conversions table\n",
    "cursor.execute('SELECT * FROM conversions')\n",
    "conversions = cursor.fetchall()\n",
    "print(\"\\nConversions:\")\n",
    "for row in conversions:\n",
    "    print(row)\n",
    "\n",
    "# Close the connection\n",
    "conn.close()"
   ]
  },
  {
   "cell_type": "code",
   "execution_count": null,
   "id": "75419c72-2216-433a-b85e-c9471190ab66",
   "metadata": {},
   "outputs": [],
   "source": []
  }
 ],
 "metadata": {
  "kernelspec": {
   "display_name": "Python 3 (ipykernel)",
   "language": "python",
   "name": "python3"
  },
  "language_info": {
   "codemirror_mode": {
    "name": "ipython",
    "version": 3
   },
   "file_extension": ".py",
   "mimetype": "text/x-python",
   "name": "python",
   "nbconvert_exporter": "python",
   "pygments_lexer": "ipython3",
   "version": "3.11.7"
  }
 },
 "nbformat": 4,
 "nbformat_minor": 5
}
