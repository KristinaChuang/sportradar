{
 "cells": [
  {
   "cell_type": "markdown",
   "id": "e3bc2df3-3bbc-4efd-9838-e5ebaf9511f5",
   "metadata": {},
   "source": [
    "# Data Analyst Intern – Sportradar Challenge - Task 1\n",
    "Date: 4 July 2024 <br>\n",
    "Author: Kristina Chuang"
   ]
  },
  {
   "cell_type": "markdown",
   "id": "8f812b13-b9bb-40e3-9912-c82cbf2b8050",
   "metadata": {},
   "source": [
    "## Instructions\n",
    "- In programmatic advertising, ads (commonly referred to as impressions) are shown on websites with the help of DSPs (Demand Side Platforms). \n",
    "- These platforms want to make sure that they are showing the right impressions to the right users to generate as many conversions as possible. \n",
    "- If a user clicks on the ad and lands on the advertiser’s website, we store this event in a table called clicks (schema shown below). \n",
    "- If the user successfully places a deposit after landing on the advertiser’s website, we store this event in a table called conversions (schema shown below). \n",
    "- For each conversion there exists at least one impression, but not all impressions have a conversion or a click.\n",
    "<br>\n",
    "You are given 3 tables with the following schemas, defined by column names and types:\n",
    "### impressions\n",
    "1. <b>impression_id</b>: string\n",
    "2. url_address: string\n",
    "3. user_id: string\n",
    "4. <b>request_country: string</b> (\"Austria\")\n",
    "5. tracking_type: string [this is the tracking type (fingerprinted or cookie-based)]\n",
    "6. dynamic_display: boolean [this is whether the impression was served through Dynamic Display]\n",
    "7. dynamic_display_variables: string [content served in the impression, i.e soccer vs baseball]\n",
    "8. request_browser_name: string\n",
    "9. timestamp: date \n",
    "<br>\n",
    "### clicks\n",
    "1. <b>impression_id</b>: int\n",
    "2. user_id: <i>int</i>\n",
    "3. timestamp: string\n",
    "<br>\n",
    "### conversions\n",
    "1. conversion_id: string\n",
    "2. user_id: string\n",
    "3. dval: integer [this is the deposit value of the conversion]\n",
    "4. curr: string [this is the currency of the deposit value]\n",
    "5. timestamp: date\n"
   ]
  },
  {
   "cell_type": "markdown",
   "id": "110ecdfc-2caa-47be-b9b2-31b247a04a7b",
   "metadata": {},
   "source": [
    "# Q1: What is the CTR (%) for impressions served in \"Austria\"?\n"
   ]
  },
  {
   "cell_type": "markdown",
   "id": "f4c32557-0f07-4aa4-aad2-fcffe99f308a",
   "metadata": {},
   "source": [
    "CTR % (Click-Through-Rate) is how many people clicked on an ad (clicks) divided by the number of people who saw it (impressions), in this case exclusively in the country of Austria and expressed as a percentage.\n",
    "\n",
    "The formula to calculate CTR is (clicks / impressions) x 100.\n",
    "\n",
    "$$ CTR(AT) = \\frac{ \"total-clicks-in-Austria\" }{ \"total-impression-in-Austria\" } * 100$$"
   ]
  },
  {
   "cell_type": "markdown",
   "id": "45d23552-b365-4739-84a6-49109411f7ec",
   "metadata": {
    "tags": []
   },
   "source": [
    "- create a mock database (ad_data.db) to test the SQL queries in notebook mock_ads.ipynb"
   ]
  },
  {
   "cell_type": "markdown",
   "id": "3f590b1c-afae-4c5e-aff9-3758f4e9f556",
   "metadata": {},
   "source": [
    "### Load SQL extension to run SQL commands in code cells"
   ]
  },
  {
   "cell_type": "code",
   "execution_count": 14,
   "id": "4b402a48-1ce0-4fc4-ac1d-a676c1ccf9a5",
   "metadata": {
    "tags": []
   },
   "outputs": [],
   "source": [
    "#!pip install ipython-sql\n",
    "%load_ext sql"
   ]
  },
  {
   "cell_type": "code",
   "execution_count": 17,
   "id": "d6dafee5-9252-4471-aa15-4ce884a1e21b",
   "metadata": {
    "tags": []
   },
   "outputs": [],
   "source": [
    "# connect to mock database\n",
    "\n",
    "%sql sqlite:///ad_data.db"
   ]
  },
  {
   "cell_type": "code",
   "execution_count": 19,
   "id": "ed367485-ffc5-422e-8fbe-36bf488553c0",
   "metadata": {
    "tags": []
   },
   "outputs": [
    {
     "name": "stdout",
     "output_type": "stream",
     "text": [
      " * sqlite:///ad_data.db\n",
      "Done.\n"
     ]
    },
    {
     "data": {
      "text/plain": [
       "[]"
      ]
     },
     "execution_count": 19,
     "metadata": {},
     "output_type": "execute_result"
    }
   ],
   "source": [
    "# enable foreign keys (SQLite specific)\n",
    "%sql PRAGMA foreign_keys = ON"
   ]
  },
  {
   "cell_type": "markdown",
   "id": "95e8bf0b-d7b8-453d-a799-b5f847097feb",
   "metadata": {},
   "source": [
    "## Computing CTR for Austria\n",
    "- Use Common Table Expressions to calculate total impressions and clicks in Austria\n",
    "- \"total_impressions\" CTE counts the rows in table impressions that have value 'Austria' in field request_country AS impression_count\n",
    "- \"total_clicks\" CTE counts the rows in clicks that have the foreign key in impressions table and request_country is 'Austria' AS click_count\n",
    "- Finally CTR is calculated by dividing click_count by impression_count (casting to float to ensure that decimals appear) and multiply by 100 to get the percentage."
   ]
  },
  {
   "cell_type": "code",
   "execution_count": 58,
   "id": "52959a8e-426b-4725-809d-ebf81dbf27bc",
   "metadata": {
    "tags": []
   },
   "outputs": [
    {
     "name": "stdout",
     "output_type": "stream",
     "text": [
      " * sqlite:///ad_data.db\n",
      "Done.\n"
     ]
    },
    {
     "data": {
      "text/html": [
       "<table>\n",
       "    <thead>\n",
       "        <tr>\n",
       "            <th>CTR_Percentage</th>\n",
       "        </tr>\n",
       "    </thead>\n",
       "    <tbody>\n",
       "        <tr>\n",
       "            <td>100.0</td>\n",
       "        </tr>\n",
       "    </tbody>\n",
       "</table>"
      ],
      "text/plain": [
       "[(100.0,)]"
      ]
     },
     "execution_count": 58,
     "metadata": {},
     "output_type": "execute_result"
    }
   ],
   "source": [
    "%%sql\n",
    "\n",
    "WITH total_impressions AS (\n",
    "    SELECT COUNT(*) AS impression_count\n",
    "    FROM impressions\n",
    "    WHERE request_country = 'Austria'\n",
    "),\n",
    "total_clicks AS (\n",
    "    SELECT COUNT(*) AS click_count\n",
    "    FROM clicks\n",
    "    JOIN impressions ON impressions.impression_id = clicks.impression_id\n",
    "    WHERE impressions.request_country = 'Austria'\n",
    ")\n",
    "\n",
    "SELECT \n",
    "    (CAST(click_count AS FLOAT) / CAST(impression_count AS FLOAT)) * 100 AS CTR_Percentage\n",
    "FROM \n",
    "    total_impressions, total_clicks\n"
   ]
  },
  {
   "cell_type": "markdown",
   "id": "5b47d163-076f-4bd4-af1f-a9b53f8e91df",
   "metadata": {},
   "source": [
    "## Q2: For each converted user, find out how many impressions they were served. Specifically capturing the timestamp for the first & last impression.\n",
    "- If there is a record in the conversion table, then the same user_id must be in the impressions table.\n",
    "- First c1, show (SELECT) all the user_id present in conversions\n",
    "- \n",
    "For this we need to match the user_id from the conversions table "
   ]
  },
  {
   "cell_type": "code",
   "execution_count": 68,
   "id": "c5b4ded2-e1f6-45ca-8f8a-93c2dde6e477",
   "metadata": {
    "tags": []
   },
   "outputs": [
    {
     "name": "stdout",
     "output_type": "stream",
     "text": [
      " * sqlite:///ad_data.db\n",
      "Done.\n"
     ]
    },
    {
     "data": {
      "text/html": [
       "<table>\n",
       "    <thead>\n",
       "        <tr>\n",
       "            <th>user_id</th>\n",
       "            <th>impressions_count</th>\n",
       "            <th>first_impression_timestamp</th>\n",
       "            <th>last_impression_timestamp</th>\n",
       "        </tr>\n",
       "    </thead>\n",
       "    <tbody>\n",
       "        <tr>\n",
       "            <td>user1</td>\n",
       "            <td>4</td>\n",
       "            <td>2022-11-21</td>\n",
       "            <td>2022-11-23</td>\n",
       "        </tr>\n",
       "        <tr>\n",
       "            <td>user2</td>\n",
       "            <td>1</td>\n",
       "            <td>2022-11-22</td>\n",
       "            <td>2022-11-22</td>\n",
       "        </tr>\n",
       "        <tr>\n",
       "            <td>user3</td>\n",
       "            <td>1</td>\n",
       "            <td>2022-11-24</td>\n",
       "            <td>2022-11-24</td>\n",
       "        </tr>\n",
       "        <tr>\n",
       "            <td>user4</td>\n",
       "            <td>1</td>\n",
       "            <td>2022-11-25</td>\n",
       "            <td>2022-11-25</td>\n",
       "        </tr>\n",
       "        <tr>\n",
       "            <td>user5</td>\n",
       "            <td>1</td>\n",
       "            <td>2022-11-26</td>\n",
       "            <td>2022-11-26</td>\n",
       "        </tr>\n",
       "        <tr>\n",
       "            <td>user6</td>\n",
       "            <td>1</td>\n",
       "            <td>2022-11-27</td>\n",
       "            <td>2022-11-27</td>\n",
       "        </tr>\n",
       "        <tr>\n",
       "            <td>user7</td>\n",
       "            <td>1</td>\n",
       "            <td>2022-11-28</td>\n",
       "            <td>2022-11-28</td>\n",
       "        </tr>\n",
       "        <tr>\n",
       "            <td>user8</td>\n",
       "            <td>1</td>\n",
       "            <td>2022-11-29</td>\n",
       "            <td>2022-11-29</td>\n",
       "        </tr>\n",
       "        <tr>\n",
       "            <td>user9</td>\n",
       "            <td>1</td>\n",
       "            <td>2022-11-30</td>\n",
       "            <td>2022-11-30</td>\n",
       "        </tr>\n",
       "    </tbody>\n",
       "</table>"
      ],
      "text/plain": [
       "[('user1', 4, '2022-11-21', '2022-11-23'),\n",
       " ('user2', 1, '2022-11-22', '2022-11-22'),\n",
       " ('user3', 1, '2022-11-24', '2022-11-24'),\n",
       " ('user4', 1, '2022-11-25', '2022-11-25'),\n",
       " ('user5', 1, '2022-11-26', '2022-11-26'),\n",
       " ('user6', 1, '2022-11-27', '2022-11-27'),\n",
       " ('user7', 1, '2022-11-28', '2022-11-28'),\n",
       " ('user8', 1, '2022-11-29', '2022-11-29'),\n",
       " ('user9', 1, '2022-11-30', '2022-11-30')]"
      ]
     },
     "execution_count": 68,
     "metadata": {},
     "output_type": "execute_result"
    }
   ],
   "source": [
    "%%sql\n",
    "SELECT \n",
    "    conversions.user_id,\n",
    "    COUNT(impressions.impression_id) AS impressions_count,\n",
    "    MIN(impressions.timestamp) AS first_impression_timestamp,\n",
    "    MAX(impressions.timestamp) AS last_impression_timestamp\n",
    "FROM \n",
    "    conversions\n",
    "JOIN \n",
    "    impressions ON conversions.user_id = impressions.user_id\n",
    "GROUP BY \n",
    "    conversions.user_id;"
   ]
  },
  {
   "cell_type": "code",
   "execution_count": null,
   "id": "df5bdb6d-4498-484e-9d33-46dece89016d",
   "metadata": {},
   "outputs": [],
   "source": []
  },
  {
   "cell_type": "code",
   "execution_count": null,
   "id": "10c83e35-c95e-49fb-ae04-c5f8dad4ecbc",
   "metadata": {},
   "outputs": [],
   "source": []
  },
  {
   "cell_type": "code",
   "execution_count": null,
   "id": "d61d8f6f-9a21-4886-a66d-885040c34f77",
   "metadata": {},
   "outputs": [],
   "source": []
  },
  {
   "cell_type": "code",
   "execution_count": 48,
   "id": "2bb53358-52c2-4f54-a427-b791f534610b",
   "metadata": {
    "tags": []
   },
   "outputs": [
    {
     "name": "stdout",
     "output_type": "stream",
     "text": [
      " * sqlite:///ad_data.db\n",
      "Done.\n"
     ]
    },
    {
     "data": {
      "text/html": [
       "<table>\n",
       "    <thead>\n",
       "        <tr>\n",
       "            <th>impression_id</th>\n",
       "            <th>user_id</th>\n",
       "            <th>timestamp</th>\n",
       "        </tr>\n",
       "    </thead>\n",
       "    <tbody>\n",
       "        <tr>\n",
       "            <td>imp1</td>\n",
       "            <td>user1</td>\n",
       "            <td>2022-11-21</td>\n",
       "        </tr>\n",
       "        <tr>\n",
       "            <td>imp2</td>\n",
       "            <td>user2</td>\n",
       "            <td>2022-11-22</td>\n",
       "        </tr>\n",
       "        <tr>\n",
       "            <td>imp3</td>\n",
       "            <td>user1</td>\n",
       "            <td>2022-11-23</td>\n",
       "        </tr>\n",
       "        <tr>\n",
       "            <td>imp4</td>\n",
       "            <td>user3</td>\n",
       "            <td>2022-11-24</td>\n",
       "        </tr>\n",
       "        <tr>\n",
       "            <td>imp5</td>\n",
       "            <td>user4</td>\n",
       "            <td>2022-11-25</td>\n",
       "        </tr>\n",
       "        <tr>\n",
       "            <td>imp6</td>\n",
       "            <td>user5</td>\n",
       "            <td>2022-11-26</td>\n",
       "        </tr>\n",
       "        <tr>\n",
       "            <td>imp7</td>\n",
       "            <td>user6</td>\n",
       "            <td>2022-11-27</td>\n",
       "        </tr>\n",
       "        <tr>\n",
       "            <td>imp8</td>\n",
       "            <td>user7</td>\n",
       "            <td>2022-11-28</td>\n",
       "        </tr>\n",
       "        <tr>\n",
       "            <td>imp9</td>\n",
       "            <td>user8</td>\n",
       "            <td>2022-11-29</td>\n",
       "        </tr>\n",
       "        <tr>\n",
       "            <td>imp10</td>\n",
       "            <td>user9</td>\n",
       "            <td>2022-11-30</td>\n",
       "        </tr>\n",
       "    </tbody>\n",
       "</table>"
      ],
      "text/plain": [
       "[('imp1', 'user1', '2022-11-21'),\n",
       " ('imp2', 'user2', '2022-11-22'),\n",
       " ('imp3', 'user1', '2022-11-23'),\n",
       " ('imp4', 'user3', '2022-11-24'),\n",
       " ('imp5', 'user4', '2022-11-25'),\n",
       " ('imp6', 'user5', '2022-11-26'),\n",
       " ('imp7', 'user6', '2022-11-27'),\n",
       " ('imp8', 'user7', '2022-11-28'),\n",
       " ('imp9', 'user8', '2022-11-29'),\n",
       " ('imp10', 'user9', '2022-11-30')]"
      ]
     },
     "execution_count": 48,
     "metadata": {},
     "output_type": "execute_result"
    }
   ],
   "source": [
    "%%sql\n",
    "SELECT * FROM clicks"
   ]
  },
  {
   "cell_type": "code",
   "execution_count": 50,
   "id": "d37370cc-e015-444e-9b82-aacdfc825302",
   "metadata": {
    "tags": []
   },
   "outputs": [
    {
     "name": "stdout",
     "output_type": "stream",
     "text": [
      " * sqlite:///ad_data.db\n",
      "Done.\n"
     ]
    },
    {
     "data": {
      "text/html": [
       "<table>\n",
       "    <thead>\n",
       "        <tr>\n",
       "            <th>impression_id</th>\n",
       "            <th>url_address</th>\n",
       "            <th>user_id</th>\n",
       "            <th>request_country</th>\n",
       "            <th>tracking_type</th>\n",
       "            <th>dynamic_display</th>\n",
       "            <th>dynamic_display_variables</th>\n",
       "            <th>request_browser_name</th>\n",
       "            <th>timestamp</th>\n",
       "        </tr>\n",
       "    </thead>\n",
       "    <tbody>\n",
       "        <tr>\n",
       "            <td>imp1</td>\n",
       "            <td>http://example.com</td>\n",
       "            <td>user1</td>\n",
       "            <td>Austria</td>\n",
       "            <td>cookie-based</td>\n",
       "            <td>1</td>\n",
       "            <td>soccer</td>\n",
       "            <td>Chrome</td>\n",
       "            <td>2022-11-21</td>\n",
       "        </tr>\n",
       "        <tr>\n",
       "            <td>imp2</td>\n",
       "            <td>http://example2.com</td>\n",
       "            <td>user2</td>\n",
       "            <td>Austria</td>\n",
       "            <td>fingerprinted</td>\n",
       "            <td>0</td>\n",
       "            <td>baseball</td>\n",
       "            <td>Firefox</td>\n",
       "            <td>2022-11-22</td>\n",
       "        </tr>\n",
       "        <tr>\n",
       "            <td>imp3</td>\n",
       "            <td>http://example3.com</td>\n",
       "            <td>user1</td>\n",
       "            <td>Austria</td>\n",
       "            <td>cookie-based</td>\n",
       "            <td>1</td>\n",
       "            <td>soccer</td>\n",
       "            <td>Safari</td>\n",
       "            <td>2022-11-23</td>\n",
       "        </tr>\n",
       "        <tr>\n",
       "            <td>imp4</td>\n",
       "            <td>http://example4.com</td>\n",
       "            <td>user3</td>\n",
       "            <td>Austria</td>\n",
       "            <td>fingerprinted</td>\n",
       "            <td>0</td>\n",
       "            <td>soccer</td>\n",
       "            <td>Edge</td>\n",
       "            <td>2022-11-24</td>\n",
       "        </tr>\n",
       "        <tr>\n",
       "            <td>imp5</td>\n",
       "            <td>http://example5.com</td>\n",
       "            <td>user4</td>\n",
       "            <td>Germany</td>\n",
       "            <td>cookie-based</td>\n",
       "            <td>1</td>\n",
       "            <td>basketball</td>\n",
       "            <td>Chrome</td>\n",
       "            <td>2022-11-25</td>\n",
       "        </tr>\n",
       "        <tr>\n",
       "            <td>imp6</td>\n",
       "            <td>http://example6.com</td>\n",
       "            <td>user5</td>\n",
       "            <td>Germany</td>\n",
       "            <td>fingerprinted</td>\n",
       "            <td>0</td>\n",
       "            <td>soccer</td>\n",
       "            <td>Firefox</td>\n",
       "            <td>2022-11-26</td>\n",
       "        </tr>\n",
       "        <tr>\n",
       "            <td>imp7</td>\n",
       "            <td>http://example7.com</td>\n",
       "            <td>user6</td>\n",
       "            <td>France</td>\n",
       "            <td>cookie-based</td>\n",
       "            <td>1</td>\n",
       "            <td>tennis</td>\n",
       "            <td>Safari</td>\n",
       "            <td>2022-11-27</td>\n",
       "        </tr>\n",
       "        <tr>\n",
       "            <td>imp8</td>\n",
       "            <td>http://example8.com</td>\n",
       "            <td>user7</td>\n",
       "            <td>France</td>\n",
       "            <td>fingerprinted</td>\n",
       "            <td>0</td>\n",
       "            <td>soccer</td>\n",
       "            <td>Edge</td>\n",
       "            <td>2022-11-28</td>\n",
       "        </tr>\n",
       "        <tr>\n",
       "            <td>imp9</td>\n",
       "            <td>http://example9.com</td>\n",
       "            <td>user8</td>\n",
       "            <td>Italy</td>\n",
       "            <td>cookie-based</td>\n",
       "            <td>1</td>\n",
       "            <td>volleyball</td>\n",
       "            <td>Chrome</td>\n",
       "            <td>2022-11-29</td>\n",
       "        </tr>\n",
       "        <tr>\n",
       "            <td>imp10</td>\n",
       "            <td>http://example10.com</td>\n",
       "            <td>user9</td>\n",
       "            <td>Italy</td>\n",
       "            <td>fingerprinted</td>\n",
       "            <td>0</td>\n",
       "            <td>soccer</td>\n",
       "            <td>Firefox</td>\n",
       "            <td>2022-11-30</td>\n",
       "        </tr>\n",
       "    </tbody>\n",
       "</table>"
      ],
      "text/plain": [
       "[('imp1', 'http://example.com', 'user1', 'Austria', 'cookie-based', 1, 'soccer', 'Chrome', '2022-11-21'),\n",
       " ('imp2', 'http://example2.com', 'user2', 'Austria', 'fingerprinted', 0, 'baseball', 'Firefox', '2022-11-22'),\n",
       " ('imp3', 'http://example3.com', 'user1', 'Austria', 'cookie-based', 1, 'soccer', 'Safari', '2022-11-23'),\n",
       " ('imp4', 'http://example4.com', 'user3', 'Austria', 'fingerprinted', 0, 'soccer', 'Edge', '2022-11-24'),\n",
       " ('imp5', 'http://example5.com', 'user4', 'Germany', 'cookie-based', 1, 'basketball', 'Chrome', '2022-11-25'),\n",
       " ('imp6', 'http://example6.com', 'user5', 'Germany', 'fingerprinted', 0, 'soccer', 'Firefox', '2022-11-26'),\n",
       " ('imp7', 'http://example7.com', 'user6', 'France', 'cookie-based', 1, 'tennis', 'Safari', '2022-11-27'),\n",
       " ('imp8', 'http://example8.com', 'user7', 'France', 'fingerprinted', 0, 'soccer', 'Edge', '2022-11-28'),\n",
       " ('imp9', 'http://example9.com', 'user8', 'Italy', 'cookie-based', 1, 'volleyball', 'Chrome', '2022-11-29'),\n",
       " ('imp10', 'http://example10.com', 'user9', 'Italy', 'fingerprinted', 0, 'soccer', 'Firefox', '2022-11-30')]"
      ]
     },
     "execution_count": 50,
     "metadata": {},
     "output_type": "execute_result"
    }
   ],
   "source": [
    "%%sql\n",
    "SELECT * FROM impressions"
   ]
  },
  {
   "cell_type": "code",
   "execution_count": 64,
   "id": "545091a6-c84f-4e66-b74d-41ad08d3dd4b",
   "metadata": {
    "tags": []
   },
   "outputs": [
    {
     "name": "stdout",
     "output_type": "stream",
     "text": [
      " * sqlite:///ad_data.db\n",
      "Done.\n"
     ]
    },
    {
     "data": {
      "text/html": [
       "<table>\n",
       "    <thead>\n",
       "        <tr>\n",
       "            <th>conversion_id</th>\n",
       "            <th>user_id</th>\n",
       "            <th>dval</th>\n",
       "            <th>curr</th>\n",
       "            <th>timestamp</th>\n",
       "        </tr>\n",
       "    </thead>\n",
       "    <tbody>\n",
       "        <tr>\n",
       "            <td>conv1</td>\n",
       "            <td>user1</td>\n",
       "            <td>100</td>\n",
       "            <td>EUR</td>\n",
       "            <td>2022-11-21</td>\n",
       "        </tr>\n",
       "        <tr>\n",
       "            <td>conv2</td>\n",
       "            <td>user2</td>\n",
       "            <td>150</td>\n",
       "            <td>EUR</td>\n",
       "            <td>2022-11-22</td>\n",
       "        </tr>\n",
       "        <tr>\n",
       "            <td>conv3</td>\n",
       "            <td>user1</td>\n",
       "            <td>200</td>\n",
       "            <td>EUR</td>\n",
       "            <td>2022-11-23</td>\n",
       "        </tr>\n",
       "        <tr>\n",
       "            <td>conv4</td>\n",
       "            <td>user3</td>\n",
       "            <td>250</td>\n",
       "            <td>EUR</td>\n",
       "            <td>2022-11-24</td>\n",
       "        </tr>\n",
       "        <tr>\n",
       "            <td>conv5</td>\n",
       "            <td>user4</td>\n",
       "            <td>300</td>\n",
       "            <td>EUR</td>\n",
       "            <td>2022-11-25</td>\n",
       "        </tr>\n",
       "        <tr>\n",
       "            <td>conv6</td>\n",
       "            <td>user5</td>\n",
       "            <td>350</td>\n",
       "            <td>EUR</td>\n",
       "            <td>2022-11-26</td>\n",
       "        </tr>\n",
       "        <tr>\n",
       "            <td>conv7</td>\n",
       "            <td>user6</td>\n",
       "            <td>400</td>\n",
       "            <td>EUR</td>\n",
       "            <td>2022-11-27</td>\n",
       "        </tr>\n",
       "        <tr>\n",
       "            <td>conv8</td>\n",
       "            <td>user7</td>\n",
       "            <td>450</td>\n",
       "            <td>EUR</td>\n",
       "            <td>2022-11-28</td>\n",
       "        </tr>\n",
       "        <tr>\n",
       "            <td>conv9</td>\n",
       "            <td>user8</td>\n",
       "            <td>500</td>\n",
       "            <td>EUR</td>\n",
       "            <td>2022-11-29</td>\n",
       "        </tr>\n",
       "        <tr>\n",
       "            <td>conv10</td>\n",
       "            <td>user9</td>\n",
       "            <td>550</td>\n",
       "            <td>EUR</td>\n",
       "            <td>2022-11-30</td>\n",
       "        </tr>\n",
       "    </tbody>\n",
       "</table>"
      ],
      "text/plain": [
       "[('conv1', 'user1', 100, 'EUR', '2022-11-21'),\n",
       " ('conv2', 'user2', 150, 'EUR', '2022-11-22'),\n",
       " ('conv3', 'user1', 200, 'EUR', '2022-11-23'),\n",
       " ('conv4', 'user3', 250, 'EUR', '2022-11-24'),\n",
       " ('conv5', 'user4', 300, 'EUR', '2022-11-25'),\n",
       " ('conv6', 'user5', 350, 'EUR', '2022-11-26'),\n",
       " ('conv7', 'user6', 400, 'EUR', '2022-11-27'),\n",
       " ('conv8', 'user7', 450, 'EUR', '2022-11-28'),\n",
       " ('conv9', 'user8', 500, 'EUR', '2022-11-29'),\n",
       " ('conv10', 'user9', 550, 'EUR', '2022-11-30')]"
      ]
     },
     "execution_count": 64,
     "metadata": {},
     "output_type": "execute_result"
    }
   ],
   "source": [
    "%%sql\n",
    "SELECT * FROM conversions"
   ]
  },
  {
   "cell_type": "code",
   "execution_count": 15,
   "id": "11de0479-d660-4d10-8130-dd61a71b1da1",
   "metadata": {
    "tags": []
   },
   "outputs": [
    {
     "data": {
      "text/html": [
       "<div>\n",
       "<style scoped>\n",
       "    .dataframe tbody tr th:only-of-type {\n",
       "        vertical-align: middle;\n",
       "    }\n",
       "\n",
       "    .dataframe tbody tr th {\n",
       "        vertical-align: top;\n",
       "    }\n",
       "\n",
       "    .dataframe thead th {\n",
       "        text-align: right;\n",
       "    }\n",
       "</style>\n",
       "<table border=\"1\" class=\"dataframe\">\n",
       "  <thead>\n",
       "    <tr style=\"text-align: right;\">\n",
       "      <th></th>\n",
       "      <th>date_partition</th>\n",
       "      <th>hour_of_day_utc</th>\n",
       "      <th>country_code</th>\n",
       "      <th>os_name</th>\n",
       "      <th>platform_type</th>\n",
       "      <th>imps</th>\n",
       "      <th>viewable_imps</th>\n",
       "      <th>clicks</th>\n",
       "      <th>reg_fin</th>\n",
       "      <th>ftd</th>\n",
       "      <th>deposit</th>\n",
       "      <th>spend_usd</th>\n",
       "    </tr>\n",
       "  </thead>\n",
       "  <tbody>\n",
       "    <tr>\n",
       "      <th>0</th>\n",
       "      <td>2022-12-02</td>\n",
       "      <td>4</td>\n",
       "      <td>BR</td>\n",
       "      <td>Android</td>\n",
       "      <td>website</td>\n",
       "      <td>263424.0</td>\n",
       "      <td>177356.0</td>\n",
       "      <td>964.0</td>\n",
       "      <td>27.0</td>\n",
       "      <td>20.0</td>\n",
       "      <td>197.0</td>\n",
       "      <td>178.62</td>\n",
       "    </tr>\n",
       "    <tr>\n",
       "      <th>1</th>\n",
       "      <td>2022-12-02</td>\n",
       "      <td>14</td>\n",
       "      <td>BR</td>\n",
       "      <td>Windows</td>\n",
       "      <td>website</td>\n",
       "      <td>206976.0</td>\n",
       "      <td>160251.0</td>\n",
       "      <td>509.0</td>\n",
       "      <td>14.0</td>\n",
       "      <td>12.0</td>\n",
       "      <td>128.0</td>\n",
       "      <td>122.47</td>\n",
       "    </tr>\n",
       "    <tr>\n",
       "      <th>2</th>\n",
       "      <td>2022-12-02</td>\n",
       "      <td>10</td>\n",
       "      <td>DE</td>\n",
       "      <td>Android</td>\n",
       "      <td>website</td>\n",
       "      <td>5790.0</td>\n",
       "      <td>4501.0</td>\n",
       "      <td>73.0</td>\n",
       "      <td>0.0</td>\n",
       "      <td>0.0</td>\n",
       "      <td>12.0</td>\n",
       "      <td>13.41</td>\n",
       "    </tr>\n",
       "    <tr>\n",
       "      <th>3</th>\n",
       "      <td>2022-12-02</td>\n",
       "      <td>9</td>\n",
       "      <td>IN</td>\n",
       "      <td>Android</td>\n",
       "      <td>website</td>\n",
       "      <td>376320.0</td>\n",
       "      <td>188159.0</td>\n",
       "      <td>1437.0</td>\n",
       "      <td>1.0</td>\n",
       "      <td>2.0</td>\n",
       "      <td>10.0</td>\n",
       "      <td>220.12</td>\n",
       "    </tr>\n",
       "    <tr>\n",
       "      <th>4</th>\n",
       "      <td>2022-12-02</td>\n",
       "      <td>1</td>\n",
       "      <td>KE</td>\n",
       "      <td>Android</td>\n",
       "      <td>website</td>\n",
       "      <td>34737.0</td>\n",
       "      <td>14405.0</td>\n",
       "      <td>36.0</td>\n",
       "      <td>1.0</td>\n",
       "      <td>0.0</td>\n",
       "      <td>11.0</td>\n",
       "      <td>24.42</td>\n",
       "    </tr>\n",
       "  </tbody>\n",
       "</table>\n",
       "</div>"
      ],
      "text/plain": [
       "  date_partition  hour_of_day_utc country_code  os_name platform_type  \\\n",
       "0     2022-12-02                4           BR  Android       website   \n",
       "1     2022-12-02               14           BR  Windows       website   \n",
       "2     2022-12-02               10           DE  Android       website   \n",
       "3     2022-12-02                9           IN  Android       website   \n",
       "4     2022-12-02                1           KE  Android       website   \n",
       "\n",
       "       imps  viewable_imps  clicks  reg_fin   ftd  deposit  spend_usd  \n",
       "0  263424.0       177356.0   964.0     27.0  20.0    197.0     178.62  \n",
       "1  206976.0       160251.0   509.0     14.0  12.0    128.0     122.47  \n",
       "2    5790.0         4501.0    73.0      0.0   0.0     12.0      13.41  \n",
       "3  376320.0       188159.0  1437.0      1.0   2.0     10.0     220.12  \n",
       "4   34737.0        14405.0    36.0      1.0   0.0     11.0      24.42  "
      ]
     },
     "execution_count": 15,
     "metadata": {},
     "output_type": "execute_result"
    }
   ],
   "source": [
    "import pandas as pd\n",
    "df = pd.read_csv('world_cup_data.csv')\n",
    "df.head()\n"
   ]
  },
  {
   "cell_type": "code",
   "execution_count": 17,
   "id": "5199a6fe-dbfe-4393-b995-1d6cfbfed5b5",
   "metadata": {
    "tags": []
   },
   "outputs": [
    {
     "data": {
      "text/plain": [
       "(659849, 12)"
      ]
     },
     "execution_count": 17,
     "metadata": {},
     "output_type": "execute_result"
    }
   ],
   "source": [
    "df.shape\n"
   ]
  },
  {
   "cell_type": "code",
   "execution_count": null,
   "id": "ec951bf7-4173-4573-965a-a7140a12bce7",
   "metadata": {},
   "outputs": [],
   "source": []
  }
 ],
 "metadata": {
  "kernelspec": {
   "display_name": "Python 3 (ipykernel)",
   "language": "python",
   "name": "python3"
  },
  "language_info": {
   "codemirror_mode": {
    "name": "ipython",
    "version": 3
   },
   "file_extension": ".py",
   "mimetype": "text/x-python",
   "name": "python",
   "nbconvert_exporter": "python",
   "pygments_lexer": "ipython3",
   "version": "3.11.7"
  }
 },
 "nbformat": 4,
 "nbformat_minor": 5
}
