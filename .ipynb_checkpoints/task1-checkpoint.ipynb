{
 "cells": [
  {
   "cell_type": "markdown",
   "id": "e3bc2df3-3bbc-4efd-9838-e5ebaf9511f5",
   "metadata": {},
   "source": [
    "# Data Analyst Intern – Sportradar Challenge - Task 1\n",
    "Date: 4 July 2024 <br>\n",
    "Author: Kristina Chuang"
   ]
  },
  {
   "cell_type": "markdown",
   "id": "8f812b13-b9bb-40e3-9912-c82cbf2b8050",
   "metadata": {},
   "source": [
    "## Instructions\n",
    "- In programmatic advertising, ads (commonly referred to as impressions) are shown on websites with the help of DSPs (Demand Side Platforms). \n",
    "- These platforms want to make sure that they are showing the right impressions to the right users to generate as many conversions as possible. \n",
    "- If a user clicks on the ad and lands on the advertiser’s website, we store this event in a table called clicks (schema shown below). \n",
    "- If the user successfully places a deposit after landing on the advertiser’s website, we store this event in a table called conversions (schema shown below). \n",
    "- For each conversion there exists at least one impression, but not all impressions have a conversion or a click.\n",
    "<br>\n",
    "You are given 3 tables with the following schemas, defined by column names and types:\n",
    "### impressions\n",
    "1. <b>impression_id</b>: string\n",
    "2. url_address: string\n",
    "3. user_id: string\n",
    "4. <b>request_country: string</b> (\"Austria\")\n",
    "5. tracking_type: string [this is the tracking type (fingerprinted or cookie-based)]\n",
    "6. dynamic_display: boolean [this is whether the impression was served through Dynamic Display]\n",
    "7. dynamic_display_variables: string [content served in the impression, i.e soccer vs baseball]\n",
    "8. request_browser_name: string\n",
    "9. timestamp: date \n",
    "<br>\n",
    "### clicks\n",
    "1. <b>impression_id</b>: int\n",
    "2. user_id: <i>int</i>\n",
    "3. timestamp: string\n",
    "<br>\n",
    "### conversions\n",
    "1. conversion_id: string\n",
    "2. user_id: string\n",
    "3. dval: integer [this is the deposit value of the conversion]\n",
    "4. curr: string [this is the currency of the deposit value]\n",
    "5. timestamp: date\n"
   ]
  },
  {
   "cell_type": "markdown",
   "id": "110ecdfc-2caa-47be-b9b2-31b247a04a7b",
   "metadata": {},
   "source": [
    "# Q1: What is the CTR (%) for impressions served in \"Austria\"?\n"
   ]
  },
  {
   "cell_type": "markdown",
   "id": "f4c32557-0f07-4aa4-aad2-fcffe99f308a",
   "metadata": {},
   "source": [
    "CTR % (Click-Through-Rate) is how many people clicked on an ad (clicks) divided by the number of people who saw it (impressions), in this case exclusively in the country of Austria and expressed as a percentage. Is a measures of the effectiveness of PPC (Pay-per-click) ads. It shows how good is the impression capturing the interest of the target audience.\n",
    "\n",
    "The formula to calculate CTR is (clicks / impressions) x 100.\n",
    "\n",
    "$$ CTR(AT) = \\frac{ \"total-clicks-in-Austria\" }{ \"total-impression-in-Austria\" } * 100$$"
   ]
  },
  {
   "cell_type": "markdown",
   "id": "45d23552-b365-4739-84a6-49109411f7ec",
   "metadata": {
    "tags": []
   },
   "source": [
    "- create a mock database (mock_ad_data.db) to test the SQL queries in notebook mock_data_ads.ipynb\n",
    "- The mock database contains:\n",
    "- 150 records for the table impressions\n",
    "- 87 records for the table clicks (60% random chance of the impression being clicked)\n",
    "- 28 records for conversion (35% random chance of click to conversion)"
   ]
  },
  {
   "cell_type": "markdown",
   "id": "3f590b1c-afae-4c5e-aff9-3758f4e9f556",
   "metadata": {},
   "source": [
    "### Load SQL extension to run SQL commands in code cells"
   ]
  },
  {
   "cell_type": "code",
   "execution_count": 1,
   "id": "4b402a48-1ce0-4fc4-ac1d-a676c1ccf9a5",
   "metadata": {
    "tags": []
   },
   "outputs": [],
   "source": [
    "#!pip install ipython-sql\n",
    "%load_ext sql"
   ]
  },
  {
   "cell_type": "code",
   "execution_count": 2,
   "id": "d6dafee5-9252-4471-aa15-4ce884a1e21b",
   "metadata": {
    "tags": []
   },
   "outputs": [],
   "source": [
    "# connect to mock database\n",
    "\n",
    "%sql sqlite:///mock_ad_data.db"
   ]
  },
  {
   "cell_type": "code",
   "execution_count": 3,
   "id": "ed367485-ffc5-422e-8fbe-36bf488553c0",
   "metadata": {
    "tags": []
   },
   "outputs": [
    {
     "name": "stdout",
     "output_type": "stream",
     "text": [
      " * sqlite:///mock_ad_data.db\n",
      "Done.\n"
     ]
    },
    {
     "data": {
      "text/plain": [
       "[]"
      ]
     },
     "execution_count": 3,
     "metadata": {},
     "output_type": "execute_result"
    }
   ],
   "source": [
    "# enable foreign keys (SQLite specific)\n",
    "%sql PRAGMA foreign_keys = ON"
   ]
  },
  {
   "cell_type": "markdown",
   "id": "738f9a16-5bfe-4194-ad63-eeb7ac2e6441",
   "metadata": {},
   "source": [
    "- check counts and datatypes"
   ]
  },
  {
   "cell_type": "code",
   "execution_count": 4,
   "id": "d61af668-a7a3-4124-a3eb-37548daa5c8f",
   "metadata": {},
   "outputs": [
    {
     "name": "stdout",
     "output_type": "stream",
     "text": [
      " * sqlite:///mock_ad_data.db\n",
      "Done.\n"
     ]
    },
    {
     "data": {
      "text/html": [
       "<table>\n",
       "    <thead>\n",
       "        <tr>\n",
       "            <th>table_name</th>\n",
       "            <th>count</th>\n",
       "        </tr>\n",
       "    </thead>\n",
       "    <tbody>\n",
       "        <tr>\n",
       "            <td>impressions</td>\n",
       "            <td>150</td>\n",
       "        </tr>\n",
       "        <tr>\n",
       "            <td>clicks</td>\n",
       "            <td>87</td>\n",
       "        </tr>\n",
       "        <tr>\n",
       "            <td>conversions</td>\n",
       "            <td>28</td>\n",
       "        </tr>\n",
       "    </tbody>\n",
       "</table>"
      ],
      "text/plain": [
       "[('impressions', 150), ('clicks', 87), ('conversions', 28)]"
      ]
     },
     "execution_count": 4,
     "metadata": {},
     "output_type": "execute_result"
    }
   ],
   "source": [
    "%%sql\n",
    "\n",
    "SELECT\n",
    "    'impressions' AS table_name,\n",
    "    COUNT(*) AS count\n",
    "FROM impressions\n",
    "\n",
    "UNION ALL\n",
    "\n",
    "SELECT\n",
    "    'clicks' AS table_name,\n",
    "    COUNT(*) AS count\n",
    "FROM clicks\n",
    "\n",
    "UNION ALL\n",
    "\n",
    "SELECT\n",
    "    'conversions' AS table_name,\n",
    "    COUNT(*) AS count\n",
    "FROM conversions\n",
    "\n"
   ]
  },
  {
   "cell_type": "code",
   "execution_count": 5,
   "id": "1078682e-9bd9-4261-b447-4110d902bfdc",
   "metadata": {},
   "outputs": [
    {
     "name": "stdout",
     "output_type": "stream",
     "text": [
      " * sqlite:///mock_ad_data.db\n",
      "Done.\n"
     ]
    },
    {
     "data": {
      "text/html": [
       "<table>\n",
       "    <thead>\n",
       "        <tr>\n",
       "            <th>cid</th>\n",
       "            <th>name</th>\n",
       "            <th>type</th>\n",
       "            <th>notnull</th>\n",
       "            <th>dflt_value</th>\n",
       "            <th>pk</th>\n",
       "        </tr>\n",
       "    </thead>\n",
       "    <tbody>\n",
       "        <tr>\n",
       "            <td>0</td>\n",
       "            <td>impression_id</td>\n",
       "            <td>TEXT</td>\n",
       "            <td>0</td>\n",
       "            <td>None</td>\n",
       "            <td>1</td>\n",
       "        </tr>\n",
       "        <tr>\n",
       "            <td>1</td>\n",
       "            <td>url_address</td>\n",
       "            <td>TEXT</td>\n",
       "            <td>0</td>\n",
       "            <td>None</td>\n",
       "            <td>0</td>\n",
       "        </tr>\n",
       "        <tr>\n",
       "            <td>2</td>\n",
       "            <td>user_id</td>\n",
       "            <td>TEXT</td>\n",
       "            <td>0</td>\n",
       "            <td>None</td>\n",
       "            <td>0</td>\n",
       "        </tr>\n",
       "        <tr>\n",
       "            <td>3</td>\n",
       "            <td>request_country</td>\n",
       "            <td>TEXT</td>\n",
       "            <td>0</td>\n",
       "            <td>None</td>\n",
       "            <td>0</td>\n",
       "        </tr>\n",
       "        <tr>\n",
       "            <td>4</td>\n",
       "            <td>tracking_type</td>\n",
       "            <td>TEXT</td>\n",
       "            <td>0</td>\n",
       "            <td>None</td>\n",
       "            <td>0</td>\n",
       "        </tr>\n",
       "        <tr>\n",
       "            <td>5</td>\n",
       "            <td>dynamic_display</td>\n",
       "            <td>BOOLEAN</td>\n",
       "            <td>0</td>\n",
       "            <td>None</td>\n",
       "            <td>0</td>\n",
       "        </tr>\n",
       "        <tr>\n",
       "            <td>6</td>\n",
       "            <td>dynamic_display_variables</td>\n",
       "            <td>TEXT</td>\n",
       "            <td>0</td>\n",
       "            <td>None</td>\n",
       "            <td>0</td>\n",
       "        </tr>\n",
       "        <tr>\n",
       "            <td>7</td>\n",
       "            <td>request_browser_name</td>\n",
       "            <td>TEXT</td>\n",
       "            <td>0</td>\n",
       "            <td>None</td>\n",
       "            <td>0</td>\n",
       "        </tr>\n",
       "        <tr>\n",
       "            <td>8</td>\n",
       "            <td>timestamp</td>\n",
       "            <td>DATE</td>\n",
       "            <td>0</td>\n",
       "            <td>None</td>\n",
       "            <td>0</td>\n",
       "        </tr>\n",
       "    </tbody>\n",
       "</table>"
      ],
      "text/plain": [
       "[(0, 'impression_id', 'TEXT', 0, None, 1),\n",
       " (1, 'url_address', 'TEXT', 0, None, 0),\n",
       " (2, 'user_id', 'TEXT', 0, None, 0),\n",
       " (3, 'request_country', 'TEXT', 0, None, 0),\n",
       " (4, 'tracking_type', 'TEXT', 0, None, 0),\n",
       " (5, 'dynamic_display', 'BOOLEAN', 0, None, 0),\n",
       " (6, 'dynamic_display_variables', 'TEXT', 0, None, 0),\n",
       " (7, 'request_browser_name', 'TEXT', 0, None, 0),\n",
       " (8, 'timestamp', 'DATE', 0, None, 0)]"
      ]
     },
     "execution_count": 5,
     "metadata": {},
     "output_type": "execute_result"
    }
   ],
   "source": [
    "%sql PRAGMA table_info(impressions)"
   ]
  },
  {
   "cell_type": "code",
   "execution_count": 6,
   "id": "d755ab3d-09aa-43b8-98b1-f2ff1c6087ba",
   "metadata": {},
   "outputs": [
    {
     "name": "stdout",
     "output_type": "stream",
     "text": [
      " * sqlite:///mock_ad_data.db\n",
      "Done.\n"
     ]
    },
    {
     "data": {
      "text/html": [
       "<table>\n",
       "    <thead>\n",
       "        <tr>\n",
       "            <th>cid</th>\n",
       "            <th>name</th>\n",
       "            <th>type</th>\n",
       "            <th>notnull</th>\n",
       "            <th>dflt_value</th>\n",
       "            <th>pk</th>\n",
       "        </tr>\n",
       "    </thead>\n",
       "    <tbody>\n",
       "        <tr>\n",
       "            <td>0</td>\n",
       "            <td>impression_id</td>\n",
       "            <td>INTEGER</td>\n",
       "            <td>0</td>\n",
       "            <td>None</td>\n",
       "            <td>0</td>\n",
       "        </tr>\n",
       "        <tr>\n",
       "            <td>1</td>\n",
       "            <td>user_id</td>\n",
       "            <td>INTEGER</td>\n",
       "            <td>0</td>\n",
       "            <td>None</td>\n",
       "            <td>0</td>\n",
       "        </tr>\n",
       "        <tr>\n",
       "            <td>2</td>\n",
       "            <td>timestamp</td>\n",
       "            <td>TEXT</td>\n",
       "            <td>0</td>\n",
       "            <td>None</td>\n",
       "            <td>0</td>\n",
       "        </tr>\n",
       "    </tbody>\n",
       "</table>"
      ],
      "text/plain": [
       "[(0, 'impression_id', 'INTEGER', 0, None, 0),\n",
       " (1, 'user_id', 'INTEGER', 0, None, 0),\n",
       " (2, 'timestamp', 'TEXT', 0, None, 0)]"
      ]
     },
     "execution_count": 6,
     "metadata": {},
     "output_type": "execute_result"
    }
   ],
   "source": [
    "%sql PRAGMA table_info(clicks)"
   ]
  },
  {
   "cell_type": "code",
   "execution_count": 7,
   "id": "aa3f9f8d-7566-4f3f-97c5-dcf7d204b288",
   "metadata": {},
   "outputs": [
    {
     "name": "stdout",
     "output_type": "stream",
     "text": [
      " * sqlite:///mock_ad_data.db\n",
      "Done.\n"
     ]
    },
    {
     "data": {
      "text/html": [
       "<table>\n",
       "    <thead>\n",
       "        <tr>\n",
       "            <th>cid</th>\n",
       "            <th>name</th>\n",
       "            <th>type</th>\n",
       "            <th>notnull</th>\n",
       "            <th>dflt_value</th>\n",
       "            <th>pk</th>\n",
       "        </tr>\n",
       "    </thead>\n",
       "    <tbody>\n",
       "        <tr>\n",
       "            <td>0</td>\n",
       "            <td>conversion_id</td>\n",
       "            <td>TEXT</td>\n",
       "            <td>0</td>\n",
       "            <td>None</td>\n",
       "            <td>1</td>\n",
       "        </tr>\n",
       "        <tr>\n",
       "            <td>1</td>\n",
       "            <td>user_id</td>\n",
       "            <td>TEXT</td>\n",
       "            <td>0</td>\n",
       "            <td>None</td>\n",
       "            <td>0</td>\n",
       "        </tr>\n",
       "        <tr>\n",
       "            <td>2</td>\n",
       "            <td>dval</td>\n",
       "            <td>INTEGER</td>\n",
       "            <td>0</td>\n",
       "            <td>None</td>\n",
       "            <td>0</td>\n",
       "        </tr>\n",
       "        <tr>\n",
       "            <td>3</td>\n",
       "            <td>curr</td>\n",
       "            <td>TEXT</td>\n",
       "            <td>0</td>\n",
       "            <td>None</td>\n",
       "            <td>0</td>\n",
       "        </tr>\n",
       "        <tr>\n",
       "            <td>4</td>\n",
       "            <td>timestamp</td>\n",
       "            <td>DATE</td>\n",
       "            <td>0</td>\n",
       "            <td>None</td>\n",
       "            <td>0</td>\n",
       "        </tr>\n",
       "    </tbody>\n",
       "</table>"
      ],
      "text/plain": [
       "[(0, 'conversion_id', 'TEXT', 0, None, 1),\n",
       " (1, 'user_id', 'TEXT', 0, None, 0),\n",
       " (2, 'dval', 'INTEGER', 0, None, 0),\n",
       " (3, 'curr', 'TEXT', 0, None, 0),\n",
       " (4, 'timestamp', 'DATE', 0, None, 0)]"
      ]
     },
     "execution_count": 7,
     "metadata": {},
     "output_type": "execute_result"
    }
   ],
   "source": [
    "%sql PRAGMA table_info(conversions)"
   ]
  },
  {
   "cell_type": "markdown",
   "id": "668f2cc8-a1a8-4c5d-86be-3d124f491adf",
   "metadata": {},
   "source": [
    "# Incompatible data types of \"clicks\" table \n",
    "- the clicks table have impression_id and user_id as integer, whilst the same fields are string (TEXT) in the other tables. \n",
    "- this should be a problem for other relational database management systems (RDBMS) like Postgres. Specially because they act as foreign keys.\n",
    "- However, using SQLite it does not seems to matter because the data types are compatible.\n",
    "- Nonetheless, I will align the data types of \"clicks\" to match \"impressions\" and \"conversions\".\n",
    "- SQLite does not have an ALTER TABLE clause to change the data types.\n",
    "### Plan of action\n",
    "- duplicate the clicks table with the right data types cast.\n",
    "1. Create a new table with the desired schema\n",
    "2. Copy data from clicks to clicks_new, converting types\n",
    "3. ** could drop the old clicks table\n",
    "4. ** could rename clicks_new to clicks. (but that would alter the original database, so i will just work with table clicks_new."
   ]
  },
  {
   "cell_type": "code",
   "execution_count": 8,
   "id": "73eb6ecb-ac54-41aa-be85-4e8ba611166c",
   "metadata": {},
   "outputs": [
    {
     "name": "stdout",
     "output_type": "stream",
     "text": [
      " * sqlite:///mock_ad_data.db\n",
      "Done.\n",
      "Done.\n",
      "87 rows affected.\n"
     ]
    },
    {
     "data": {
      "text/plain": [
       "[]"
      ]
     },
     "execution_count": 8,
     "metadata": {},
     "output_type": "execute_result"
    }
   ],
   "source": [
    "%%sql\n",
    "\n",
    "DROP TABLE IF EXISTS clicks_new;\n",
    "CREATE TABLE clicks_new (\n",
    "    impression_id TEXT,\n",
    "    user_id TEXT,\n",
    "    timestamp DATE\n",
    ");\n",
    "\n",
    "INSERT INTO clicks_new (impression_id, user_id, timestamp)\n",
    "\n",
    "SELECT \n",
    "    CAST(impression_id AS TEXT),  \n",
    "    CAST(user_id AS TEXT),        \n",
    "    DATE(timestamp)  \n",
    "FROM clicks;\n",
    "\n"
   ]
  },
  {
   "cell_type": "code",
   "execution_count": 9,
   "id": "2c06242b-5a71-4f3f-bd75-c8c848b1fd85",
   "metadata": {},
   "outputs": [],
   "source": [
    "# Drop the old clicks table\n",
    "# DROP TABLE clicks;\n",
    "\n",
    "# Rename clicks_new to clicks\n",
    "# ALTER TABLE clicks_new RENAME TO clicks;"
   ]
  },
  {
   "cell_type": "code",
   "execution_count": 10,
   "id": "1e0ba43d-6b46-4c83-a231-366c5ddf9a52",
   "metadata": {},
   "outputs": [
    {
     "name": "stdout",
     "output_type": "stream",
     "text": [
      " * sqlite:///mock_ad_data.db\n",
      "Done.\n"
     ]
    },
    {
     "data": {
      "text/html": [
       "<table>\n",
       "    <thead>\n",
       "        <tr>\n",
       "            <th>cid</th>\n",
       "            <th>name</th>\n",
       "            <th>type</th>\n",
       "            <th>notnull</th>\n",
       "            <th>dflt_value</th>\n",
       "            <th>pk</th>\n",
       "        </tr>\n",
       "    </thead>\n",
       "    <tbody>\n",
       "        <tr>\n",
       "            <td>0</td>\n",
       "            <td>impression_id</td>\n",
       "            <td>TEXT</td>\n",
       "            <td>0</td>\n",
       "            <td>None</td>\n",
       "            <td>0</td>\n",
       "        </tr>\n",
       "        <tr>\n",
       "            <td>1</td>\n",
       "            <td>user_id</td>\n",
       "            <td>TEXT</td>\n",
       "            <td>0</td>\n",
       "            <td>None</td>\n",
       "            <td>0</td>\n",
       "        </tr>\n",
       "        <tr>\n",
       "            <td>2</td>\n",
       "            <td>timestamp</td>\n",
       "            <td>DATE</td>\n",
       "            <td>0</td>\n",
       "            <td>None</td>\n",
       "            <td>0</td>\n",
       "        </tr>\n",
       "    </tbody>\n",
       "</table>"
      ],
      "text/plain": [
       "[(0, 'impression_id', 'TEXT', 0, None, 0),\n",
       " (1, 'user_id', 'TEXT', 0, None, 0),\n",
       " (2, 'timestamp', 'DATE', 0, None, 0)]"
      ]
     },
     "execution_count": 10,
     "metadata": {},
     "output_type": "execute_result"
    }
   ],
   "source": [
    "%sql PRAGMA table_info(clicks_new)"
   ]
  },
  {
   "cell_type": "markdown",
   "id": "95e8bf0b-d7b8-453d-a799-b5f847097feb",
   "metadata": {},
   "source": [
    "## Computing CTR for Austria\n",
    "- Use Common Table Expressions to calculate total impressions and clicks in Austria\n",
    "- \"total_impressions\" CTE counts the rows in table impressions that have value 'Austria' in field request_country AS impression_count\n",
    "- \"total_clicks\" CTE counts the rows in clicks that have the foreign key in impressions table and request_country is 'Austria' AS click_count\n",
    "- Finally CTR is calculated by dividing click_count by impression_count (casting to float to ensure that decimals appear) and multiply by 100 to get the percentage."
   ]
  },
  {
   "cell_type": "code",
   "execution_count": 11,
   "id": "52959a8e-426b-4725-809d-ebf81dbf27bc",
   "metadata": {
    "tags": []
   },
   "outputs": [
    {
     "name": "stdout",
     "output_type": "stream",
     "text": [
      " * sqlite:///mock_ad_data.db\n",
      "Done.\n"
     ]
    },
    {
     "data": {
      "text/html": [
       "<table>\n",
       "    <thead>\n",
       "        <tr>\n",
       "            <th>CTR_Percentage</th>\n",
       "        </tr>\n",
       "    </thead>\n",
       "    <tbody>\n",
       "        <tr>\n",
       "            <td>65.85</td>\n",
       "        </tr>\n",
       "    </tbody>\n",
       "</table>"
      ],
      "text/plain": [
       "[(65.85,)]"
      ]
     },
     "execution_count": 11,
     "metadata": {},
     "output_type": "execute_result"
    }
   ],
   "source": [
    "%%sql\n",
    "\n",
    "WITH \n",
    "total_impressions AS (\n",
    "    SELECT COUNT(*) AS impression_count\n",
    "    FROM impressions\n",
    "    WHERE request_country = 'Austria'\n",
    "),\n",
    "\n",
    "total_clicks AS (\n",
    "    SELECT COUNT(*) AS click_count\n",
    "    FROM clicks_new\n",
    "    JOIN impressions ON impressions.impression_id = clicks_new.impression_id\n",
    "    WHERE impressions.request_country = 'Austria'\n",
    ")\n",
    "\n",
    "SELECT \n",
    "    ROUND((CAST(click_count AS FLOAT) / CAST(impression_count AS FLOAT)) * 100, 2) AS CTR_Percentage\n",
    "FROM \n",
    "    total_impressions, total_clicks;"
   ]
  },
  {
   "cell_type": "markdown",
   "id": "d84074d7-3698-4ebf-aa46-e5eb19f79c4c",
   "metadata": {},
   "source": [
    "## context\n",
    "- The CTR percentage measure of Austria doesn't say much without context or comparisson with other countries or regions.\n",
    "- why not get the CTR of all countries to visualize a comparison?\n",
    "- ** in the mock data set there are only 4 European countries\n",
    "- but this can be done at scale with more countrties."
   ]
  },
  {
   "cell_type": "code",
   "execution_count": 12,
   "id": "b6a706c4-c314-41d2-9294-9e242a5c51dd",
   "metadata": {},
   "outputs": [
    {
     "name": "stdout",
     "output_type": "stream",
     "text": [
      " * sqlite:///mock_ad_data.db\n",
      "Done.\n"
     ]
    },
    {
     "data": {
      "text/html": [
       "<table>\n",
       "    <thead>\n",
       "        <tr>\n",
       "            <th>request_country</th>\n",
       "            <th>impression_count</th>\n",
       "            <th>click_count</th>\n",
       "            <th>CTR_Percentage</th>\n",
       "        </tr>\n",
       "    </thead>\n",
       "    <tbody>\n",
       "        <tr>\n",
       "            <td>Austria</td>\n",
       "            <td>41</td>\n",
       "            <td>27</td>\n",
       "            <td>65.85</td>\n",
       "        </tr>\n",
       "        <tr>\n",
       "            <td>Italy</td>\n",
       "            <td>46</td>\n",
       "            <td>29</td>\n",
       "            <td>63.04</td>\n",
       "        </tr>\n",
       "        <tr>\n",
       "            <td>Germany</td>\n",
       "            <td>40</td>\n",
       "            <td>21</td>\n",
       "            <td>52.5</td>\n",
       "        </tr>\n",
       "        <tr>\n",
       "            <td>France</td>\n",
       "            <td>23</td>\n",
       "            <td>10</td>\n",
       "            <td>43.48</td>\n",
       "        </tr>\n",
       "    </tbody>\n",
       "</table>"
      ],
      "text/plain": [
       "[('Austria', 41, 27, 65.85),\n",
       " ('Italy', 46, 29, 63.04),\n",
       " ('Germany', 40, 21, 52.5),\n",
       " ('France', 23, 10, 43.48)]"
      ]
     },
     "execution_count": 12,
     "metadata": {},
     "output_type": "execute_result"
    }
   ],
   "source": [
    "%%sql\n",
    "\n",
    "WITH impression_counts AS (\n",
    "    SELECT\n",
    "        request_country,\n",
    "        COUNT(*) AS impression_count\n",
    "    FROM impressions\n",
    "    GROUP BY request_country\n",
    "),\n",
    "\n",
    "click_counts AS (\n",
    "    SELECT\n",
    "        impressions.request_country,\n",
    "        COUNT(*) AS click_count\n",
    "    FROM clicks\n",
    "    JOIN impressions ON impressions.impression_id = clicks.impression_id\n",
    "    GROUP BY impressions.request_country\n",
    ")\n",
    "\n",
    "SELECT \n",
    "    impression_counts.request_country,\n",
    "    impression_counts.impression_count,\n",
    "    COALESCE(click_counts.click_count, 0) AS click_count,\n",
    "    ROUND(\n",
    "        (CAST(COALESCE(click_counts.click_count, 0) AS FLOAT) / CAST(impression_counts.impression_count AS FLOAT)) * 100, 2\n",
    "    ) AS CTR_Percentage\n",
    "FROM \n",
    "    impression_counts\n",
    "LEFT JOIN \n",
    "    click_counts ON impression_counts.request_country = click_counts.request_country\n",
    "ORDER BY \n",
    "    CTR_Percentage DESC;"
   ]
  },
  {
   "cell_type": "markdown",
   "id": "6d1b0466-0f9c-4330-b001-201d21f45024",
   "metadata": {},
   "source": [
    "## Visualization with map and bar chart\n",
    "- get the query as a pandas dataframe"
   ]
  },
  {
   "cell_type": "code",
   "execution_count": 13,
   "id": "37d22c55-b6eb-467e-b2c5-b5195988fe53",
   "metadata": {},
   "outputs": [
    {
     "data": {
      "text/html": [
       "<div>\n",
       "<style scoped>\n",
       "    .dataframe tbody tr th:only-of-type {\n",
       "        vertical-align: middle;\n",
       "    }\n",
       "\n",
       "    .dataframe tbody tr th {\n",
       "        vertical-align: top;\n",
       "    }\n",
       "\n",
       "    .dataframe thead th {\n",
       "        text-align: right;\n",
       "    }\n",
       "</style>\n",
       "<table border=\"1\" class=\"dataframe\">\n",
       "  <thead>\n",
       "    <tr style=\"text-align: right;\">\n",
       "      <th></th>\n",
       "      <th>request_country</th>\n",
       "      <th>impression_count</th>\n",
       "      <th>click_count</th>\n",
       "      <th>CTR_Percentage</th>\n",
       "    </tr>\n",
       "  </thead>\n",
       "  <tbody>\n",
       "    <tr>\n",
       "      <th>0</th>\n",
       "      <td>Austria</td>\n",
       "      <td>41</td>\n",
       "      <td>27</td>\n",
       "      <td>65.85</td>\n",
       "    </tr>\n",
       "    <tr>\n",
       "      <th>1</th>\n",
       "      <td>Italy</td>\n",
       "      <td>46</td>\n",
       "      <td>29</td>\n",
       "      <td>63.04</td>\n",
       "    </tr>\n",
       "    <tr>\n",
       "      <th>2</th>\n",
       "      <td>Germany</td>\n",
       "      <td>40</td>\n",
       "      <td>21</td>\n",
       "      <td>52.50</td>\n",
       "    </tr>\n",
       "    <tr>\n",
       "      <th>3</th>\n",
       "      <td>France</td>\n",
       "      <td>23</td>\n",
       "      <td>10</td>\n",
       "      <td>43.48</td>\n",
       "    </tr>\n",
       "  </tbody>\n",
       "</table>\n",
       "</div>"
      ],
      "text/plain": [
       "  request_country  impression_count  click_count  CTR_Percentage\n",
       "0         Austria                41           27           65.85\n",
       "1           Italy                46           29           63.04\n",
       "2         Germany                40           21           52.50\n",
       "3          France                23           10           43.48"
      ]
     },
     "execution_count": 13,
     "metadata": {},
     "output_type": "execute_result"
    }
   ],
   "source": [
    "import sqlite3\n",
    "import pandas as pd\n",
    "\n",
    "# Connect to the SQLite database\n",
    "conn = sqlite3.connect('mock_ad_data.db')\n",
    "\n",
    "# same query as before\n",
    "sql_query = \"\"\"\n",
    "WITH impression_counts AS (\n",
    "    SELECT\n",
    "        request_country,\n",
    "        COUNT(*) AS impression_count\n",
    "    FROM impressions\n",
    "    GROUP BY request_country\n",
    "),\n",
    "\n",
    "click_counts AS (\n",
    "    SELECT\n",
    "        impressions.request_country,\n",
    "        COUNT(*) AS click_count\n",
    "    FROM clicks\n",
    "    JOIN impressions ON impressions.impression_id = clicks.impression_id\n",
    "    GROUP BY impressions.request_country\n",
    ")\n",
    "\n",
    "SELECT \n",
    "    impression_counts.request_country,\n",
    "    impression_counts.impression_count,\n",
    "    COALESCE(click_counts.click_count, 0) AS click_count,\n",
    "    ROUND(\n",
    "        (CAST(COALESCE(click_counts.click_count, 0) AS FLOAT) / CAST(impression_counts.impression_count AS FLOAT)) * 100, 2\n",
    "    ) AS CTR_Percentage\n",
    "FROM \n",
    "    impression_counts\n",
    "LEFT JOIN \n",
    "    click_counts ON impression_counts.request_country = click_counts.request_country\n",
    "ORDER BY \n",
    "    CTR_Percentage DESC;\n",
    "\"\"\"\n",
    "\n",
    "# Execute the query and store the result in a pandas DataFrame\n",
    "df = pd.read_sql_query(sql_query, conn)\n",
    "\n",
    "# Close the connection\n",
    "conn.close()\n",
    "\n",
    "df"
   ]
  },
  {
   "cell_type": "code",
   "execution_count": 14,
   "id": "024b74f7-4267-4d02-8844-f458e4f2c653",
   "metadata": {},
   "outputs": [
    {
     "data": {
      "image/png": "[encoded data removed]",
      "text/plain": [
       "<Figure size 1200x600 with 1 Axes>"
      ]
     },
     "metadata": {},
     "output_type": "display_data"
    }
   ],
   "source": [
    "import matplotlib.pyplot as plt\n",
    "import seaborn as sns\n",
    "\n",
    "# Create a color palette\n",
    "palette = sns.color_palette(\"coolwarm\", len(df))\n",
    "\n",
    "# Plot CTR for each country\n",
    "plt.figure(figsize=(12, 6))\n",
    "bars = plt.bar(df['request_country'], df['CTR_Percentage'], color=palette, width=0.5)\n",
    "\n",
    "# Label each bar with the percentage\n",
    "for bar in bars:\n",
    "    height = bar.get_height()\n",
    "    plt.text(bar.get_x() + bar.get_width() / 2.0, height, f'{height}%', ha='center', va='bottom')\n",
    "\n",
    "# Set y-axis scale to show percentages up to 100%\n",
    "plt.ylim(0, 100)\n",
    "plt.xlabel('Country')\n",
    "plt.ylabel('CTR Percentage')\n",
    "plt.title('CTR Percentage by Country')\n",
    "plt.xticks(rotation=45)\n",
    "plt.tight_layout()\n",
    "\n",
    "plt.savefig('graphs/ctr_by_country_bar.jpg', dpi=100, bbox_inches='tight')\n",
    "plt.show()"
   ]
  },
  {
   "cell_type": "markdown",
   "id": "8eced5fc-d0a0-44e3-b3fe-9cdccca6688d",
   "metadata": {},
   "source": [
    "## Interactive Map visualization with folium library"
   ]
  },
  {
   "cell_type": "code",
   "execution_count": 15,
   "id": "336a51f9-3994-433f-9a46-2af688fb584d",
   "metadata": {
    "scrolled": true
   },
   "outputs": [
    {
     "data": {
      "text/html": [
       "<div style=\"width:100%;\"><div style=\"position:relative;width:100%;height:0;padding-bottom:60%;\"><span style=\"color:#565656\">Make this Notebook Trusted to load map: File -> Trust Notebook</span><iframe srcdoc=\"&lt;!DOCTYPE html&gt;\n",
       "&lt;html&gt;\n",
       "&lt;head&gt;\n",
       "    \n",
       "    &lt;meta http-equiv=&quot;content-type&quot; content=&quot;text/html; charset=UTF-8&quot; /&gt;\n",
       "    \n",
       "        &lt;script&gt;\n",
       "            L_NO_TOUCH = false;\n",
       "            L_DISABLE_3D = false;\n",
       "        &lt;/script&gt;\n",
       "    \n",
       "    &lt;style&gt;html, body {width: 100%;height: 100%;margin: 0;padding: 0;}&lt;/style&gt;\n",
       "    &lt;style&gt;#map {position:absolute;top:0;bottom:0;right:0;left:0;}&lt;/style&gt;\n",
       "    &lt;script src=&quot;https://cdn.jsdelivr.net/npm/leaflet@1.9.3/dist/leaflet.js&quot;&gt;&lt;/script&gt;\n",
       "    &lt;script src=&quot;https://code.jquery.com/jquery-3.7.1.min.js&quot;&gt;&lt;/script&gt;\n",
       "    &lt;script src=&quot;https://cdn.jsdelivr.net/npm/bootstrap@5.2.2/dist/js/bootstrap.bundle.min.js&quot;&gt;&lt;/script&gt;\n",
       "    &lt;script src=&quot;https://cdnjs.cloudflare.com/ajax/libs/Leaflet.awesome-markers/2.0.2/leaflet.awesome-markers.js&quot;&gt;&lt;/script&gt;\n",
       "    &lt;link rel=&quot;stylesheet&quot; href=&quot;https://cdn.jsdelivr.net/npm/leaflet@1.9.3/dist/leaflet.css&quot;/&gt;\n",
       "    &lt;link rel=&quot;stylesheet&quot; href=&quot;https://cdn.jsdelivr.net/npm/bootstrap@5.2.2/dist/css/bootstrap.min.css&quot;/&gt;\n",
       "    &lt;link rel=&quot;stylesheet&quot; href=&quot;https://netdna.bootstrapcdn.com/bootstrap/3.0.0/css/bootstrap-glyphicons.css&quot;/&gt;\n",
       "    &lt;link rel=&quot;stylesheet&quot; href=&quot;https://cdn.jsdelivr.net/npm/@fortawesome/fontawesome-free@6.2.0/css/all.min.css&quot;/&gt;\n",
       "    &lt;link rel=&quot;stylesheet&quot; href=&quot;https://cdnjs.cloudflare.com/ajax/libs/Leaflet.awesome-markers/2.0.2/leaflet.awesome-markers.css&quot;/&gt;\n",
       "    &lt;link rel=&quot;stylesheet&quot; href=&quot;https://cdn.jsdelivr.net/gh/python-visualization/folium/folium/templates/leaflet.awesome.rotate.min.css&quot;/&gt;\n",
       "    \n",
       "            &lt;meta name=&quot;viewport&quot; content=&quot;width=device-width,\n",
       "                initial-scale=1.0, maximum-scale=1.0, user-scalable=no&quot; /&gt;\n",
       "            &lt;style&gt;\n",
       "                #map_178dd5f21b972e889aabd411039a7f85 {\n",
       "                    position: relative;\n",
       "                    width: 100.0%;\n",
       "                    height: 100.0%;\n",
       "                    left: 0.0%;\n",
       "                    top: 0.0%;\n",
       "                }\n",
       "                .leaflet-container { font-size: 1rem; }\n",
       "            &lt;/style&gt;\n",
       "        \n",
       "&lt;/head&gt;\n",
       "&lt;body&gt;\n",
       "    \n",
       "    \n",
       "            &lt;div class=&quot;folium-map&quot; id=&quot;map_178dd5f21b972e889aabd411039a7f85&quot; &gt;&lt;/div&gt;\n",
       "        \n",
       "&lt;/body&gt;\n",
       "&lt;script&gt;\n",
       "    \n",
       "    \n",
       "            var map_178dd5f21b972e889aabd411039a7f85 = L.map(\n",
       "                &quot;map_178dd5f21b972e889aabd411039a7f85&quot;,\n",
       "                {\n",
       "                    center: [51.1657, 10.4515],\n",
       "                    crs: L.CRS.EPSG3857,\n",
       "                    zoom: 4,\n",
       "                    zoomControl: true,\n",
       "                    preferCanvas: false,\n",
       "                }\n",
       "            );\n",
       "\n",
       "            \n",
       "\n",
       "        \n",
       "    \n",
       "            var tile_layer_d4e2945b6ea030d6f3c3655745244917 = L.tileLayer(\n",
       "                &quot;https://tile.openstreetmap.org/{z}/{x}/{y}.png&quot;,\n",
       "                {&quot;attribution&quot;: &quot;\\u0026copy; \\u003ca href=\\&quot;https://www.openstreetmap.org/copyright\\&quot;\\u003eOpenStreetMap\\u003c/a\\u003e contributors&quot;, &quot;detectRetina&quot;: false, &quot;maxNativeZoom&quot;: 19, &quot;maxZoom&quot;: 19, &quot;minZoom&quot;: 0, &quot;noWrap&quot;: false, &quot;opacity&quot;: 1, &quot;subdomains&quot;: &quot;abc&quot;, &quot;tms&quot;: false}\n",
       "            );\n",
       "        \n",
       "    \n",
       "            tile_layer_d4e2945b6ea030d6f3c3655745244917.addTo(map_178dd5f21b972e889aabd411039a7f85);\n",
       "        \n",
       "    \n",
       "            var marker_31d71aa28fbd971abbf19c0057ddfba8 = L.marker(\n",
       "                [47.59397, 14.12456],\n",
       "                {}\n",
       "            ).addTo(map_178dd5f21b972e889aabd411039a7f85);\n",
       "        \n",
       "    \n",
       "            var icon_79c20d0d2b2d434d1279d9ca2ec3f3b2 = L.AwesomeMarkers.icon(\n",
       "                {&quot;extraClasses&quot;: &quot;fa-rotate-0&quot;, &quot;icon&quot;: &quot;info-sign&quot;, &quot;iconColor&quot;: &quot;white&quot;, &quot;markerColor&quot;: &quot;green&quot;, &quot;prefix&quot;: &quot;glyphicon&quot;}\n",
       "            );\n",
       "            marker_31d71aa28fbd971abbf19c0057ddfba8.setIcon(icon_79c20d0d2b2d434d1279d9ca2ec3f3b2);\n",
       "        \n",
       "    \n",
       "        var popup_ef24958178e8e4a7b321f04ec53702ae = L.popup({&quot;maxWidth&quot;: &quot;100%&quot;});\n",
       "\n",
       "        \n",
       "            \n",
       "                var html_84f816f370823aea6f9484458e6397d9 = $(`&lt;div id=&quot;html_84f816f370823aea6f9484458e6397d9&quot; style=&quot;width: 100.0%; height: 100.0%;&quot;&gt;CTR: 65.85%&lt;/div&gt;`)[0];\n",
       "                popup_ef24958178e8e4a7b321f04ec53702ae.setContent(html_84f816f370823aea6f9484458e6397d9);\n",
       "            \n",
       "        \n",
       "\n",
       "        marker_31d71aa28fbd971abbf19c0057ddfba8.bindPopup(popup_ef24958178e8e4a7b321f04ec53702ae)\n",
       "        ;\n",
       "\n",
       "        \n",
       "    \n",
       "    \n",
       "            marker_31d71aa28fbd971abbf19c0057ddfba8.bindTooltip(\n",
       "                `&lt;div&gt;\n",
       "                     Austria\n",
       "                 &lt;/div&gt;`,\n",
       "                {&quot;sticky&quot;: true}\n",
       "            );\n",
       "        \n",
       "    \n",
       "            var marker_b066da4752711021668ab5ac8a4388f7 = L.marker(\n",
       "                [42.6384261, 12.674297],\n",
       "                {}\n",
       "            ).addTo(map_178dd5f21b972e889aabd411039a7f85);\n",
       "        \n",
       "    \n",
       "            var icon_9dc6722c509d179417db5893148f5e1f = L.AwesomeMarkers.icon(\n",
       "                {&quot;extraClasses&quot;: &quot;fa-rotate-0&quot;, &quot;icon&quot;: &quot;info-sign&quot;, &quot;iconColor&quot;: &quot;white&quot;, &quot;markerColor&quot;: &quot;green&quot;, &quot;prefix&quot;: &quot;glyphicon&quot;}\n",
       "            );\n",
       "            marker_b066da4752711021668ab5ac8a4388f7.setIcon(icon_9dc6722c509d179417db5893148f5e1f);\n",
       "        \n",
       "    \n",
       "        var popup_4ed917fc16b101259c8874cb508d962c = L.popup({&quot;maxWidth&quot;: &quot;100%&quot;});\n",
       "\n",
       "        \n",
       "            \n",
       "                var html_293d90c634e812298e99ea3066aed701 = $(`&lt;div id=&quot;html_293d90c634e812298e99ea3066aed701&quot; style=&quot;width: 100.0%; height: 100.0%;&quot;&gt;CTR: 63.04%&lt;/div&gt;`)[0];\n",
       "                popup_4ed917fc16b101259c8874cb508d962c.setContent(html_293d90c634e812298e99ea3066aed701);\n",
       "            \n",
       "        \n",
       "\n",
       "        marker_b066da4752711021668ab5ac8a4388f7.bindPopup(popup_4ed917fc16b101259c8874cb508d962c)\n",
       "        ;\n",
       "\n",
       "        \n",
       "    \n",
       "    \n",
       "            marker_b066da4752711021668ab5ac8a4388f7.bindTooltip(\n",
       "                `&lt;div&gt;\n",
       "                     Italy\n",
       "                 &lt;/div&gt;`,\n",
       "                {&quot;sticky&quot;: true}\n",
       "            );\n",
       "        \n",
       "    \n",
       "            var marker_bbc977d7e382252effd965d3d876d78c = L.marker(\n",
       "                [51.1638175, 10.4478313],\n",
       "                {}\n",
       "            ).addTo(map_178dd5f21b972e889aabd411039a7f85);\n",
       "        \n",
       "    \n",
       "            var icon_2d3b16a99f227025f2a493a3a64aa042 = L.AwesomeMarkers.icon(\n",
       "                {&quot;extraClasses&quot;: &quot;fa-rotate-0&quot;, &quot;icon&quot;: &quot;info-sign&quot;, &quot;iconColor&quot;: &quot;white&quot;, &quot;markerColor&quot;: &quot;orange&quot;, &quot;prefix&quot;: &quot;glyphicon&quot;}\n",
       "            );\n",
       "            marker_bbc977d7e382252effd965d3d876d78c.setIcon(icon_2d3b16a99f227025f2a493a3a64aa042);\n",
       "        \n",
       "    \n",
       "        var popup_a8735dcfd29ab18e399667f4b3417ee5 = L.popup({&quot;maxWidth&quot;: &quot;100%&quot;});\n",
       "\n",
       "        \n",
       "            \n",
       "                var html_46b3369ae6f406f1ff7ba9d4e4831a85 = $(`&lt;div id=&quot;html_46b3369ae6f406f1ff7ba9d4e4831a85&quot; style=&quot;width: 100.0%; height: 100.0%;&quot;&gt;CTR: 52.5%&lt;/div&gt;`)[0];\n",
       "                popup_a8735dcfd29ab18e399667f4b3417ee5.setContent(html_46b3369ae6f406f1ff7ba9d4e4831a85);\n",
       "            \n",
       "        \n",
       "\n",
       "        marker_bbc977d7e382252effd965d3d876d78c.bindPopup(popup_a8735dcfd29ab18e399667f4b3417ee5)\n",
       "        ;\n",
       "\n",
       "        \n",
       "    \n",
       "    \n",
       "            marker_bbc977d7e382252effd965d3d876d78c.bindTooltip(\n",
       "                `&lt;div&gt;\n",
       "                     Germany\n",
       "                 &lt;/div&gt;`,\n",
       "                {&quot;sticky&quot;: true}\n",
       "            );\n",
       "        \n",
       "    \n",
       "            var marker_ab90fe25ddce4ff36b24399239aa1717 = L.marker(\n",
       "                [46.603354, 1.8883335],\n",
       "                {}\n",
       "            ).addTo(map_178dd5f21b972e889aabd411039a7f85);\n",
       "        \n",
       "    \n",
       "            var icon_b401ed545909899e8b714038ff1110a1 = L.AwesomeMarkers.icon(\n",
       "                {&quot;extraClasses&quot;: &quot;fa-rotate-0&quot;, &quot;icon&quot;: &quot;info-sign&quot;, &quot;iconColor&quot;: &quot;white&quot;, &quot;markerColor&quot;: &quot;red&quot;, &quot;prefix&quot;: &quot;glyphicon&quot;}\n",
       "            );\n",
       "            marker_ab90fe25ddce4ff36b24399239aa1717.setIcon(icon_b401ed545909899e8b714038ff1110a1);\n",
       "        \n",
       "    \n",
       "        var popup_89b40f63086cfe8e7c9549ce13c125ca = L.popup({&quot;maxWidth&quot;: &quot;100%&quot;});\n",
       "\n",
       "        \n",
       "            \n",
       "                var html_7865b199cdb6851b7c000be4f07bbaf2 = $(`&lt;div id=&quot;html_7865b199cdb6851b7c000be4f07bbaf2&quot; style=&quot;width: 100.0%; height: 100.0%;&quot;&gt;CTR: 43.48%&lt;/div&gt;`)[0];\n",
       "                popup_89b40f63086cfe8e7c9549ce13c125ca.setContent(html_7865b199cdb6851b7c000be4f07bbaf2);\n",
       "            \n",
       "        \n",
       "\n",
       "        marker_ab90fe25ddce4ff36b24399239aa1717.bindPopup(popup_89b40f63086cfe8e7c9549ce13c125ca)\n",
       "        ;\n",
       "\n",
       "        \n",
       "    \n",
       "    \n",
       "            marker_ab90fe25ddce4ff36b24399239aa1717.bindTooltip(\n",
       "                `&lt;div&gt;\n",
       "                     France\n",
       "                 &lt;/div&gt;`,\n",
       "                {&quot;sticky&quot;: true}\n",
       "            );\n",
       "        \n",
       "    \n",
       "            tile_layer_d4e2945b6ea030d6f3c3655745244917.addTo(map_178dd5f21b972e889aabd411039a7f85);\n",
       "        \n",
       "&lt;/script&gt;\n",
       "&lt;/html&gt;\" style=\"position:absolute;width:100%;height:100%;left:0;top:0;border:none !important;\" allowfullscreen webkitallowfullscreen mozallowfullscreen></iframe></div></div>"
      ],
      "text/plain": [
       "<folium.folium.Map at 0x10f1a7e50>"
      ]
     },
     "execution_count": 15,
     "metadata": {},
     "output_type": "execute_result"
    }
   ],
   "source": [
    "import folium\n",
    "from geopy.geocoders import Nominatim\n",
    "\n",
    "# Create a geolocator\n",
    "geolocator = Nominatim(user_agent=\"ctr_map\")\n",
    "\n",
    "# Function to determine marker color based on CTR\n",
    "def get_marker_color(ctr):\n",
    "    if ctr >= 60:\n",
    "        return 'green'\n",
    "    elif ctr >= 50:\n",
    "        return 'orange'\n",
    "    else:\n",
    "        return 'red'\n",
    "# Create a Folium map centered on Europe\n",
    "m = folium.Map(location=[51.1657, 10.4515], zoom_start=4)\n",
    "\n",
    "# Add markers for each country with color-coded CTR\n",
    "for index, row in df.iterrows():\n",
    "    country = row['request_country']\n",
    "    ctr_percentage = row['CTR_Percentage']\n",
    "    \n",
    "    # Geocode the country name to get coordinates\n",
    "    location = geolocator.geocode(country)\n",
    "    \n",
    "    if location:\n",
    "        # Determine marker color based on CTR\n",
    "        marker_color = get_marker_color(ctr_percentage)\n",
    "        \n",
    "        # Add marker with color-coded CTR\n",
    "        folium.Marker(\n",
    "            location=[location.latitude, location.longitude],\n",
    "            tooltip=country,\n",
    "            icon=folium.Icon(color=marker_color, icon='info-sign'),\n",
    "            popup=f\"CTR: {ctr_percentage}%\"\n",
    "        ).add_to(m)\n",
    "\n",
    "# Save the map as an HTML file (optional)\n",
    "m.save('graphs/ctr_map_colorcoded.html')\n",
    "\n",
    "# Display the map\n",
    "m"
   ]
  },
  {
   "cell_type": "markdown",
   "id": "d718ee70-99fc-42a2-a714-0299e83e3f16",
   "metadata": {},
   "source": [
    "## CTR reflexions and insights\n",
    "- The mock data was purposely defined as having 60% of the impressions resulting in a click.\n",
    "- The CTR of Austria is 65.85% the highest of the countries included in the mock data.\n",
    "- This means that the impressions served in Austria are effectively capturing the interest of the audience, hence they clicked on the ad.\n",
    "- The caveat, is to also compare the CTR with the conversion rate. If a high CTR is not backed-up by a high conversion rate the advertisers could be losing money in a PPC (pay-per-click) scheme."
   ]
  },
  {
   "cell_type": "markdown",
   "id": "5b47d163-076f-4bd4-af1f-a9b53f8e91df",
   "metadata": {},
   "source": [
    "## Q2: For each converted user, find out how many impressions they were served. Specifically capturing the timestamp for the first & last impression.\n",
    "- in conversions LEFT JOIN impressions (if converted user was served multiple impressions then other fields NULL) ON user_id\n",
    "- for each user_id in conversions\n",
    "- count how many DISTINCT impression_id conversions.user_id was served\n",
    "- count how many DISTINCT conversion_id (if the same user made a deposit from a different impression)\n",
    "- give the MIN timestamp of impression table\n",
    "- give the MAX timestamp of impression table\n",
    "- group by conversions.user_id\n",
    "- create a view to check results and length\n"
   ]
  },
  {
   "cell_type": "code",
   "execution_count": 16,
   "id": "f88c178f-0333-459c-bf67-cc74c5b87f53",
   "metadata": {},
   "outputs": [
    {
     "name": "stdout",
     "output_type": "stream",
     "text": [
      " * sqlite:///mock_ad_data.db\n",
      "Done.\n",
      "Done.\n"
     ]
    },
    {
     "data": {
      "text/plain": [
       "[]"
      ]
     },
     "execution_count": 16,
     "metadata": {},
     "output_type": "execute_result"
    }
   ],
   "source": [
    "%%sql\n",
    "\n",
    "DROP VIEW IF EXISTS conv_imp_view;\n",
    "CREATE VIEW conv_imp_view AS\n",
    "SELECT\n",
    "    conversions.user_id,\n",
    "    COUNT(DISTINCT impressions.impression_id) AS impression_count,\n",
    "    COUNT(DISTINCT conversions.conversion_id) AS conversion_count,\n",
    "    MIN(impressions.timestamp) AS first_impression_timestamp,\n",
    "    MAX(impressions.timestamp) AS last_impression_timestamp\n",
    "FROM conversions \n",
    "LEFT JOIN impressions ON conversions.user_id = impressions.user_id\n",
    "GROUP BY conversions.user_id;"
   ]
  },
  {
   "cell_type": "code",
   "execution_count": 17,
   "id": "4cefc215-fd8b-4c17-bf05-fd991b9a6935",
   "metadata": {},
   "outputs": [
    {
     "name": "stdout",
     "output_type": "stream",
     "text": [
      " * sqlite:///mock_ad_data.db\n",
      "Done.\n"
     ]
    },
    {
     "data": {
      "text/html": [
       "<table>\n",
       "    <thead>\n",
       "        <tr>\n",
       "            <th>user_id</th>\n",
       "            <th>impression_count</th>\n",
       "            <th>conversion_count</th>\n",
       "            <th>first_impression_timestamp</th>\n",
       "            <th>last_impression_timestamp</th>\n",
       "        </tr>\n",
       "    </thead>\n",
       "    <tbody>\n",
       "        <tr>\n",
       "            <td>10</td>\n",
       "            <td>3</td>\n",
       "            <td>1</td>\n",
       "            <td>2022-11-25</td>\n",
       "            <td>2023-01-18</td>\n",
       "        </tr>\n",
       "        <tr>\n",
       "            <td>19</td>\n",
       "            <td>1</td>\n",
       "            <td>1</td>\n",
       "            <td>2023-02-15</td>\n",
       "            <td>2023-02-15</td>\n",
       "        </tr>\n",
       "        <tr>\n",
       "            <td>2</td>\n",
       "            <td>1</td>\n",
       "            <td>1</td>\n",
       "            <td>2022-11-23</td>\n",
       "            <td>2022-11-23</td>\n",
       "        </tr>\n",
       "        <tr>\n",
       "            <td>23</td>\n",
       "            <td>4</td>\n",
       "            <td>1</td>\n",
       "            <td>2022-11-21</td>\n",
       "            <td>2023-03-08</td>\n",
       "        </tr>\n",
       "        <tr>\n",
       "            <td>24</td>\n",
       "            <td>3</td>\n",
       "            <td>1</td>\n",
       "            <td>2022-11-29</td>\n",
       "            <td>2023-01-13</td>\n",
       "        </tr>\n",
       "        <tr>\n",
       "            <td>3</td>\n",
       "            <td>2</td>\n",
       "            <td>1</td>\n",
       "            <td>2023-02-26</td>\n",
       "            <td>2023-03-02</td>\n",
       "        </tr>\n",
       "        <tr>\n",
       "            <td>30</td>\n",
       "            <td>6</td>\n",
       "            <td>2</td>\n",
       "            <td>2022-11-27</td>\n",
       "            <td>2023-02-08</td>\n",
       "        </tr>\n",
       "        <tr>\n",
       "            <td>31</td>\n",
       "            <td>5</td>\n",
       "            <td>1</td>\n",
       "            <td>2022-11-23</td>\n",
       "            <td>2023-03-05</td>\n",
       "        </tr>\n",
       "        <tr>\n",
       "            <td>32</td>\n",
       "            <td>1</td>\n",
       "            <td>1</td>\n",
       "            <td>2023-03-19</td>\n",
       "            <td>2023-03-19</td>\n",
       "        </tr>\n",
       "        <tr>\n",
       "            <td>35</td>\n",
       "            <td>2</td>\n",
       "            <td>1</td>\n",
       "            <td>2023-01-04</td>\n",
       "            <td>2023-03-21</td>\n",
       "        </tr>\n",
       "        <tr>\n",
       "            <td>38</td>\n",
       "            <td>3</td>\n",
       "            <td>1</td>\n",
       "            <td>2022-12-17</td>\n",
       "            <td>2023-03-04</td>\n",
       "        </tr>\n",
       "        <tr>\n",
       "            <td>4</td>\n",
       "            <td>4</td>\n",
       "            <td>1</td>\n",
       "            <td>2022-11-28</td>\n",
       "            <td>2023-03-05</td>\n",
       "        </tr>\n",
       "        <tr>\n",
       "            <td>40</td>\n",
       "            <td>3</td>\n",
       "            <td>1</td>\n",
       "            <td>2023-01-18</td>\n",
       "            <td>2023-03-12</td>\n",
       "        </tr>\n",
       "        <tr>\n",
       "            <td>44</td>\n",
       "            <td>1</td>\n",
       "            <td>1</td>\n",
       "            <td>2023-02-03</td>\n",
       "            <td>2023-02-03</td>\n",
       "        </tr>\n",
       "        <tr>\n",
       "            <td>48</td>\n",
       "            <td>2</td>\n",
       "            <td>1</td>\n",
       "            <td>2022-12-22</td>\n",
       "            <td>2023-02-02</td>\n",
       "        </tr>\n",
       "        <tr>\n",
       "            <td>50</td>\n",
       "            <td>6</td>\n",
       "            <td>2</td>\n",
       "            <td>2022-12-12</td>\n",
       "            <td>2023-03-08</td>\n",
       "        </tr>\n",
       "        <tr>\n",
       "            <td>53</td>\n",
       "            <td>3</td>\n",
       "            <td>1</td>\n",
       "            <td>2022-12-11</td>\n",
       "            <td>2023-01-18</td>\n",
       "        </tr>\n",
       "        <tr>\n",
       "            <td>58</td>\n",
       "            <td>3</td>\n",
       "            <td>1</td>\n",
       "            <td>2022-12-14</td>\n",
       "            <td>2023-02-18</td>\n",
       "        </tr>\n",
       "        <tr>\n",
       "            <td>62</td>\n",
       "            <td>4</td>\n",
       "            <td>1</td>\n",
       "            <td>2022-12-15</td>\n",
       "            <td>2023-02-16</td>\n",
       "        </tr>\n",
       "        <tr>\n",
       "            <td>66</td>\n",
       "            <td>1</td>\n",
       "            <td>1</td>\n",
       "            <td>2022-12-25</td>\n",
       "            <td>2022-12-25</td>\n",
       "        </tr>\n",
       "        <tr>\n",
       "            <td>67</td>\n",
       "            <td>3</td>\n",
       "            <td>2</td>\n",
       "            <td>2022-12-18</td>\n",
       "            <td>2023-03-06</td>\n",
       "        </tr>\n",
       "        <tr>\n",
       "            <td>68</td>\n",
       "            <td>3</td>\n",
       "            <td>1</td>\n",
       "            <td>2022-12-07</td>\n",
       "            <td>2023-03-21</td>\n",
       "        </tr>\n",
       "        <tr>\n",
       "            <td>69</td>\n",
       "            <td>6</td>\n",
       "            <td>2</td>\n",
       "            <td>2022-11-25</td>\n",
       "            <td>2023-03-12</td>\n",
       "        </tr>\n",
       "        <tr>\n",
       "            <td>9</td>\n",
       "            <td>2</td>\n",
       "            <td>1</td>\n",
       "            <td>2023-02-09</td>\n",
       "            <td>2023-03-01</td>\n",
       "        </tr>\n",
       "    </tbody>\n",
       "</table>"
      ],
      "text/plain": [
       "[('10', 3, 1, '2022-11-25', '2023-01-18'),\n",
       " ('19', 1, 1, '2023-02-15', '2023-02-15'),\n",
       " ('2', 1, 1, '2022-11-23', '2022-11-23'),\n",
       " ('23', 4, 1, '2022-11-21', '2023-03-08'),\n",
       " ('24', 3, 1, '2022-11-29', '2023-01-13'),\n",
       " ('3', 2, 1, '2023-02-26', '2023-03-02'),\n",
       " ('30', 6, 2, '2022-11-27', '2023-02-08'),\n",
       " ('31', 5, 1, '2022-11-23', '2023-03-05'),\n",
       " ('32', 1, 1, '2023-03-19', '2023-03-19'),\n",
       " ('35', 2, 1, '2023-01-04', '2023-03-21'),\n",
       " ('38', 3, 1, '2022-12-17', '2023-03-04'),\n",
       " ('4', 4, 1, '2022-11-28', '2023-03-05'),\n",
       " ('40', 3, 1, '2023-01-18', '2023-03-12'),\n",
       " ('44', 1, 1, '2023-02-03', '2023-02-03'),\n",
       " ('48', 2, 1, '2022-12-22', '2023-02-02'),\n",
       " ('50', 6, 2, '2022-12-12', '2023-03-08'),\n",
       " ('53', 3, 1, '2022-12-11', '2023-01-18'),\n",
       " ('58', 3, 1, '2022-12-14', '2023-02-18'),\n",
       " ('62', 4, 1, '2022-12-15', '2023-02-16'),\n",
       " ('66', 1, 1, '2022-12-25', '2022-12-25'),\n",
       " ('67', 3, 2, '2022-12-18', '2023-03-06'),\n",
       " ('68', 3, 1, '2022-12-07', '2023-03-21'),\n",
       " ('69', 6, 2, '2022-11-25', '2023-03-12'),\n",
       " ('9', 2, 1, '2023-02-09', '2023-03-01')]"
      ]
     },
     "execution_count": 17,
     "metadata": {},
     "output_type": "execute_result"
    }
   ],
   "source": [
    "%sql SELECT * FROM conv_imp_view"
   ]
  },
  {
   "cell_type": "code",
   "execution_count": 18,
   "id": "de04142d-208b-4dde-aae0-c5131c5d9c8d",
   "metadata": {},
   "outputs": [
    {
     "name": "stdout",
     "output_type": "stream",
     "text": [
      " * sqlite:///mock_ad_data.db\n",
      "Done.\n"
     ]
    },
    {
     "data": {
      "text/html": [
       "<table>\n",
       "    <thead>\n",
       "        <tr>\n",
       "            <th>user_conversions</th>\n",
       "        </tr>\n",
       "    </thead>\n",
       "    <tbody>\n",
       "        <tr>\n",
       "            <td>24</td>\n",
       "        </tr>\n",
       "    </tbody>\n",
       "</table>"
      ],
      "text/plain": [
       "[(24,)]"
      ]
     },
     "execution_count": 18,
     "metadata": {},
     "output_type": "execute_result"
    }
   ],
   "source": [
    "%%sql\n",
    "SELECT COUNT(*) AS user_conversions\n",
    "FROM conv_imp_view"
   ]
  },
  {
   "cell_type": "markdown",
   "id": "47f77e5e-6b09-47fc-b9ce-dc65d4b89d5e",
   "metadata": {},
   "source": [
    "## get the impressions conversions by user in a pandas dataframe"
   ]
  },
  {
   "cell_type": "code",
   "execution_count": 19,
   "id": "c5b4ded2-e1f6-45ca-8f8a-93c2dde6e477",
   "metadata": {
    "tags": []
   },
   "outputs": [
    {
     "data": {
      "text/html": [
       "<div>\n",
       "<style scoped>\n",
       "    .dataframe tbody tr th:only-of-type {\n",
       "        vertical-align: middle;\n",
       "    }\n",
       "\n",
       "    .dataframe tbody tr th {\n",
       "        vertical-align: top;\n",
       "    }\n",
       "\n",
       "    .dataframe thead th {\n",
       "        text-align: right;\n",
       "    }\n",
       "</style>\n",
       "<table border=\"1\" class=\"dataframe\">\n",
       "  <thead>\n",
       "    <tr style=\"text-align: right;\">\n",
       "      <th></th>\n",
       "      <th>user_id</th>\n",
       "      <th>impression_count</th>\n",
       "      <th>conversion_count</th>\n",
       "      <th>first_impression_timestamp</th>\n",
       "      <th>last_impression_timestamp</th>\n",
       "    </tr>\n",
       "  </thead>\n",
       "  <tbody>\n",
       "    <tr>\n",
       "      <th>0</th>\n",
       "      <td>10</td>\n",
       "      <td>3</td>\n",
       "      <td>1</td>\n",
       "      <td>2022-11-25</td>\n",
       "      <td>2023-01-18</td>\n",
       "    </tr>\n",
       "    <tr>\n",
       "      <th>1</th>\n",
       "      <td>19</td>\n",
       "      <td>1</td>\n",
       "      <td>1</td>\n",
       "      <td>2023-02-15</td>\n",
       "      <td>2023-02-15</td>\n",
       "    </tr>\n",
       "    <tr>\n",
       "      <th>2</th>\n",
       "      <td>2</td>\n",
       "      <td>1</td>\n",
       "      <td>1</td>\n",
       "      <td>2022-11-23</td>\n",
       "      <td>2022-11-23</td>\n",
       "    </tr>\n",
       "    <tr>\n",
       "      <th>3</th>\n",
       "      <td>23</td>\n",
       "      <td>4</td>\n",
       "      <td>1</td>\n",
       "      <td>2022-11-21</td>\n",
       "      <td>2023-03-08</td>\n",
       "    </tr>\n",
       "    <tr>\n",
       "      <th>4</th>\n",
       "      <td>24</td>\n",
       "      <td>3</td>\n",
       "      <td>1</td>\n",
       "      <td>2022-11-29</td>\n",
       "      <td>2023-01-13</td>\n",
       "    </tr>\n",
       "  </tbody>\n",
       "</table>\n",
       "</div>"
      ],
      "text/plain": [
       "  user_id  impression_count  conversion_count first_impression_timestamp  \\\n",
       "0      10                 3                 1                 2022-11-25   \n",
       "1      19                 1                 1                 2023-02-15   \n",
       "2       2                 1                 1                 2022-11-23   \n",
       "3      23                 4                 1                 2022-11-21   \n",
       "4      24                 3                 1                 2022-11-29   \n",
       "\n",
       "  last_impression_timestamp  \n",
       "0                2023-01-18  \n",
       "1                2023-02-15  \n",
       "2                2022-11-23  \n",
       "3                2023-03-08  \n",
       "4                2023-01-13  "
      ]
     },
     "execution_count": 19,
     "metadata": {},
     "output_type": "execute_result"
    }
   ],
   "source": [
    "import pandas as pd\n",
    "import sqlite3\n",
    "\n",
    "# Connect to SQLite Database\n",
    "conn = sqlite3.connect('mock_ad_data.db')\n",
    "\n",
    "# Execute SQL Query\n",
    "sql_query = \"SELECT * FROM conv_imp_view;\"\n",
    "\n",
    "# Fetch Data into DataFrame\n",
    "df = pd.read_sql_query(sql_query, conn)\n",
    "\n",
    "# Close Database Connection\n",
    "conn.close()\n",
    "\n",
    "# Display the DataFrame\n",
    "df.head()\n"
   ]
  },
  {
   "cell_type": "markdown",
   "id": "9870c4b3-330e-473e-aca5-aaba2e8b957e",
   "metadata": {},
   "source": [
    "## Scatterplot impression_count and conversion_count\n",
    "- jitter the data points to see each individual user\n",
    "- this will show if there is a correlation between the number of impressions served and conversions made."
   ]
  },
  {
   "cell_type": "code",
   "execution_count": 20,
   "id": "d61d8f6f-9a21-4886-a66d-885040c34f77",
   "metadata": {},
   "outputs": [
    {
     "data": {
      "image/png": "[encoded data removed]",
      "text/plain": [
       "<Figure size 800x600 with 1 Axes>"
      ]
     },
     "metadata": {},
     "output_type": "display_data"
    }
   ],
   "source": [
    "import matplotlib.pyplot as plt\n",
    "import numpy as np\n",
    "\n",
    "# Example data (replace with your DataFrame)\n",
    "impression_counts = df['impression_count']\n",
    "conversion_counts = df['conversion_count']\n",
    "\n",
    "# Add jitter to x and y coordinates\n",
    "jitter_amount = 0.1  \n",
    "impression_jitter = np.random.uniform(-jitter_amount, jitter_amount, size=len(impression_counts))\n",
    "conversion_jitter = np.random.uniform(-jitter_amount, jitter_amount, size=len(conversion_counts))\n",
    "\n",
    "plt.figure(figsize=(8, 6))\n",
    "plt.scatter(impression_counts + impression_jitter, conversion_counts + conversion_jitter, color='skyblue', alpha=0.7)\n",
    "plt.title('Impression Count vs Conversion Count (with Jitter)')\n",
    "plt.xlabel('Impression Count')\n",
    "plt.ylabel('Conversion Count')\n",
    "plt.grid(True)\n",
    "plt.tight_layout()\n",
    "\n",
    "plt.savefig('graphs/imp_conv_scat.jpg', dpi=100, bbox_inches='tight')\n",
    "plt.show()"
   ]
  },
  {
   "cell_type": "markdown",
   "id": "c1be0170-5c41-43ca-a5cd-104ee0790288",
   "metadata": {
    "tags": []
   },
   "source": [
    "### Reflection from scatterplot impressions vs conversions\n",
    "\n",
    "- Total of unique 24 users resulted in conversion.\n",
    "- More impressions does not translate to more conversions.\n",
    "- A correlation is not apparent.\n",
    "- Notably, 8 users (33%) resulted in 1 conversion where served 3 impressions.\n",
    "- It seems that serving 3 impressions is the sweet spot to get a conversion."
   ]
  },
  {
   "cell_type": "markdown",
   "id": "5b6cb396-de70-44a7-84cb-92d735920472",
   "metadata": {},
   "source": [
    "## Investigate what is the difference in days between the timestamp of the first impression served and the last per converted user.\n",
    "- The range of dates in the mock data is 120 days (4 months) from november 2022 until march 2023."
   ]
  },
  {
   "cell_type": "code",
   "execution_count": 26,
   "id": "d37370cc-e015-444e-9b82-aacdfc825302",
   "metadata": {
    "tags": []
   },
   "outputs": [
    {
     "data": {
      "image/png": "[encoded data removed]",
      "text/plain": [
       "<Figure size 1000x600 with 1 Axes>"
      ]
     },
     "metadata": {},
     "output_type": "display_data"
    }
   ],
   "source": [
    "import matplotlib.pyplot as plt\n",
    "from datetime import datetime\n",
    "\n",
    "# Convert timestamp columns to datetime objects\n",
    "df['first_impression_timestamp'] = pd.to_datetime(df['first_impression_timestamp'])\n",
    "df['last_impression_timestamp'] = pd.to_datetime(df['last_impression_timestamp'])\n",
    "\n",
    "# Calculate the difference in days between first and last timestamps\n",
    "df['timestamp_difference'] = (df['last_impression_timestamp'] - df['first_impression_timestamp']).dt.days\n",
    "\n",
    "# sort descending\n",
    "df = df.sort_values(by='timestamp_difference', ascending=False)\n",
    "\n",
    "# Plotting\n",
    "plt.figure(figsize=(10, 6))\n",
    "plt.bar(df['user_id'], df['timestamp_difference'], color='skyblue')\n",
    "plt.xlabel('User ID')\n",
    "plt.ylabel('Difference in Days')\n",
    "plt.title('Difference Between First and Last Timestamp of Impression served per User')\n",
    "plt.xticks(df['user_id'])  # Ensure all user IDs are shown on x-axis\n",
    "plt.grid(axis='y')\n",
    "plt.tight_layout()\n",
    "\n",
    "plt.savefig('graphs/diff_timestamp_imp_bar.jpg', dpi=100, bbox_inches='tight')\n",
    "plt.show()"
   ]
  },
  {
   "cell_type": "markdown",
   "id": "cf676310-7f1c-4243-89b5-1d461c873f5a",
   "metadata": {},
   "source": [
    "### Reflection on impression timestamp difference per converted user\n",
    "-\n"
   ]
  },
  {
   "cell_type": "markdown",
   "id": "9efc2157-1ebd-4d9b-a790-093986edb35a",
   "metadata": {},
   "source": [
    "## Is there a relationship between the time difference of the impressions and the conversions?"
   ]
  },
  {
   "cell_type": "code",
   "execution_count": 27,
   "id": "235d6a13-1073-4223-a518-c032ed5dc337",
   "metadata": {},
   "outputs": [
    {
     "data": {
      "image/png": "[encoded data removed]",
      "text/plain": [
       "<Figure size 1200x600 with 1 Axes>"
      ]
     },
     "metadata": {},
     "output_type": "display_data"
    }
   ],
   "source": [
    "# Convert timestamp columns to datetime objects\n",
    "df['first_impression_timestamp'] = pd.to_datetime(df['first_impression_timestamp'])\n",
    "df['last_impression_timestamp'] = pd.to_datetime(df['last_impression_timestamp'])\n",
    "\n",
    "# Calculate the difference in days between first and last timestamps\n",
    "df['timestamp_difference'] = (df['last_impression_timestamp'] - df['first_impression_timestamp']).dt.days\n",
    "\n",
    "# Sort DataFrame by timestamp_difference in descending order\n",
    "df = df.sort_values(by='timestamp_difference', ascending=False)\n",
    "\n",
    "# Plotting\n",
    "plt.figure(figsize=(12, 6))\n",
    "\n",
    "# Width of each bar group\n",
    "bar_width = 0.4\n",
    "\n",
    "# Create bar groups with numeric indices (0, 1, 2, ...)\n",
    "bars1 = plt.bar(range(len(df)), df['timestamp_difference'], width=bar_width, color='skyblue', label='Timestamp Difference')\n",
    "bars2 = plt.bar([x + bar_width for x in range(len(df))], df['conversion_count'], width=bar_width, color='orange', label='Conversion Count')\n",
    "\n",
    "plt.xlabel('User ID')\n",
    "plt.ylabel('Days Difference')\n",
    "plt.title('Timestamp Difference and Conversion Count per User (Sorted by Days Difference)')\n",
    "plt.xticks(range(len(df)), df['user_id'])  # Setting xticks to user_id values\n",
    "plt.legend()\n",
    "\n",
    "# Adding data labels for timestamp difference\n",
    "for bar, diff in zip(bars1, df['timestamp_difference']):\n",
    "    plt.text(bar.get_x() + bar.get_width()/2, bar.get_height() + 0.3, f'{diff}', ha='center', va='bottom')\n",
    "\n",
    "# Adding data labels for conversion count\n",
    "for bar, conv in zip(bars2, df['conversion_count']):\n",
    "    plt.text(bar.get_x() + bar.get_width()/2, bar.get_height() + 0.3, f'{conv}', ha='center', va='bottom')\n",
    "\n",
    "plt.tight_layout()\n",
    "\n",
    "plt.savefig('graphs/diff_timestamp_conv_bar.jpg', dpi=100, bbox_inches='tight')\n",
    "plt.show()"
   ]
  },
  {
   "cell_type": "markdown",
   "id": "e0233a53-8c8d-4866-a9cd-829eb4c3b5b7",
   "metadata": {},
   "source": [
    "### Reflection on timestamp difference and number of conversion per user.\n",
    "-"
   ]
  },
  {
   "cell_type": "markdown",
   "id": "57e701a9-54ab-4825-9ca2-7cbcdee80dde",
   "metadata": {},
   "source": [
    "## Q3: What other insights could you present which the audience might find interesting from the above schemas? \n",
    "- Do not answer this question with code, just write about what else could be interesting and why (think how to present this in Part 3!)\n",
    "- A lot:\n",
    "- what explains the difference between clicks and conversions?\n",
    "- impressions.dynamic_display_variables : which sport results in more CTR or Imp Crv per country. (target specific sport by country preference)\n",
    "- Differecnce between timestamp of impression and timestamp of conversion. (how long was the user in the website before placing a deposit, how convincing is the destination site?)\n",
    "- Timestamp of conversion: is the timestamp local time? this can be aggregated bu time of day or season to see when users are most likely to place a deposit. and further aggregated by country\n",
    "- impression browswer name, to see if mobile browser or desktop browser is more effective form clicks or conversions. (can help optimise display of impression in small mobile screen)\n",
    "- further analysis of the deposit value of the conversion and currency by country. what is the average deposit globally, and per country, is there a country above average, related to what content, using which browser, at what time.\n",
    "- Does the currency match the country request, or is it someone travelling or on holiday. (can say something about the psychology of the target audience. is the user relax? away from home?)\n",
    "- is there a malware that clicks on impression to cause economic damage to the advertiser?"
   ]
  }
 ],
 "metadata": {
  "kernelspec": {
   "display_name": "Python 3 (ipykernel)",
   "language": "python",
   "name": "python3"
  },
  "language_info": {
   "codemirror_mode": {
    "name": "ipython",
    "version": 3
   },
   "file_extension": ".py",
   "mimetype": "text/x-python",
   "name": "python",
   "nbconvert_exporter": "python",
   "pygments_lexer": "ipython3",
   "version": "3.11.7"
  }
 },
 "nbformat": 4,
 "nbformat_minor": 5
}
