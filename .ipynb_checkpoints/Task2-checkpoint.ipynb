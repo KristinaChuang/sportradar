{
 "cells": [
  {
   "cell_type": "markdown",
   "id": "dab8e2e6-56f4-4e55-b1f0-98e3c1278182",
   "metadata": {},
   "source": [
    "# TASK 2: World Cup 2022\n",
    "With Euros underway, it is a repetitive task for the team to produce insights around the\n",
    "importance of sporting events in Ads. Using the attached data, feel free to generate any insights\n",
    "you think is relevant around what we have seen at the World Cup in 2022 & how this could be\n",
    "interesting, below are some hints to help you get started\n",
    "- Q1: Which countries have the largest reduction in Cost per Acquistion (CPA) for different\n",
    "conversions during the World Cup compared to other date ranges available?\n",
    "- Q2: What insights could you present which clients might find interesting & encourage them to\n",
    "spend more on the next major sporting event?\n",
    "- Q3: Euro 2024 is currently underway; how could you adapt your analysis for this competition\n",
    "instead? Are there any insights or questions that would be more or less relevant?"
   ]
  },
  {
   "cell_type": "markdown",
   "id": "cc37363b-8938-422b-bfdc-d2eb516a66c5",
   "metadata": {},
   "source": [
    "# Notes to self\n",
    "- I am not sure if I should put this csv file in a sqlite database and query with sql.\n",
    "- It seems to me that the data analysis process is much easier done directly in pandas."
   ]
  },
  {
   "cell_type": "markdown",
   "id": "c1bebe65-6183-4a3d-956c-94b7a3f2561e",
   "metadata": {},
   "source": [
    "## Columns meanings\n",
    "- Data set has 659.849 rows and 12 columns:\n",
    "1. date_partition: date of data recording\n",
    "2. hour_of_day_utc: Hour when data was recorded (UTC) Coordinated Universal Time. Range 0-23.\n",
    "3. country_code: origin country of data in ISO standard. Range 2 letter code\n",
    "4. os_name: operating system of the device used. Android, iOS, Windows.\n",
    "5. platform_type: type of platform . website, mobile app.\n",
    "6. imps: Number of ad impressions. How many times the ad was fetched and shown independent of user interaction.\n",
    "7. viewable_imps: Number of viewable ad impressions. Ads actually viewed according to 50% in 1second standard.\n",
    "8. clicks: Number of ad clicks. (interaction measure)\n",
    "9. reg_fin: finalized registrations. Number of users who registered after clicking.\n",
    "10. ftd: first-time deposits. Number of users who made their first deposit after clicking. (Users need to deposit funds to use the service)\n",
    "11. deposit: Total amount deposited by users. Cummulative value per UTC hour (probably).\n",
    "12. spend_usd: Total ad spend in US dollars. Cost of displaying the ads.\n",
    "\n",
    "Therefore, this data set contain data points for online marketing campigns metrics and can be use to calculate further digital marketing KPIs (key performance indicators)\n",
    "- CPA: cost per acquisition\n",
    "- Click-Through Rate (CTR)\n",
    "- Cost-Per-Click (CPC)\n",
    "- Conversion Rate (CVR)\n",
    "- Return on Investment (ROI)\n",
    "- Return on Ad Spend (ROAS)\n",
    "- Customer Acquisition Cost (CAC)\n",
    "- Customer Lifetime Value (CLV)\n",
    "- Marketing Qualified Lead (MQL)\n",
    "\n"
   ]
  },
  {
   "cell_type": "markdown",
   "id": "e22772da-b52e-4c1a-a394-03ec7333dac3",
   "metadata": {},
   "source": [
    "## Definitions\n",
    "- <b>Viewable impressions</b>: is a standard measure of ad viewability defined by the International Advertising Bureau (IAB) to be an ad, which appears at least 50% on screen for more than one second. They are the metric that advertisers use to <b>quantify the percentage of ads that are actually viewed</b> by real people.\n"
   ]
  },
  {
   "cell_type": "markdown",
   "id": "d3e09bd9-d2e0-4525-acd8-9f34121f8b5c",
   "metadata": {},
   "source": [
    "# Data Inspection "
   ]
  },
  {
   "cell_type": "code",
   "execution_count": 2,
   "id": "1993a195-4f0a-4498-9799-563b2cddcb6b",
   "metadata": {},
   "outputs": [
    {
     "data": {
      "text/html": [
       "<div>\n",
       "<style scoped>\n",
       "    .dataframe tbody tr th:only-of-type {\n",
       "        vertical-align: middle;\n",
       "    }\n",
       "\n",
       "    .dataframe tbody tr th {\n",
       "        vertical-align: top;\n",
       "    }\n",
       "\n",
       "    .dataframe thead th {\n",
       "        text-align: right;\n",
       "    }\n",
       "</style>\n",
       "<table border=\"1\" class=\"dataframe\">\n",
       "  <thead>\n",
       "    <tr style=\"text-align: right;\">\n",
       "      <th></th>\n",
       "      <th>date_partition</th>\n",
       "      <th>hour_of_day_utc</th>\n",
       "      <th>country_code</th>\n",
       "      <th>os_name</th>\n",
       "      <th>platform_type</th>\n",
       "      <th>imps</th>\n",
       "      <th>viewable_imps</th>\n",
       "      <th>clicks</th>\n",
       "      <th>reg_fin</th>\n",
       "      <th>ftd</th>\n",
       "      <th>deposit</th>\n",
       "      <th>spend_usd</th>\n",
       "    </tr>\n",
       "  </thead>\n",
       "  <tbody>\n",
       "    <tr>\n",
       "      <th>0</th>\n",
       "      <td>2022-12-02</td>\n",
       "      <td>4</td>\n",
       "      <td>BR</td>\n",
       "      <td>Android</td>\n",
       "      <td>website</td>\n",
       "      <td>263424.0</td>\n",
       "      <td>177356.0</td>\n",
       "      <td>964.0</td>\n",
       "      <td>27.0</td>\n",
       "      <td>20.0</td>\n",
       "      <td>197.0</td>\n",
       "      <td>178.62</td>\n",
       "    </tr>\n",
       "    <tr>\n",
       "      <th>1</th>\n",
       "      <td>2022-12-02</td>\n",
       "      <td>14</td>\n",
       "      <td>BR</td>\n",
       "      <td>Windows</td>\n",
       "      <td>website</td>\n",
       "      <td>206976.0</td>\n",
       "      <td>160251.0</td>\n",
       "      <td>509.0</td>\n",
       "      <td>14.0</td>\n",
       "      <td>12.0</td>\n",
       "      <td>128.0</td>\n",
       "      <td>122.47</td>\n",
       "    </tr>\n",
       "    <tr>\n",
       "      <th>2</th>\n",
       "      <td>2022-12-02</td>\n",
       "      <td>10</td>\n",
       "      <td>DE</td>\n",
       "      <td>Android</td>\n",
       "      <td>website</td>\n",
       "      <td>5790.0</td>\n",
       "      <td>4501.0</td>\n",
       "      <td>73.0</td>\n",
       "      <td>0.0</td>\n",
       "      <td>0.0</td>\n",
       "      <td>12.0</td>\n",
       "      <td>13.41</td>\n",
       "    </tr>\n",
       "    <tr>\n",
       "      <th>3</th>\n",
       "      <td>2022-12-02</td>\n",
       "      <td>9</td>\n",
       "      <td>IN</td>\n",
       "      <td>Android</td>\n",
       "      <td>website</td>\n",
       "      <td>376320.0</td>\n",
       "      <td>188159.0</td>\n",
       "      <td>1437.0</td>\n",
       "      <td>1.0</td>\n",
       "      <td>2.0</td>\n",
       "      <td>10.0</td>\n",
       "      <td>220.12</td>\n",
       "    </tr>\n",
       "    <tr>\n",
       "      <th>4</th>\n",
       "      <td>2022-12-02</td>\n",
       "      <td>1</td>\n",
       "      <td>KE</td>\n",
       "      <td>Android</td>\n",
       "      <td>website</td>\n",
       "      <td>34737.0</td>\n",
       "      <td>14405.0</td>\n",
       "      <td>36.0</td>\n",
       "      <td>1.0</td>\n",
       "      <td>0.0</td>\n",
       "      <td>11.0</td>\n",
       "      <td>24.42</td>\n",
       "    </tr>\n",
       "  </tbody>\n",
       "</table>\n",
       "</div>"
      ],
      "text/plain": [
       "  date_partition  hour_of_day_utc country_code  os_name platform_type  \\\n",
       "0     2022-12-02                4           BR  Android       website   \n",
       "1     2022-12-02               14           BR  Windows       website   \n",
       "2     2022-12-02               10           DE  Android       website   \n",
       "3     2022-12-02                9           IN  Android       website   \n",
       "4     2022-12-02                1           KE  Android       website   \n",
       "\n",
       "       imps  viewable_imps  clicks  reg_fin   ftd  deposit  spend_usd  \n",
       "0  263424.0       177356.0   964.0     27.0  20.0    197.0     178.62  \n",
       "1  206976.0       160251.0   509.0     14.0  12.0    128.0     122.47  \n",
       "2    5790.0         4501.0    73.0      0.0   0.0     12.0      13.41  \n",
       "3  376320.0       188159.0  1437.0      1.0   2.0     10.0     220.12  \n",
       "4   34737.0        14405.0    36.0      1.0   0.0     11.0      24.42  "
      ]
     },
     "execution_count": 2,
     "metadata": {},
     "output_type": "execute_result"
    }
   ],
   "source": [
    "import pandas as pd\n",
    "df = pd.read_csv('data/world_cup_data.csv')\n",
    "df.head()\n"
   ]
  },
  {
   "cell_type": "code",
   "execution_count": 5,
   "id": "8bd2f313-926e-49a5-a62b-bb817787914d",
   "metadata": {},
   "outputs": [
    {
     "data": {
      "text/plain": [
       "(659849, 12)"
      ]
     },
     "execution_count": 5,
     "metadata": {},
     "output_type": "execute_result"
    }
   ],
   "source": [
    "# 659.849 rows and 12 columns\n",
    "df.shape"
   ]
  },
  {
   "cell_type": "code",
   "execution_count": 7,
   "id": "3f73dc35-8bc0-401c-ac1a-717fdaf5dd27",
   "metadata": {},
   "outputs": [
    {
     "name": "stdout",
     "output_type": "stream",
     "text": [
      "<class 'pandas.core.frame.DataFrame'>\n",
      "RangeIndex: 659849 entries, 0 to 659848\n",
      "Data columns (total 12 columns):\n",
      " #   Column           Non-Null Count   Dtype  \n",
      "---  ------           --------------   -----  \n",
      " 0   date_partition   659849 non-null  object \n",
      " 1   hour_of_day_utc  659849 non-null  int64  \n",
      " 2   country_code     659466 non-null  object \n",
      " 3   os_name          658339 non-null  object \n",
      " 4   platform_type    659849 non-null  object \n",
      " 5   imps             659849 non-null  float64\n",
      " 6   viewable_imps    659849 non-null  float64\n",
      " 7   clicks           659849 non-null  float64\n",
      " 8   reg_fin          659849 non-null  float64\n",
      " 9   ftd              659849 non-null  float64\n",
      " 10  deposit          659849 non-null  float64\n",
      " 11  spend_usd        659849 non-null  float64\n",
      "dtypes: float64(7), int64(1), object(4)\n",
      "memory usage: 60.4+ MB\n"
     ]
    }
   ],
   "source": [
    "# summary of dataframe, check for missing values and data types\n",
    "df.info()"
   ]
  },
  {
   "cell_type": "markdown",
   "id": "fe3d9c43-e5c4-4d72-ae90-05f4af4e95ba",
   "metadata": {},
   "source": [
    "- No missing values apparent"
   ]
  },
  {
   "cell_type": "code",
   "execution_count": 9,
   "id": "af9d4f1e-fab7-4394-8352-f1e92bb0a969",
   "metadata": {},
   "outputs": [
    {
     "data": {
      "text/html": [
       "<div>\n",
       "<style scoped>\n",
       "    .dataframe tbody tr th:only-of-type {\n",
       "        vertical-align: middle;\n",
       "    }\n",
       "\n",
       "    .dataframe tbody tr th {\n",
       "        vertical-align: top;\n",
       "    }\n",
       "\n",
       "    .dataframe thead th {\n",
       "        text-align: right;\n",
       "    }\n",
       "</style>\n",
       "<table border=\"1\" class=\"dataframe\">\n",
       "  <thead>\n",
       "    <tr style=\"text-align: right;\">\n",
       "      <th></th>\n",
       "      <th>hour_of_day_utc</th>\n",
       "      <th>imps</th>\n",
       "      <th>viewable_imps</th>\n",
       "      <th>clicks</th>\n",
       "      <th>reg_fin</th>\n",
       "      <th>ftd</th>\n",
       "      <th>deposit</th>\n",
       "      <th>spend_usd</th>\n",
       "    </tr>\n",
       "  </thead>\n",
       "  <tbody>\n",
       "    <tr>\n",
       "      <th>count</th>\n",
       "      <td>659849.000000</td>\n",
       "      <td>6.598490e+05</td>\n",
       "      <td>6.598490e+05</td>\n",
       "      <td>659849.000000</td>\n",
       "      <td>659849.000000</td>\n",
       "      <td>659849.000000</td>\n",
       "      <td>659849.000000</td>\n",
       "      <td>659849.000000</td>\n",
       "    </tr>\n",
       "    <tr>\n",
       "      <th>mean</th>\n",
       "      <td>11.726145</td>\n",
       "      <td>1.945690e+04</td>\n",
       "      <td>1.232235e+04</td>\n",
       "      <td>41.446393</td>\n",
       "      <td>1.236513</td>\n",
       "      <td>0.506079</td>\n",
       "      <td>8.604884</td>\n",
       "      <td>16.637455</td>\n",
       "    </tr>\n",
       "    <tr>\n",
       "      <th>std</th>\n",
       "      <td>6.821883</td>\n",
       "      <td>6.858429e+04</td>\n",
       "      <td>4.659976e+04</td>\n",
       "      <td>183.442549</td>\n",
       "      <td>10.460184</td>\n",
       "      <td>7.901057</td>\n",
       "      <td>56.606414</td>\n",
       "      <td>65.575744</td>\n",
       "    </tr>\n",
       "    <tr>\n",
       "      <th>min</th>\n",
       "      <td>0.000000</td>\n",
       "      <td>0.000000e+00</td>\n",
       "      <td>0.000000e+00</td>\n",
       "      <td>0.000000</td>\n",
       "      <td>0.000000</td>\n",
       "      <td>0.000000</td>\n",
       "      <td>0.000000</td>\n",
       "      <td>0.000000</td>\n",
       "    </tr>\n",
       "    <tr>\n",
       "      <th>25%</th>\n",
       "      <td>6.000000</td>\n",
       "      <td>7.350000e+02</td>\n",
       "      <td>0.000000e+00</td>\n",
       "      <td>0.000000</td>\n",
       "      <td>0.000000</td>\n",
       "      <td>0.000000</td>\n",
       "      <td>0.000000</td>\n",
       "      <td>0.390000</td>\n",
       "    </tr>\n",
       "    <tr>\n",
       "      <th>50%</th>\n",
       "      <td>12.000000</td>\n",
       "      <td>2.792000e+03</td>\n",
       "      <td>1.649000e+03</td>\n",
       "      <td>0.000000</td>\n",
       "      <td>0.000000</td>\n",
       "      <td>0.000000</td>\n",
       "      <td>0.000000</td>\n",
       "      <td>2.150000</td>\n",
       "    </tr>\n",
       "    <tr>\n",
       "      <th>75%</th>\n",
       "      <td>18.000000</td>\n",
       "      <td>1.133900e+04</td>\n",
       "      <td>6.934000e+03</td>\n",
       "      <td>21.000000</td>\n",
       "      <td>0.000000</td>\n",
       "      <td>0.000000</td>\n",
       "      <td>2.000000</td>\n",
       "      <td>10.210000</td>\n",
       "    </tr>\n",
       "    <tr>\n",
       "      <th>max</th>\n",
       "      <td>23.000000</td>\n",
       "      <td>1.507310e+06</td>\n",
       "      <td>1.269530e+06</td>\n",
       "      <td>6592.000000</td>\n",
       "      <td>1868.000000</td>\n",
       "      <td>2213.000000</td>\n",
       "      <td>2453.000000</td>\n",
       "      <td>4149.730000</td>\n",
       "    </tr>\n",
       "  </tbody>\n",
       "</table>\n",
       "</div>"
      ],
      "text/plain": [
       "       hour_of_day_utc          imps  viewable_imps         clicks  \\\n",
       "count    659849.000000  6.598490e+05   6.598490e+05  659849.000000   \n",
       "mean         11.726145  1.945690e+04   1.232235e+04      41.446393   \n",
       "std           6.821883  6.858429e+04   4.659976e+04     183.442549   \n",
       "min           0.000000  0.000000e+00   0.000000e+00       0.000000   \n",
       "25%           6.000000  7.350000e+02   0.000000e+00       0.000000   \n",
       "50%          12.000000  2.792000e+03   1.649000e+03       0.000000   \n",
       "75%          18.000000  1.133900e+04   6.934000e+03      21.000000   \n",
       "max          23.000000  1.507310e+06   1.269530e+06    6592.000000   \n",
       "\n",
       "             reg_fin            ftd        deposit      spend_usd  \n",
       "count  659849.000000  659849.000000  659849.000000  659849.000000  \n",
       "mean        1.236513       0.506079       8.604884      16.637455  \n",
       "std        10.460184       7.901057      56.606414      65.575744  \n",
       "min         0.000000       0.000000       0.000000       0.000000  \n",
       "25%         0.000000       0.000000       0.000000       0.390000  \n",
       "50%         0.000000       0.000000       0.000000       2.150000  \n",
       "75%         0.000000       0.000000       2.000000      10.210000  \n",
       "max      1868.000000    2213.000000    2453.000000    4149.730000  "
      ]
     },
     "execution_count": 9,
     "metadata": {},
     "output_type": "execute_result"
    }
   ],
   "source": [
    "# summary statistics of numerical columns\n",
    "df.describe()"
   ]
  },
  {
   "cell_type": "markdown",
   "id": "8e55c2b2-922f-480b-8be0-ccf4a20a4e6b",
   "metadata": {},
   "source": [
    "- high variability, all numerical columns have a min 0 and low mean value.\n",
    "- median  of clicks, registrations, ftd, deposit also 0.\n",
    "    - implies that most records for impressions were innefective for engament.\n",
    "    - investigate how many hours were recorded per date_partition\n",
    "    \n"
   ]
  },
  {
   "cell_type": "code",
   "execution_count": 10,
   "id": "f69a80d0-9caf-485c-ab3e-82f3d588b383",
   "metadata": {},
   "outputs": [
    {
     "data": {
      "text/plain": [
       "date_partition    123\n",
       "country_code      155\n",
       "os_name            10\n",
       "platform_type       2\n",
       "dtype: int64"
      ]
     },
     "execution_count": 10,
     "metadata": {},
     "output_type": "execute_result"
    }
   ],
   "source": [
    "# Inspect the categorical variables, how many unique values\n",
    "df.select_dtypes('object').nunique()"
   ]
  },
  {
   "cell_type": "markdown",
   "id": "565b027d-8d8a-4373-8e5f-ead88da6bd47",
   "metadata": {},
   "source": [
    "- records for 123 unique days (convert to datetime datatype)\n",
    "- 155 countries \n",
    "- 10 operating systems (which ones?)\n",
    "- 2 platform types"
   ]
  },
  {
   "cell_type": "code",
   "execution_count": 14,
   "id": "b9ff6dea-344f-4b0c-8d14-5bde140dd53c",
   "metadata": {},
   "outputs": [
    {
     "name": "stdout",
     "output_type": "stream",
     "text": [
      "Difference between start and end date: 122 days\n",
      "Start date: 2022-10-01 00:00:00\n",
      "End date: 2023-01-31 00:00:00\n"
     ]
    }
   ],
   "source": [
    "# convert date_partition to datetime\n",
    "df['date_partition'] = pd.to_datetime(df['date_partition'])\n",
    "\n",
    "# Get the start date (earliest date)\n",
    "start_date = df['date_partition'].min()\n",
    "\n",
    "# Get the end date (latest date)\n",
    "end_date = df['date_partition'].max()\n",
    "\n",
    "date_difference = (end_date - start_date).days\n",
    "\n",
    "# Display the difference in days\n",
    "print(f\"Difference between start and end date: {date_difference} days\")\n",
    "\n",
    "# Display the start and end dates\n",
    "print(f\"Start date: {start_date}\")\n",
    "print(f\"End date: {end_date}\")"
   ]
  },
  {
   "cell_type": "code",
   "execution_count": 16,
   "id": "f7fb808f-37c8-4eaf-aac8-346121799cea",
   "metadata": {},
   "outputs": [
    {
     "name": "stdout",
     "output_type": "stream",
     "text": [
      "Missing dates:\n",
      "DatetimeIndex([], dtype='datetime64[ns]', freq='D')\n"
     ]
    }
   ],
   "source": [
    "# double check if there are any days missing in the range\n",
    "\n",
    "# Generate a complete date range from start_date to end_date\n",
    "complete_date_range = pd.date_range(start=start_date, end=end_date)\n",
    "\n",
    "# Identify the missing dates by comparing the complete date range with the dates in the DataFrame\n",
    "present_dates = pd.to_datetime(df['date_partition'].unique())\n",
    "missing_dates = complete_date_range.difference(present_dates)\n",
    "\n",
    "# Display the missing dates\n",
    "print(\"Missing dates:\")\n",
    "print(missing_dates)"
   ]
  },
  {
   "cell_type": "code",
   "execution_count": 18,
   "id": "4fad707c-f94d-45e5-b22c-3d169d4a23bb",
   "metadata": {},
   "outputs": [
    {
     "name": "stdout",
     "output_type": "stream",
     "text": [
      "Ordered list of unique dates between the min and max dates:\n",
      "[Timestamp('2022-10-01 00:00:00'), Timestamp('2022-10-02 00:00:00'), Timestamp('2022-10-03 00:00:00'), Timestamp('2022-10-04 00:00:00'), Timestamp('2022-10-05 00:00:00'), Timestamp('2022-10-06 00:00:00'), Timestamp('2022-10-07 00:00:00'), Timestamp('2022-10-08 00:00:00'), Timestamp('2022-10-09 00:00:00'), Timestamp('2022-10-10 00:00:00'), Timestamp('2022-10-11 00:00:00'), Timestamp('2022-10-12 00:00:00'), Timestamp('2022-10-13 00:00:00'), Timestamp('2022-10-14 00:00:00'), Timestamp('2022-10-15 00:00:00'), Timestamp('2022-10-16 00:00:00'), Timestamp('2022-10-17 00:00:00'), Timestamp('2022-10-18 00:00:00'), Timestamp('2022-10-19 00:00:00'), Timestamp('2022-10-20 00:00:00'), Timestamp('2022-10-21 00:00:00'), Timestamp('2022-10-22 00:00:00'), Timestamp('2022-10-23 00:00:00'), Timestamp('2022-10-24 00:00:00'), Timestamp('2022-10-25 00:00:00'), Timestamp('2022-10-26 00:00:00'), Timestamp('2022-10-27 00:00:00'), Timestamp('2022-10-28 00:00:00'), Timestamp('2022-10-29 00:00:00'), Timestamp('2022-10-30 00:00:00'), Timestamp('2022-10-31 00:00:00'), Timestamp('2022-11-01 00:00:00'), Timestamp('2022-11-02 00:00:00'), Timestamp('2022-11-03 00:00:00'), Timestamp('2022-11-04 00:00:00'), Timestamp('2022-11-05 00:00:00'), Timestamp('2022-11-06 00:00:00'), Timestamp('2022-11-07 00:00:00'), Timestamp('2022-11-08 00:00:00'), Timestamp('2022-11-09 00:00:00'), Timestamp('2022-11-10 00:00:00'), Timestamp('2022-11-11 00:00:00'), Timestamp('2022-11-12 00:00:00'), Timestamp('2022-11-13 00:00:00'), Timestamp('2022-11-14 00:00:00'), Timestamp('2022-11-15 00:00:00'), Timestamp('2022-11-16 00:00:00'), Timestamp('2022-11-17 00:00:00'), Timestamp('2022-11-18 00:00:00'), Timestamp('2022-11-19 00:00:00'), Timestamp('2022-11-20 00:00:00'), Timestamp('2022-11-21 00:00:00'), Timestamp('2022-11-22 00:00:00'), Timestamp('2022-11-23 00:00:00'), Timestamp('2022-11-24 00:00:00'), Timestamp('2022-11-25 00:00:00'), Timestamp('2022-11-26 00:00:00'), Timestamp('2022-11-27 00:00:00'), Timestamp('2022-11-28 00:00:00'), Timestamp('2022-11-29 00:00:00'), Timestamp('2022-11-30 00:00:00'), Timestamp('2022-12-01 00:00:00'), Timestamp('2022-12-02 00:00:00'), Timestamp('2022-12-03 00:00:00'), Timestamp('2022-12-04 00:00:00'), Timestamp('2022-12-05 00:00:00'), Timestamp('2022-12-06 00:00:00'), Timestamp('2022-12-07 00:00:00'), Timestamp('2022-12-08 00:00:00'), Timestamp('2022-12-09 00:00:00'), Timestamp('2022-12-10 00:00:00'), Timestamp('2022-12-11 00:00:00'), Timestamp('2022-12-12 00:00:00'), Timestamp('2022-12-13 00:00:00'), Timestamp('2022-12-14 00:00:00'), Timestamp('2022-12-15 00:00:00'), Timestamp('2022-12-16 00:00:00'), Timestamp('2022-12-17 00:00:00'), Timestamp('2022-12-18 00:00:00'), Timestamp('2022-12-19 00:00:00'), Timestamp('2022-12-20 00:00:00'), Timestamp('2022-12-21 00:00:00'), Timestamp('2022-12-22 00:00:00'), Timestamp('2022-12-23 00:00:00'), Timestamp('2022-12-24 00:00:00'), Timestamp('2022-12-25 00:00:00'), Timestamp('2022-12-26 00:00:00'), Timestamp('2022-12-27 00:00:00'), Timestamp('2022-12-28 00:00:00'), Timestamp('2022-12-29 00:00:00'), Timestamp('2022-12-30 00:00:00'), Timestamp('2022-12-31 00:00:00'), Timestamp('2023-01-01 00:00:00'), Timestamp('2023-01-02 00:00:00'), Timestamp('2023-01-03 00:00:00'), Timestamp('2023-01-04 00:00:00'), Timestamp('2023-01-05 00:00:00'), Timestamp('2023-01-06 00:00:00'), Timestamp('2023-01-07 00:00:00'), Timestamp('2023-01-08 00:00:00'), Timestamp('2023-01-09 00:00:00'), Timestamp('2023-01-10 00:00:00'), Timestamp('2023-01-11 00:00:00'), Timestamp('2023-01-12 00:00:00'), Timestamp('2023-01-13 00:00:00'), Timestamp('2023-01-14 00:00:00'), Timestamp('2023-01-15 00:00:00'), Timestamp('2023-01-16 00:00:00'), Timestamp('2023-01-17 00:00:00'), Timestamp('2023-01-18 00:00:00'), Timestamp('2023-01-19 00:00:00'), Timestamp('2023-01-20 00:00:00'), Timestamp('2023-01-21 00:00:00'), Timestamp('2023-01-22 00:00:00'), Timestamp('2023-01-23 00:00:00'), Timestamp('2023-01-24 00:00:00'), Timestamp('2023-01-25 00:00:00'), Timestamp('2023-01-26 00:00:00'), Timestamp('2023-01-27 00:00:00'), Timestamp('2023-01-28 00:00:00'), Timestamp('2023-01-29 00:00:00'), Timestamp('2023-01-30 00:00:00'), Timestamp('2023-01-31 00:00:00')]\n"
     ]
    }
   ],
   "source": [
    "# Get the start date (earliest date) and end date (latest date)\n",
    "start_date = df['date_partition'].min()\n",
    "end_date = df['date_partition'].max()\n",
    "\n",
    "# Generate a complete date range from start_date to end_date\n",
    "complete_date_range = pd.date_range(start=start_date, end=end_date)\n",
    "\n",
    "# Extract unique dates from the DataFrame and sort them\n",
    "unique_dates = pd.Series(df['date_partition'].unique()).sort_values()\n",
    "\n",
    "# Convert the unique dates to a list\n",
    "ordered_unique_dates = unique_dates.tolist()\n",
    "\n",
    "# Display the ordered list of unique dates\n",
    "print(\"Ordered list of unique dates between the min and max dates:\")\n",
    "print(ordered_unique_dates)"
   ]
  }
 ],
 "metadata": {
  "kernelspec": {
   "display_name": "Python 3 (ipykernel)",
   "language": "python",
   "name": "python3"
  },
  "language_info": {
   "codemirror_mode": {
    "name": "ipython",
    "version": 3
   },
   "file_extension": ".py",
   "mimetype": "text/x-python",
   "name": "python",
   "nbconvert_exporter": "python",
   "pygments_lexer": "ipython3",
   "version": "3.11.7"
  }
 },
 "nbformat": 4,
 "nbformat_minor": 5
}
