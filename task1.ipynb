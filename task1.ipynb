{
 "cells": [
  {
   "cell_type": "markdown",
   "id": "e3bc2df3-3bbc-4efd-9838-e5ebaf9511f5",
   "metadata": {},
   "source": [
    "# Data Analyst Intern – Sportradar Challenge - Task 1\n",
    "Date: 4 July 2024 <br>\n",
    "Author: Kristina Chuang"
   ]
  },
  {
   "cell_type": "markdown",
   "id": "8f812b13-b9bb-40e3-9912-c82cbf2b8050",
   "metadata": {},
   "source": [
    "## Instructions\n",
    "- In programmatic advertising, ads (commonly referred to as impressions) are shown on websites with the help of DSPs (Demand Side Platforms). \n",
    "- These platforms want to make sure that they are showing the right impressions to the right users to generate as many conversions as possible. \n",
    "- If a user clicks on the ad and lands on the advertiser’s website, we store this event in a table called clicks (schema shown below). \n",
    "- If the user successfully places a deposit after landing on the advertiser’s website, we store this event in a table called conversions (schema shown below). \n",
    "- For each conversion there exists at least one impression, but not all impressions have a conversion or a click.\n",
    "<br>\n",
    "You are given 3 tables with the following schemas, defined by column names and types:\n",
    "### impressions\n",
    "1. <b>impression_id</b>: string\n",
    "2. url_address: string\n",
    "3. user_id: string\n",
    "4. <b>request_country: string</b> (\"Austria\")\n",
    "5. tracking_type: string [this is the tracking type (fingerprinted or cookie-based)]\n",
    "6. dynamic_display: boolean [this is whether the impression was served through Dynamic Display]\n",
    "7. dynamic_display_variables: string [content served in the impression, i.e soccer vs baseball]\n",
    "8. request_browser_name: string\n",
    "9. timestamp: date \n",
    "<br>\n",
    "### clicks\n",
    "1. <b>impression_id</b>: int\n",
    "2. user_id: <i>int</i>\n",
    "3. timestamp: string\n",
    "<br>\n",
    "### conversions\n",
    "1. conversion_id: string\n",
    "2. user_id: string\n",
    "3. dval: integer [this is the deposit value of the conversion]\n",
    "4. curr: string [this is the currency of the deposit value]\n",
    "5. timestamp: date\n"
   ]
  },
  {
   "cell_type": "markdown",
   "id": "110ecdfc-2caa-47be-b9b2-31b247a04a7b",
   "metadata": {},
   "source": [
    "# Q1: What is the CTR (%) for impressions served in \"Austria\"?\n"
   ]
  },
  {
   "cell_type": "markdown",
   "id": "f4c32557-0f07-4aa4-aad2-fcffe99f308a",
   "metadata": {},
   "source": [
    "CTR % (Click-Through-Rate) is how many people clicked on an ad (clicks) divided by the number of people who saw it (impressions), in this case exclusively in the country of Austria and expressed as a percentage.\n",
    "\n",
    "The formula to calculate CTR is (clicks / impressions) x 100.\n",
    "\n",
    "$$ CTR(AT) = \\frac{ \"total-clicks-in-Austria\" }{ \"total-impression-in-Austria\" } * 100$$"
   ]
  },
  {
   "cell_type": "markdown",
   "id": "45d23552-b365-4739-84a6-49109411f7ec",
   "metadata": {
    "tags": []
   },
   "source": [
    "- create a mock database (ad_data.db) to test the SQL queries in notebook mock_data_ads.ipynb\n",
    "- The mock database contains:\n",
    "- 150 records for the table impressions\n",
    "- 87 records for the table clicks (60% random chance of the impression being clicked)\n",
    "- 28 records for conversion (supposed to be 35% random chance of click to conversion)"
   ]
  },
  {
   "cell_type": "markdown",
   "id": "3f590b1c-afae-4c5e-aff9-3758f4e9f556",
   "metadata": {},
   "source": [
    "### Load SQL extension to run SQL commands in code cells"
   ]
  },
  {
   "cell_type": "code",
   "execution_count": 1,
   "id": "4b402a48-1ce0-4fc4-ac1d-a676c1ccf9a5",
   "metadata": {
    "tags": []
   },
   "outputs": [],
   "source": [
    "#!pip install ipython-sql\n",
    "%load_ext sql"
   ]
  },
  {
   "cell_type": "code",
   "execution_count": 2,
   "id": "d6dafee5-9252-4471-aa15-4ce884a1e21b",
   "metadata": {
    "tags": []
   },
   "outputs": [],
   "source": [
    "# connect to mock database\n",
    "\n",
    "%sql sqlite:///mock_ad_data.db"
   ]
  },
  {
   "cell_type": "code",
   "execution_count": 3,
   "id": "ed367485-ffc5-422e-8fbe-36bf488553c0",
   "metadata": {
    "tags": []
   },
   "outputs": [
    {
     "name": "stdout",
     "output_type": "stream",
     "text": [
      " * sqlite:///mock_ad_data.db\n",
      "Done.\n"
     ]
    },
    {
     "data": {
      "text/plain": [
       "[]"
      ]
     },
     "execution_count": 3,
     "metadata": {},
     "output_type": "execute_result"
    }
   ],
   "source": [
    "# enable foreign keys (SQLite specific)\n",
    "%sql PRAGMA foreign_keys = ON"
   ]
  },
  {
   "cell_type": "markdown",
   "id": "738f9a16-5bfe-4194-ad63-eeb7ac2e6441",
   "metadata": {},
   "source": [
    "- check counts and datatypes"
   ]
  },
  {
   "cell_type": "code",
   "execution_count": 5,
   "id": "d61af668-a7a3-4124-a3eb-37548daa5c8f",
   "metadata": {},
   "outputs": [
    {
     "name": "stdout",
     "output_type": "stream",
     "text": [
      " * sqlite:///mock_ad_data.db\n",
      "Done.\n"
     ]
    },
    {
     "data": {
      "text/html": [
       "<table>\n",
       "    <thead>\n",
       "        <tr>\n",
       "            <th>table_name</th>\n",
       "            <th>count</th>\n",
       "        </tr>\n",
       "    </thead>\n",
       "    <tbody>\n",
       "        <tr>\n",
       "            <td>impressions</td>\n",
       "            <td>150</td>\n",
       "        </tr>\n",
       "        <tr>\n",
       "            <td>clicks</td>\n",
       "            <td>87</td>\n",
       "        </tr>\n",
       "        <tr>\n",
       "            <td>conversions</td>\n",
       "            <td>28</td>\n",
       "        </tr>\n",
       "    </tbody>\n",
       "</table>"
      ],
      "text/plain": [
       "[('impressions', 150), ('clicks', 87), ('conversions', 28)]"
      ]
     },
     "execution_count": 5,
     "metadata": {},
     "output_type": "execute_result"
    }
   ],
   "source": [
    "%%sql\n",
    "\n",
    "SELECT\n",
    "    'impressions' AS table_name,\n",
    "    COUNT(*) AS count\n",
    "FROM impressions\n",
    "\n",
    "UNION ALL\n",
    "\n",
    "SELECT\n",
    "    'clicks' AS table_name,\n",
    "    COUNT(*) AS count\n",
    "FROM clicks\n",
    "\n",
    "UNION ALL\n",
    "\n",
    "SELECT\n",
    "    'conversions' AS table_name,\n",
    "    COUNT(*) AS count\n",
    "FROM conversions\n",
    "\n"
   ]
  },
  {
   "cell_type": "code",
   "execution_count": 6,
   "id": "1078682e-9bd9-4261-b447-4110d902bfdc",
   "metadata": {},
   "outputs": [
    {
     "name": "stdout",
     "output_type": "stream",
     "text": [
      " * sqlite:///mock_ad_data.db\n",
      "Done.\n"
     ]
    },
    {
     "data": {
      "text/html": [
       "<table>\n",
       "    <thead>\n",
       "        <tr>\n",
       "            <th>cid</th>\n",
       "            <th>name</th>\n",
       "            <th>type</th>\n",
       "            <th>notnull</th>\n",
       "            <th>dflt_value</th>\n",
       "            <th>pk</th>\n",
       "        </tr>\n",
       "    </thead>\n",
       "    <tbody>\n",
       "        <tr>\n",
       "            <td>0</td>\n",
       "            <td>impression_id</td>\n",
       "            <td>TEXT</td>\n",
       "            <td>0</td>\n",
       "            <td>None</td>\n",
       "            <td>1</td>\n",
       "        </tr>\n",
       "        <tr>\n",
       "            <td>1</td>\n",
       "            <td>url_address</td>\n",
       "            <td>TEXT</td>\n",
       "            <td>0</td>\n",
       "            <td>None</td>\n",
       "            <td>0</td>\n",
       "        </tr>\n",
       "        <tr>\n",
       "            <td>2</td>\n",
       "            <td>user_id</td>\n",
       "            <td>TEXT</td>\n",
       "            <td>0</td>\n",
       "            <td>None</td>\n",
       "            <td>0</td>\n",
       "        </tr>\n",
       "        <tr>\n",
       "            <td>3</td>\n",
       "            <td>request_country</td>\n",
       "            <td>TEXT</td>\n",
       "            <td>0</td>\n",
       "            <td>None</td>\n",
       "            <td>0</td>\n",
       "        </tr>\n",
       "        <tr>\n",
       "            <td>4</td>\n",
       "            <td>tracking_type</td>\n",
       "            <td>TEXT</td>\n",
       "            <td>0</td>\n",
       "            <td>None</td>\n",
       "            <td>0</td>\n",
       "        </tr>\n",
       "        <tr>\n",
       "            <td>5</td>\n",
       "            <td>dynamic_display</td>\n",
       "            <td>BOOLEAN</td>\n",
       "            <td>0</td>\n",
       "            <td>None</td>\n",
       "            <td>0</td>\n",
       "        </tr>\n",
       "        <tr>\n",
       "            <td>6</td>\n",
       "            <td>dynamic_display_variables</td>\n",
       "            <td>TEXT</td>\n",
       "            <td>0</td>\n",
       "            <td>None</td>\n",
       "            <td>0</td>\n",
       "        </tr>\n",
       "        <tr>\n",
       "            <td>7</td>\n",
       "            <td>request_browser_name</td>\n",
       "            <td>TEXT</td>\n",
       "            <td>0</td>\n",
       "            <td>None</td>\n",
       "            <td>0</td>\n",
       "        </tr>\n",
       "        <tr>\n",
       "            <td>8</td>\n",
       "            <td>timestamp</td>\n",
       "            <td>DATE</td>\n",
       "            <td>0</td>\n",
       "            <td>None</td>\n",
       "            <td>0</td>\n",
       "        </tr>\n",
       "    </tbody>\n",
       "</table>"
      ],
      "text/plain": [
       "[(0, 'impression_id', 'TEXT', 0, None, 1),\n",
       " (1, 'url_address', 'TEXT', 0, None, 0),\n",
       " (2, 'user_id', 'TEXT', 0, None, 0),\n",
       " (3, 'request_country', 'TEXT', 0, None, 0),\n",
       " (4, 'tracking_type', 'TEXT', 0, None, 0),\n",
       " (5, 'dynamic_display', 'BOOLEAN', 0, None, 0),\n",
       " (6, 'dynamic_display_variables', 'TEXT', 0, None, 0),\n",
       " (7, 'request_browser_name', 'TEXT', 0, None, 0),\n",
       " (8, 'timestamp', 'DATE', 0, None, 0)]"
      ]
     },
     "execution_count": 6,
     "metadata": {},
     "output_type": "execute_result"
    }
   ],
   "source": [
    "%sql PRAGMA table_info(impressions)"
   ]
  },
  {
   "cell_type": "code",
   "execution_count": 7,
   "id": "d755ab3d-09aa-43b8-98b1-f2ff1c6087ba",
   "metadata": {},
   "outputs": [
    {
     "name": "stdout",
     "output_type": "stream",
     "text": [
      " * sqlite:///mock_ad_data.db\n",
      "Done.\n"
     ]
    },
    {
     "data": {
      "text/html": [
       "<table>\n",
       "    <thead>\n",
       "        <tr>\n",
       "            <th>cid</th>\n",
       "            <th>name</th>\n",
       "            <th>type</th>\n",
       "            <th>notnull</th>\n",
       "            <th>dflt_value</th>\n",
       "            <th>pk</th>\n",
       "        </tr>\n",
       "    </thead>\n",
       "    <tbody>\n",
       "        <tr>\n",
       "            <td>0</td>\n",
       "            <td>impression_id</td>\n",
       "            <td>INTEGER</td>\n",
       "            <td>0</td>\n",
       "            <td>None</td>\n",
       "            <td>0</td>\n",
       "        </tr>\n",
       "        <tr>\n",
       "            <td>1</td>\n",
       "            <td>user_id</td>\n",
       "            <td>INTEGER</td>\n",
       "            <td>0</td>\n",
       "            <td>None</td>\n",
       "            <td>0</td>\n",
       "        </tr>\n",
       "        <tr>\n",
       "            <td>2</td>\n",
       "            <td>timestamp</td>\n",
       "            <td>TEXT</td>\n",
       "            <td>0</td>\n",
       "            <td>None</td>\n",
       "            <td>0</td>\n",
       "        </tr>\n",
       "    </tbody>\n",
       "</table>"
      ],
      "text/plain": [
       "[(0, 'impression_id', 'INTEGER', 0, None, 0),\n",
       " (1, 'user_id', 'INTEGER', 0, None, 0),\n",
       " (2, 'timestamp', 'TEXT', 0, None, 0)]"
      ]
     },
     "execution_count": 7,
     "metadata": {},
     "output_type": "execute_result"
    }
   ],
   "source": [
    "%sql PRAGMA table_info(clicks)"
   ]
  },
  {
   "cell_type": "code",
   "execution_count": 8,
   "id": "aa3f9f8d-7566-4f3f-97c5-dcf7d204b288",
   "metadata": {},
   "outputs": [
    {
     "name": "stdout",
     "output_type": "stream",
     "text": [
      " * sqlite:///mock_ad_data.db\n",
      "Done.\n"
     ]
    },
    {
     "data": {
      "text/html": [
       "<table>\n",
       "    <thead>\n",
       "        <tr>\n",
       "            <th>cid</th>\n",
       "            <th>name</th>\n",
       "            <th>type</th>\n",
       "            <th>notnull</th>\n",
       "            <th>dflt_value</th>\n",
       "            <th>pk</th>\n",
       "        </tr>\n",
       "    </thead>\n",
       "    <tbody>\n",
       "        <tr>\n",
       "            <td>0</td>\n",
       "            <td>conversion_id</td>\n",
       "            <td>TEXT</td>\n",
       "            <td>0</td>\n",
       "            <td>None</td>\n",
       "            <td>1</td>\n",
       "        </tr>\n",
       "        <tr>\n",
       "            <td>1</td>\n",
       "            <td>user_id</td>\n",
       "            <td>TEXT</td>\n",
       "            <td>0</td>\n",
       "            <td>None</td>\n",
       "            <td>0</td>\n",
       "        </tr>\n",
       "        <tr>\n",
       "            <td>2</td>\n",
       "            <td>dval</td>\n",
       "            <td>INTEGER</td>\n",
       "            <td>0</td>\n",
       "            <td>None</td>\n",
       "            <td>0</td>\n",
       "        </tr>\n",
       "        <tr>\n",
       "            <td>3</td>\n",
       "            <td>curr</td>\n",
       "            <td>TEXT</td>\n",
       "            <td>0</td>\n",
       "            <td>None</td>\n",
       "            <td>0</td>\n",
       "        </tr>\n",
       "        <tr>\n",
       "            <td>4</td>\n",
       "            <td>timestamp</td>\n",
       "            <td>DATE</td>\n",
       "            <td>0</td>\n",
       "            <td>None</td>\n",
       "            <td>0</td>\n",
       "        </tr>\n",
       "    </tbody>\n",
       "</table>"
      ],
      "text/plain": [
       "[(0, 'conversion_id', 'TEXT', 0, None, 1),\n",
       " (1, 'user_id', 'TEXT', 0, None, 0),\n",
       " (2, 'dval', 'INTEGER', 0, None, 0),\n",
       " (3, 'curr', 'TEXT', 0, None, 0),\n",
       " (4, 'timestamp', 'DATE', 0, None, 0)]"
      ]
     },
     "execution_count": 8,
     "metadata": {},
     "output_type": "execute_result"
    }
   ],
   "source": [
    "%sql PRAGMA table_info(conversions)"
   ]
  },
  {
   "cell_type": "markdown",
   "id": "668f2cc8-a1a8-4c5d-86be-3d124f491adf",
   "metadata": {},
   "source": [
    "# Incompatible data types of \"clicks\" table \n",
    "- the clicks table have impression_id and user_id as integer, whilst the same fields are string (TEXT) in the other tables. \n",
    "- this should be a problem for other relational database management systems (RDBMS) like Postgres. Specially because they act as foreign keys.\n",
    "- However, using SQLite it does not seems to matter because the data types are compatible.\n",
    "- Nonetheless, I will align the data types of \"clicks\" to match \"impressions\" and \"conversions\".\n",
    "- SQLite does not have an ALTER TABLE clause to change the data types.\n",
    "### Plan of action\n",
    "- duplicate the clicks table with the right data types cast.\n",
    "1. Create a new table with the desired schema\n",
    "2. Copy data from clicks to clicks_new, converting types\n",
    "3. ** could drop the old clicks table\n",
    "4. ** could rename clicks_new to clicks. (but that would alter the original database, so i will just work with table clicks_new."
   ]
  },
  {
   "cell_type": "code",
   "execution_count": 9,
   "id": "73eb6ecb-ac54-41aa-be85-4e8ba611166c",
   "metadata": {},
   "outputs": [
    {
     "name": "stdout",
     "output_type": "stream",
     "text": [
      " * sqlite:///mock_ad_data.db\n",
      "Done.\n",
      "Done.\n",
      "87 rows affected.\n"
     ]
    },
    {
     "data": {
      "text/plain": [
       "[]"
      ]
     },
     "execution_count": 9,
     "metadata": {},
     "output_type": "execute_result"
    }
   ],
   "source": [
    "%%sql\n",
    "\n",
    "DROP TABLE IF EXISTS clicks_new;\n",
    "CREATE TABLE clicks_new (\n",
    "    impression_id TEXT,\n",
    "    user_id TEXT,\n",
    "    timestamp DATE\n",
    ");\n",
    "\n",
    "INSERT INTO clicks_new (impression_id, user_id, timestamp)\n",
    "\n",
    "SELECT \n",
    "    CAST(impression_id AS TEXT),  \n",
    "    CAST(user_id AS TEXT),        \n",
    "    DATE(timestamp)  \n",
    "FROM clicks;\n",
    "\n"
   ]
  },
  {
   "cell_type": "code",
   "execution_count": 10,
   "id": "2c06242b-5a71-4f3f-bd75-c8c848b1fd85",
   "metadata": {},
   "outputs": [],
   "source": [
    "# Drop the old clicks table\n",
    "# DROP TABLE clicks;\n",
    "\n",
    "# Rename clicks_new to clicks\n",
    "# ALTER TABLE clicks_new RENAME TO clicks;"
   ]
  },
  {
   "cell_type": "code",
   "execution_count": 11,
   "id": "1e0ba43d-6b46-4c83-a231-366c5ddf9a52",
   "metadata": {},
   "outputs": [
    {
     "name": "stdout",
     "output_type": "stream",
     "text": [
      " * sqlite:///mock_ad_data.db\n",
      "Done.\n"
     ]
    },
    {
     "data": {
      "text/html": [
       "<table>\n",
       "    <thead>\n",
       "        <tr>\n",
       "            <th>cid</th>\n",
       "            <th>name</th>\n",
       "            <th>type</th>\n",
       "            <th>notnull</th>\n",
       "            <th>dflt_value</th>\n",
       "            <th>pk</th>\n",
       "        </tr>\n",
       "    </thead>\n",
       "    <tbody>\n",
       "        <tr>\n",
       "            <td>0</td>\n",
       "            <td>impression_id</td>\n",
       "            <td>TEXT</td>\n",
       "            <td>0</td>\n",
       "            <td>None</td>\n",
       "            <td>0</td>\n",
       "        </tr>\n",
       "        <tr>\n",
       "            <td>1</td>\n",
       "            <td>user_id</td>\n",
       "            <td>TEXT</td>\n",
       "            <td>0</td>\n",
       "            <td>None</td>\n",
       "            <td>0</td>\n",
       "        </tr>\n",
       "        <tr>\n",
       "            <td>2</td>\n",
       "            <td>timestamp</td>\n",
       "            <td>DATE</td>\n",
       "            <td>0</td>\n",
       "            <td>None</td>\n",
       "            <td>0</td>\n",
       "        </tr>\n",
       "    </tbody>\n",
       "</table>"
      ],
      "text/plain": [
       "[(0, 'impression_id', 'TEXT', 0, None, 0),\n",
       " (1, 'user_id', 'TEXT', 0, None, 0),\n",
       " (2, 'timestamp', 'DATE', 0, None, 0)]"
      ]
     },
     "execution_count": 11,
     "metadata": {},
     "output_type": "execute_result"
    }
   ],
   "source": [
    "%sql PRAGMA table_info(clicks_new)"
   ]
  },
  {
   "cell_type": "markdown",
   "id": "95e8bf0b-d7b8-453d-a799-b5f847097feb",
   "metadata": {},
   "source": [
    "## Computing CTR for Austria\n",
    "- Use Common Table Expressions to calculate total impressions and clicks in Austria\n",
    "- \"total_impressions\" CTE counts the rows in table impressions that have value 'Austria' in field request_country AS impression_count\n",
    "- \"total_clicks\" CTE counts the rows in clicks that have the foreign key in impressions table and request_country is 'Austria' AS click_count\n",
    "- Finally CTR is calculated by dividing click_count by impression_count (casting to float to ensure that decimals appear) and multiply by 100 to get the percentage."
   ]
  },
  {
   "cell_type": "code",
   "execution_count": 12,
   "id": "52959a8e-426b-4725-809d-ebf81dbf27bc",
   "metadata": {
    "tags": []
   },
   "outputs": [
    {
     "name": "stdout",
     "output_type": "stream",
     "text": [
      " * sqlite:///mock_ad_data.db\n",
      "Done.\n"
     ]
    },
    {
     "data": {
      "text/html": [
       "<table>\n",
       "    <thead>\n",
       "        <tr>\n",
       "            <th>CTR_Percentage</th>\n",
       "        </tr>\n",
       "    </thead>\n",
       "    <tbody>\n",
       "        <tr>\n",
       "            <td>65.85</td>\n",
       "        </tr>\n",
       "    </tbody>\n",
       "</table>"
      ],
      "text/plain": [
       "[(65.85,)]"
      ]
     },
     "execution_count": 12,
     "metadata": {},
     "output_type": "execute_result"
    }
   ],
   "source": [
    "%%sql\n",
    "\n",
    "WITH \n",
    "total_impressions AS (\n",
    "    SELECT COUNT(*) AS impression_count\n",
    "    FROM impressions\n",
    "    WHERE request_country = 'Austria'\n",
    "),\n",
    "\n",
    "total_clicks AS (\n",
    "    SELECT COUNT(*) AS click_count\n",
    "    FROM clicks_new\n",
    "    JOIN impressions ON impressions.impression_id = clicks_new.impression_id\n",
    "    WHERE impressions.request_country = 'Austria'\n",
    ")\n",
    "\n",
    "SELECT \n",
    "    ROUND((CAST(click_count AS FLOAT) / CAST(impression_count AS FLOAT)) * 100, 2) AS CTR_Percentage\n",
    "FROM \n",
    "    total_impressions, total_clicks;"
   ]
  },
  {
   "cell_type": "markdown",
   "id": "d718ee70-99fc-42a2-a714-0299e83e3f16",
   "metadata": {},
   "source": [
    "## CTR reflexions and insights\n",
    "- The mock data was purposely defined as having 60% of the impressions resulting in a click.\n",
    "- "
   ]
  },
  {
   "cell_type": "markdown",
   "id": "5b47d163-076f-4bd4-af1f-a9b53f8e91df",
   "metadata": {},
   "source": [
    "## Q2: For each converted user, find out how many impressions they were served. Specifically capturing the timestamp for the first & last impression.\n",
    "- in conversions LEFT JOIN impressions (if converted user was served multiple impressions then other fields NULL) ON user_id\n",
    "- for each user_id in conversions\n",
    "- count how many DISTINCT impression_id conversions.user_id was served\n",
    "- count how many DISTINCT conversion_id (if the same user made a deposit from a different impression)\n",
    "- give the MIN timestamp of impression table\n",
    "- give the MAX timestamp of impression table\n",
    "- group by conversions.user_id\n",
    "- create a view to check results and length\n"
   ]
  },
  {
   "cell_type": "code",
   "execution_count": 43,
   "id": "f88c178f-0333-459c-bf67-cc74c5b87f53",
   "metadata": {},
   "outputs": [
    {
     "name": "stdout",
     "output_type": "stream",
     "text": [
      " * sqlite:///mock_ad_data.db\n",
      "Done.\n",
      "Done.\n"
     ]
    },
    {
     "data": {
      "text/plain": [
       "[]"
      ]
     },
     "execution_count": 43,
     "metadata": {},
     "output_type": "execute_result"
    }
   ],
   "source": [
    "%%sql\n",
    "\n",
    "DROP VIEW IF EXISTS conv_imp_view;\n",
    "CREATE VIEW conv_imp_view AS\n",
    "SELECT\n",
    "    conversions.user_id,\n",
    "    COUNT(DISTINCT impressions.impression_id) AS impression_count,\n",
    "    COUNT(DISTINCT conversions.conversion_id) AS conversion_count,\n",
    "    MIN(impressions.timestamp) AS first_impression_timestamp,\n",
    "    MAX(impressions.timestamp) AS last_impression_timestamp\n",
    "FROM conversions \n",
    "LEFT JOIN impressions ON conversions.user_id = impressions.user_id\n",
    "GROUP BY conversions.user_id;"
   ]
  },
  {
   "cell_type": "code",
   "execution_count": 44,
   "id": "4cefc215-fd8b-4c17-bf05-fd991b9a6935",
   "metadata": {},
   "outputs": [
    {
     "name": "stdout",
     "output_type": "stream",
     "text": [
      " * sqlite:///mock_ad_data.db\n",
      "Done.\n"
     ]
    },
    {
     "data": {
      "text/html": [
       "<table>\n",
       "    <thead>\n",
       "        <tr>\n",
       "            <th>user_id</th>\n",
       "            <th>impression_count</th>\n",
       "            <th>conversion_count</th>\n",
       "            <th>first_impression_timestamp</th>\n",
       "            <th>last_impression_timestamp</th>\n",
       "        </tr>\n",
       "    </thead>\n",
       "    <tbody>\n",
       "        <tr>\n",
       "            <td>10</td>\n",
       "            <td>3</td>\n",
       "            <td>1</td>\n",
       "            <td>2022-11-25</td>\n",
       "            <td>2023-01-18</td>\n",
       "        </tr>\n",
       "        <tr>\n",
       "            <td>19</td>\n",
       "            <td>1</td>\n",
       "            <td>1</td>\n",
       "            <td>2023-02-15</td>\n",
       "            <td>2023-02-15</td>\n",
       "        </tr>\n",
       "        <tr>\n",
       "            <td>2</td>\n",
       "            <td>1</td>\n",
       "            <td>1</td>\n",
       "            <td>2022-11-23</td>\n",
       "            <td>2022-11-23</td>\n",
       "        </tr>\n",
       "        <tr>\n",
       "            <td>23</td>\n",
       "            <td>4</td>\n",
       "            <td>1</td>\n",
       "            <td>2022-11-21</td>\n",
       "            <td>2023-03-08</td>\n",
       "        </tr>\n",
       "        <tr>\n",
       "            <td>24</td>\n",
       "            <td>3</td>\n",
       "            <td>1</td>\n",
       "            <td>2022-11-29</td>\n",
       "            <td>2023-01-13</td>\n",
       "        </tr>\n",
       "        <tr>\n",
       "            <td>3</td>\n",
       "            <td>2</td>\n",
       "            <td>1</td>\n",
       "            <td>2023-02-26</td>\n",
       "            <td>2023-03-02</td>\n",
       "        </tr>\n",
       "        <tr>\n",
       "            <td>30</td>\n",
       "            <td>6</td>\n",
       "            <td>2</td>\n",
       "            <td>2022-11-27</td>\n",
       "            <td>2023-02-08</td>\n",
       "        </tr>\n",
       "        <tr>\n",
       "            <td>31</td>\n",
       "            <td>5</td>\n",
       "            <td>1</td>\n",
       "            <td>2022-11-23</td>\n",
       "            <td>2023-03-05</td>\n",
       "        </tr>\n",
       "        <tr>\n",
       "            <td>32</td>\n",
       "            <td>1</td>\n",
       "            <td>1</td>\n",
       "            <td>2023-03-19</td>\n",
       "            <td>2023-03-19</td>\n",
       "        </tr>\n",
       "        <tr>\n",
       "            <td>35</td>\n",
       "            <td>2</td>\n",
       "            <td>1</td>\n",
       "            <td>2023-01-04</td>\n",
       "            <td>2023-03-21</td>\n",
       "        </tr>\n",
       "        <tr>\n",
       "            <td>38</td>\n",
       "            <td>3</td>\n",
       "            <td>1</td>\n",
       "            <td>2022-12-17</td>\n",
       "            <td>2023-03-04</td>\n",
       "        </tr>\n",
       "        <tr>\n",
       "            <td>4</td>\n",
       "            <td>4</td>\n",
       "            <td>1</td>\n",
       "            <td>2022-11-28</td>\n",
       "            <td>2023-03-05</td>\n",
       "        </tr>\n",
       "        <tr>\n",
       "            <td>40</td>\n",
       "            <td>3</td>\n",
       "            <td>1</td>\n",
       "            <td>2023-01-18</td>\n",
       "            <td>2023-03-12</td>\n",
       "        </tr>\n",
       "        <tr>\n",
       "            <td>44</td>\n",
       "            <td>1</td>\n",
       "            <td>1</td>\n",
       "            <td>2023-02-03</td>\n",
       "            <td>2023-02-03</td>\n",
       "        </tr>\n",
       "        <tr>\n",
       "            <td>48</td>\n",
       "            <td>2</td>\n",
       "            <td>1</td>\n",
       "            <td>2022-12-22</td>\n",
       "            <td>2023-02-02</td>\n",
       "        </tr>\n",
       "        <tr>\n",
       "            <td>50</td>\n",
       "            <td>6</td>\n",
       "            <td>2</td>\n",
       "            <td>2022-12-12</td>\n",
       "            <td>2023-03-08</td>\n",
       "        </tr>\n",
       "        <tr>\n",
       "            <td>53</td>\n",
       "            <td>3</td>\n",
       "            <td>1</td>\n",
       "            <td>2022-12-11</td>\n",
       "            <td>2023-01-18</td>\n",
       "        </tr>\n",
       "        <tr>\n",
       "            <td>58</td>\n",
       "            <td>3</td>\n",
       "            <td>1</td>\n",
       "            <td>2022-12-14</td>\n",
       "            <td>2023-02-18</td>\n",
       "        </tr>\n",
       "        <tr>\n",
       "            <td>62</td>\n",
       "            <td>4</td>\n",
       "            <td>1</td>\n",
       "            <td>2022-12-15</td>\n",
       "            <td>2023-02-16</td>\n",
       "        </tr>\n",
       "        <tr>\n",
       "            <td>66</td>\n",
       "            <td>1</td>\n",
       "            <td>1</td>\n",
       "            <td>2022-12-25</td>\n",
       "            <td>2022-12-25</td>\n",
       "        </tr>\n",
       "        <tr>\n",
       "            <td>67</td>\n",
       "            <td>3</td>\n",
       "            <td>2</td>\n",
       "            <td>2022-12-18</td>\n",
       "            <td>2023-03-06</td>\n",
       "        </tr>\n",
       "        <tr>\n",
       "            <td>68</td>\n",
       "            <td>3</td>\n",
       "            <td>1</td>\n",
       "            <td>2022-12-07</td>\n",
       "            <td>2023-03-21</td>\n",
       "        </tr>\n",
       "        <tr>\n",
       "            <td>69</td>\n",
       "            <td>6</td>\n",
       "            <td>2</td>\n",
       "            <td>2022-11-25</td>\n",
       "            <td>2023-03-12</td>\n",
       "        </tr>\n",
       "        <tr>\n",
       "            <td>9</td>\n",
       "            <td>2</td>\n",
       "            <td>1</td>\n",
       "            <td>2023-02-09</td>\n",
       "            <td>2023-03-01</td>\n",
       "        </tr>\n",
       "    </tbody>\n",
       "</table>"
      ],
      "text/plain": [
       "[('10', 3, 1, '2022-11-25', '2023-01-18'),\n",
       " ('19', 1, 1, '2023-02-15', '2023-02-15'),\n",
       " ('2', 1, 1, '2022-11-23', '2022-11-23'),\n",
       " ('23', 4, 1, '2022-11-21', '2023-03-08'),\n",
       " ('24', 3, 1, '2022-11-29', '2023-01-13'),\n",
       " ('3', 2, 1, '2023-02-26', '2023-03-02'),\n",
       " ('30', 6, 2, '2022-11-27', '2023-02-08'),\n",
       " ('31', 5, 1, '2022-11-23', '2023-03-05'),\n",
       " ('32', 1, 1, '2023-03-19', '2023-03-19'),\n",
       " ('35', 2, 1, '2023-01-04', '2023-03-21'),\n",
       " ('38', 3, 1, '2022-12-17', '2023-03-04'),\n",
       " ('4', 4, 1, '2022-11-28', '2023-03-05'),\n",
       " ('40', 3, 1, '2023-01-18', '2023-03-12'),\n",
       " ('44', 1, 1, '2023-02-03', '2023-02-03'),\n",
       " ('48', 2, 1, '2022-12-22', '2023-02-02'),\n",
       " ('50', 6, 2, '2022-12-12', '2023-03-08'),\n",
       " ('53', 3, 1, '2022-12-11', '2023-01-18'),\n",
       " ('58', 3, 1, '2022-12-14', '2023-02-18'),\n",
       " ('62', 4, 1, '2022-12-15', '2023-02-16'),\n",
       " ('66', 1, 1, '2022-12-25', '2022-12-25'),\n",
       " ('67', 3, 2, '2022-12-18', '2023-03-06'),\n",
       " ('68', 3, 1, '2022-12-07', '2023-03-21'),\n",
       " ('69', 6, 2, '2022-11-25', '2023-03-12'),\n",
       " ('9', 2, 1, '2023-02-09', '2023-03-01')]"
      ]
     },
     "execution_count": 44,
     "metadata": {},
     "output_type": "execute_result"
    }
   ],
   "source": [
    "%sql SELECT * FROM conv_imp_view"
   ]
  },
  {
   "cell_type": "code",
   "execution_count": 45,
   "id": "de04142d-208b-4dde-aae0-c5131c5d9c8d",
   "metadata": {},
   "outputs": [
    {
     "name": "stdout",
     "output_type": "stream",
     "text": [
      " * sqlite:///mock_ad_data.db\n",
      "Done.\n"
     ]
    },
    {
     "data": {
      "text/html": [
       "<table>\n",
       "    <thead>\n",
       "        <tr>\n",
       "            <th>number_conversions</th>\n",
       "        </tr>\n",
       "    </thead>\n",
       "    <tbody>\n",
       "        <tr>\n",
       "            <td>24</td>\n",
       "        </tr>\n",
       "    </tbody>\n",
       "</table>"
      ],
      "text/plain": [
       "[(24,)]"
      ]
     },
     "execution_count": 45,
     "metadata": {},
     "output_type": "execute_result"
    }
   ],
   "source": [
    "%%sql\n",
    "SELECT COUNT(*) AS number_conversions\n",
    "FROM conv_imp_view"
   ]
  },
  {
   "cell_type": "code",
   "execution_count": null,
   "id": "c5b4ded2-e1f6-45ca-8f8a-93c2dde6e477",
   "metadata": {
    "tags": []
   },
   "outputs": [],
   "source": [
    "\n"
   ]
  },
  {
   "cell_type": "code",
   "execution_count": null,
   "id": "10c83e35-c95e-49fb-ae04-c5f8dad4ecbc",
   "metadata": {},
   "outputs": [],
   "source": []
  },
  {
   "cell_type": "code",
   "execution_count": null,
   "id": "d61d8f6f-9a21-4886-a66d-885040c34f77",
   "metadata": {},
   "outputs": [],
   "source": []
  },
  {
   "cell_type": "code",
   "execution_count": 1,
   "id": "2bb53358-52c2-4f54-a427-b791f534610b",
   "metadata": {
    "tags": []
   },
   "outputs": [],
   "source": []
  },
  {
   "cell_type": "code",
   "execution_count": 2,
   "id": "d37370cc-e015-444e-9b82-aacdfc825302",
   "metadata": {
    "tags": []
   },
   "outputs": [],
   "source": []
  },
  {
   "cell_type": "code",
   "execution_count": 3,
   "id": "545091a6-c84f-4e66-b74d-41ad08d3dd4b",
   "metadata": {
    "tags": []
   },
   "outputs": [],
   "source": []
  },
  {
   "cell_type": "code",
   "execution_count": 15,
   "id": "11de0479-d660-4d10-8130-dd61a71b1da1",
   "metadata": {
    "tags": []
   },
   "outputs": [
    {
     "data": {
      "text/html": [
       "<div>\n",
       "<style scoped>\n",
       "    .dataframe tbody tr th:only-of-type {\n",
       "        vertical-align: middle;\n",
       "    }\n",
       "\n",
       "    .dataframe tbody tr th {\n",
       "        vertical-align: top;\n",
       "    }\n",
       "\n",
       "    .dataframe thead th {\n",
       "        text-align: right;\n",
       "    }\n",
       "</style>\n",
       "<table border=\"1\" class=\"dataframe\">\n",
       "  <thead>\n",
       "    <tr style=\"text-align: right;\">\n",
       "      <th></th>\n",
       "      <th>date_partition</th>\n",
       "      <th>hour_of_day_utc</th>\n",
       "      <th>country_code</th>\n",
       "      <th>os_name</th>\n",
       "      <th>platform_type</th>\n",
       "      <th>imps</th>\n",
       "      <th>viewable_imps</th>\n",
       "      <th>clicks</th>\n",
       "      <th>reg_fin</th>\n",
       "      <th>ftd</th>\n",
       "      <th>deposit</th>\n",
       "      <th>spend_usd</th>\n",
       "    </tr>\n",
       "  </thead>\n",
       "  <tbody>\n",
       "    <tr>\n",
       "      <th>0</th>\n",
       "      <td>2022-12-02</td>\n",
       "      <td>4</td>\n",
       "      <td>BR</td>\n",
       "      <td>Android</td>\n",
       "      <td>website</td>\n",
       "      <td>263424.0</td>\n",
       "      <td>177356.0</td>\n",
       "      <td>964.0</td>\n",
       "      <td>27.0</td>\n",
       "      <td>20.0</td>\n",
       "      <td>197.0</td>\n",
       "      <td>178.62</td>\n",
       "    </tr>\n",
       "    <tr>\n",
       "      <th>1</th>\n",
       "      <td>2022-12-02</td>\n",
       "      <td>14</td>\n",
       "      <td>BR</td>\n",
       "      <td>Windows</td>\n",
       "      <td>website</td>\n",
       "      <td>206976.0</td>\n",
       "      <td>160251.0</td>\n",
       "      <td>509.0</td>\n",
       "      <td>14.0</td>\n",
       "      <td>12.0</td>\n",
       "      <td>128.0</td>\n",
       "      <td>122.47</td>\n",
       "    </tr>\n",
       "    <tr>\n",
       "      <th>2</th>\n",
       "      <td>2022-12-02</td>\n",
       "      <td>10</td>\n",
       "      <td>DE</td>\n",
       "      <td>Android</td>\n",
       "      <td>website</td>\n",
       "      <td>5790.0</td>\n",
       "      <td>4501.0</td>\n",
       "      <td>73.0</td>\n",
       "      <td>0.0</td>\n",
       "      <td>0.0</td>\n",
       "      <td>12.0</td>\n",
       "      <td>13.41</td>\n",
       "    </tr>\n",
       "    <tr>\n",
       "      <th>3</th>\n",
       "      <td>2022-12-02</td>\n",
       "      <td>9</td>\n",
       "      <td>IN</td>\n",
       "      <td>Android</td>\n",
       "      <td>website</td>\n",
       "      <td>376320.0</td>\n",
       "      <td>188159.0</td>\n",
       "      <td>1437.0</td>\n",
       "      <td>1.0</td>\n",
       "      <td>2.0</td>\n",
       "      <td>10.0</td>\n",
       "      <td>220.12</td>\n",
       "    </tr>\n",
       "    <tr>\n",
       "      <th>4</th>\n",
       "      <td>2022-12-02</td>\n",
       "      <td>1</td>\n",
       "      <td>KE</td>\n",
       "      <td>Android</td>\n",
       "      <td>website</td>\n",
       "      <td>34737.0</td>\n",
       "      <td>14405.0</td>\n",
       "      <td>36.0</td>\n",
       "      <td>1.0</td>\n",
       "      <td>0.0</td>\n",
       "      <td>11.0</td>\n",
       "      <td>24.42</td>\n",
       "    </tr>\n",
       "  </tbody>\n",
       "</table>\n",
       "</div>"
      ],
      "text/plain": [
       "  date_partition  hour_of_day_utc country_code  os_name platform_type  \\\n",
       "0     2022-12-02                4           BR  Android       website   \n",
       "1     2022-12-02               14           BR  Windows       website   \n",
       "2     2022-12-02               10           DE  Android       website   \n",
       "3     2022-12-02                9           IN  Android       website   \n",
       "4     2022-12-02                1           KE  Android       website   \n",
       "\n",
       "       imps  viewable_imps  clicks  reg_fin   ftd  deposit  spend_usd  \n",
       "0  263424.0       177356.0   964.0     27.0  20.0    197.0     178.62  \n",
       "1  206976.0       160251.0   509.0     14.0  12.0    128.0     122.47  \n",
       "2    5790.0         4501.0    73.0      0.0   0.0     12.0      13.41  \n",
       "3  376320.0       188159.0  1437.0      1.0   2.0     10.0     220.12  \n",
       "4   34737.0        14405.0    36.0      1.0   0.0     11.0      24.42  "
      ]
     },
     "execution_count": 15,
     "metadata": {},
     "output_type": "execute_result"
    }
   ],
   "source": [
    "import pandas as pd\n",
    "df = pd.read_csv('world_cup_data.csv')\n",
    "df.head()\n"
   ]
  },
  {
   "cell_type": "code",
   "execution_count": 17,
   "id": "5199a6fe-dbfe-4393-b995-1d6cfbfed5b5",
   "metadata": {
    "tags": []
   },
   "outputs": [
    {
     "data": {
      "text/plain": [
       "(659849, 12)"
      ]
     },
     "execution_count": 17,
     "metadata": {},
     "output_type": "execute_result"
    }
   ],
   "source": [
    "df.shape\n"
   ]
  },
  {
   "cell_type": "code",
   "execution_count": null,
   "id": "ec951bf7-4173-4573-965a-a7140a12bce7",
   "metadata": {},
   "outputs": [],
   "source": []
  }
 ],
 "metadata": {
  "kernelspec": {
   "display_name": "Python 3 (ipykernel)",
   "language": "python",
   "name": "python3"
  },
  "language_info": {
   "codemirror_mode": {
    "name": "ipython",
    "version": 3
   },
   "file_extension": ".py",
   "mimetype": "text/x-python",
   "name": "python",
   "nbconvert_exporter": "python",
   "pygments_lexer": "ipython3",
   "version": "3.11.7"
  }
 },
 "nbformat": 4,
 "nbformat_minor": 5
}
