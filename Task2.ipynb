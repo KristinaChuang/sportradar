{
 "cells": [
  {
   "cell_type": "markdown",
   "id": "dab8e2e6-56f4-4e55-b1f0-98e3c1278182",
   "metadata": {},
   "source": [
    "# TASK 2: World Cup 2022\n",
    "With Euros underway, it is a repetitive task for the team to produce insights around the\n",
    "importance of sporting events in Ads. Using the attached data, feel free to generate any insights\n",
    "you think is relevant around what we have seen at the World Cup in 2022 & how this could be\n",
    "interesting, below are some hints to help you get started\n",
    "- Q1: Which countries have the largest reduction in Cost per Acquistion (CPA) for different\n",
    "conversions during the World Cup compared to other date ranges available?\n",
    "- Q2: What insights could you present which clients might find interesting & encourage them to\n",
    "spend more on the next major sporting event?\n",
    "- Q3: Euro 2024 is currently underway; how could you adapt your analysis for this competition\n",
    "instead? Are there any insights or questions that would be more or less relevant?"
   ]
  },
  {
   "cell_type": "code",
   "execution_count": 2,
   "id": "1993a195-4f0a-4498-9799-563b2cddcb6b",
   "metadata": {},
   "outputs": [
    {
     "data": {
      "text/html": [
       "<div>\n",
       "<style scoped>\n",
       "    .dataframe tbody tr th:only-of-type {\n",
       "        vertical-align: middle;\n",
       "    }\n",
       "\n",
       "    .dataframe tbody tr th {\n",
       "        vertical-align: top;\n",
       "    }\n",
       "\n",
       "    .dataframe thead th {\n",
       "        text-align: right;\n",
       "    }\n",
       "</style>\n",
       "<table border=\"1\" class=\"dataframe\">\n",
       "  <thead>\n",
       "    <tr style=\"text-align: right;\">\n",
       "      <th></th>\n",
       "      <th>date_partition</th>\n",
       "      <th>hour_of_day_utc</th>\n",
       "      <th>country_code</th>\n",
       "      <th>os_name</th>\n",
       "      <th>platform_type</th>\n",
       "      <th>imps</th>\n",
       "      <th>viewable_imps</th>\n",
       "      <th>clicks</th>\n",
       "      <th>reg_fin</th>\n",
       "      <th>ftd</th>\n",
       "      <th>deposit</th>\n",
       "      <th>spend_usd</th>\n",
       "    </tr>\n",
       "  </thead>\n",
       "  <tbody>\n",
       "    <tr>\n",
       "      <th>0</th>\n",
       "      <td>2022-12-02</td>\n",
       "      <td>4</td>\n",
       "      <td>BR</td>\n",
       "      <td>Android</td>\n",
       "      <td>website</td>\n",
       "      <td>263424.0</td>\n",
       "      <td>177356.0</td>\n",
       "      <td>964.0</td>\n",
       "      <td>27.0</td>\n",
       "      <td>20.0</td>\n",
       "      <td>197.0</td>\n",
       "      <td>178.62</td>\n",
       "    </tr>\n",
       "    <tr>\n",
       "      <th>1</th>\n",
       "      <td>2022-12-02</td>\n",
       "      <td>14</td>\n",
       "      <td>BR</td>\n",
       "      <td>Windows</td>\n",
       "      <td>website</td>\n",
       "      <td>206976.0</td>\n",
       "      <td>160251.0</td>\n",
       "      <td>509.0</td>\n",
       "      <td>14.0</td>\n",
       "      <td>12.0</td>\n",
       "      <td>128.0</td>\n",
       "      <td>122.47</td>\n",
       "    </tr>\n",
       "    <tr>\n",
       "      <th>2</th>\n",
       "      <td>2022-12-02</td>\n",
       "      <td>10</td>\n",
       "      <td>DE</td>\n",
       "      <td>Android</td>\n",
       "      <td>website</td>\n",
       "      <td>5790.0</td>\n",
       "      <td>4501.0</td>\n",
       "      <td>73.0</td>\n",
       "      <td>0.0</td>\n",
       "      <td>0.0</td>\n",
       "      <td>12.0</td>\n",
       "      <td>13.41</td>\n",
       "    </tr>\n",
       "    <tr>\n",
       "      <th>3</th>\n",
       "      <td>2022-12-02</td>\n",
       "      <td>9</td>\n",
       "      <td>IN</td>\n",
       "      <td>Android</td>\n",
       "      <td>website</td>\n",
       "      <td>376320.0</td>\n",
       "      <td>188159.0</td>\n",
       "      <td>1437.0</td>\n",
       "      <td>1.0</td>\n",
       "      <td>2.0</td>\n",
       "      <td>10.0</td>\n",
       "      <td>220.12</td>\n",
       "    </tr>\n",
       "    <tr>\n",
       "      <th>4</th>\n",
       "      <td>2022-12-02</td>\n",
       "      <td>1</td>\n",
       "      <td>KE</td>\n",
       "      <td>Android</td>\n",
       "      <td>website</td>\n",
       "      <td>34737.0</td>\n",
       "      <td>14405.0</td>\n",
       "      <td>36.0</td>\n",
       "      <td>1.0</td>\n",
       "      <td>0.0</td>\n",
       "      <td>11.0</td>\n",
       "      <td>24.42</td>\n",
       "    </tr>\n",
       "  </tbody>\n",
       "</table>\n",
       "</div>"
      ],
      "text/plain": [
       "  date_partition  hour_of_day_utc country_code  os_name platform_type  \\\n",
       "0     2022-12-02                4           BR  Android       website   \n",
       "1     2022-12-02               14           BR  Windows       website   \n",
       "2     2022-12-02               10           DE  Android       website   \n",
       "3     2022-12-02                9           IN  Android       website   \n",
       "4     2022-12-02                1           KE  Android       website   \n",
       "\n",
       "       imps  viewable_imps  clicks  reg_fin   ftd  deposit  spend_usd  \n",
       "0  263424.0       177356.0   964.0     27.0  20.0    197.0     178.62  \n",
       "1  206976.0       160251.0   509.0     14.0  12.0    128.0     122.47  \n",
       "2    5790.0         4501.0    73.0      0.0   0.0     12.0      13.41  \n",
       "3  376320.0       188159.0  1437.0      1.0   2.0     10.0     220.12  \n",
       "4   34737.0        14405.0    36.0      1.0   0.0     11.0      24.42  "
      ]
     },
     "execution_count": 2,
     "metadata": {},
     "output_type": "execute_result"
    }
   ],
   "source": [
    "import pandas as pd\n",
    "df = pd.read_csv('data/world_cup_data.csv')\n",
    "df.head()\n"
   ]
  },
  {
   "cell_type": "code",
   "execution_count": 3,
   "id": "8bd2f313-926e-49a5-a62b-bb817787914d",
   "metadata": {},
   "outputs": [
    {
     "data": {
      "text/plain": [
       "(659849, 12)"
      ]
     },
     "execution_count": 3,
     "metadata": {},
     "output_type": "execute_result"
    }
   ],
   "source": [
    "df.shape"
   ]
  }
 ],
 "metadata": {
  "kernelspec": {
   "display_name": "Python 3 (ipykernel)",
   "language": "python",
   "name": "python3"
  },
  "language_info": {
   "codemirror_mode": {
    "name": "ipython",
    "version": 3
   },
   "file_extension": ".py",
   "mimetype": "text/x-python",
   "name": "python",
   "nbconvert_exporter": "python",
   "pygments_lexer": "ipython3",
   "version": "3.11.7"
  }
 },
 "nbformat": 4,
 "nbformat_minor": 5
}
